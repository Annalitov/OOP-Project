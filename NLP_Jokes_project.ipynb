{
 "cells": [
  {
   "cell_type": "code",
   "execution_count": 1,
   "metadata": {
    "ExecuteTime": {
     "end_time": "2022-10-06T12:14:52.497450Z",
     "start_time": "2022-10-06T12:14:51.596880Z"
    },
    "colab": {},
    "colab_type": "code",
    "id": "bM8gM6fakGhZ"
   },
   "outputs": [],
   "source": [
    "import pandas as pd\n",
    "import numpy as np\n",
    "\n",
    "import matplotlib.pyplot as plt\n",
    "%matplotlib inline"
   ]
  },
  {
   "cell_type": "markdown",
   "metadata": {
    "colab_type": "text",
    "id": "kXlh5S92khS-"
   },
   "source": [
    "# Initial EDA"
   ]
  },
  {
   "cell_type": "markdown",
   "metadata": {
    "colab_type": "text",
    "id": "iVc1n2-CtuCA"
   },
   "source": [
    "Let's load the dataset and explore some examples of jokes"
   ]
  },
  {
   "cell_type": "code",
   "execution_count": 2,
   "metadata": {
    "ExecuteTime": {
     "end_time": "2022-10-06T12:14:54.295114Z",
     "start_time": "2022-10-06T12:14:53.820308Z"
    },
    "colab": {
     "base_uri": "https://localhost:8080/",
     "height": 173
    },
    "colab_type": "code",
    "executionInfo": {
     "elapsed": 6738,
     "status": "ok",
     "timestamp": 1576681672337,
     "user": {
      "displayName": "Екатерина Григорьевна Воробьева",
      "photoUrl": "",
      "userId": "10024917321860360426"
     },
     "user_tz": -180
    },
    "id": "nMoHveCrkZHv",
    "outputId": "7a87df42-a71b-465b-987e-b58dcaf89252"
   },
   "outputs": [
    {
     "data": {
      "text/html": [
       "<div>\n",
       "<style scoped>\n",
       "    .dataframe tbody tr th:only-of-type {\n",
       "        vertical-align: middle;\n",
       "    }\n",
       "\n",
       "    .dataframe tbody tr th {\n",
       "        vertical-align: top;\n",
       "    }\n",
       "\n",
       "    .dataframe thead th {\n",
       "        text-align: right;\n",
       "    }\n",
       "</style>\n",
       "<table border=\"1\" class=\"dataframe\">\n",
       "  <thead>\n",
       "    <tr style=\"text-align: right;\">\n",
       "      <th></th>\n",
       "      <th>Joke</th>\n",
       "    </tr>\n",
       "    <tr>\n",
       "      <th>ID</th>\n",
       "      <th></th>\n",
       "    </tr>\n",
       "  </thead>\n",
       "  <tbody>\n",
       "    <tr>\n",
       "      <th>231655</th>\n",
       "      <td>What did the RAM stick say to the politician? I'm PC2!</td>\n",
       "    </tr>\n",
       "    <tr>\n",
       "      <th>231656</th>\n",
       "      <td>what do you call a play about victorian era menstruation? A period piece!</td>\n",
       "    </tr>\n",
       "    <tr>\n",
       "      <th>231657</th>\n",
       "      <td>Calculus should be taught in every high school around the world. It is such an integral field of math.</td>\n",
       "    </tr>\n",
       "  </tbody>\n",
       "</table>\n",
       "</div>"
      ],
      "text/plain": [
       "                                                                                                          Joke\n",
       "ID                                                                                                            \n",
       "231655                                                  What did the RAM stick say to the politician? I'm PC2!\n",
       "231656                               what do you call a play about victorian era menstruation? A period piece!\n",
       "231657  Calculus should be taught in every high school around the world. It is such an integral field of math."
      ]
     },
     "execution_count": 2,
     "metadata": {},
     "output_type": "execute_result"
    }
   ],
   "source": [
    "pd.set_option('max_colwidth', 200)\n",
    "\n",
    "df = pd.read_csv('shortjokes.csv', index_col=0, dtype=str)\n",
    "df.tail(3)"
   ]
  },
  {
   "cell_type": "code",
   "execution_count": 3,
   "metadata": {
    "ExecuteTime": {
     "end_time": "2022-10-06T12:15:03.703371Z",
     "start_time": "2022-10-06T12:15:03.293588Z"
    },
    "colab": {
     "base_uri": "https://localhost:8080/",
     "height": 336
    },
    "colab_type": "code",
    "executionInfo": {
     "elapsed": 5990,
     "status": "ok",
     "timestamp": 1576681672338,
     "user": {
      "displayName": "Екатерина Григорьевна Воробьева",
      "photoUrl": "",
      "userId": "10024917321860360426"
     },
     "user_tz": -180
    },
    "id": "jl3SyIY0kvWU",
    "outputId": "78f764ad-74bf-4e56-ac6f-6ecf9131fa7b"
   },
   "outputs": [
    {
     "data": {
      "image/png": "[encoded data removed]",
      "text/plain": [
       "<Figure size 720x360 with 1 Axes>"
      ]
     },
     "metadata": {
      "needs_background": "light"
     },
     "output_type": "display_data"
    }
   ],
   "source": [
    "df['length'] = df.Joke.map(len)\n",
    "plt.title('Lenghts distribution')\n",
    "df.length.hist(figsize=(10, 5), bins=30)\n",
    "plt.show()"
   ]
  },
  {
   "cell_type": "code",
   "execution_count": 4,
   "metadata": {
    "ExecuteTime": {
     "end_time": "2022-10-06T12:15:05.251639Z",
     "start_time": "2022-10-06T12:15:05.247684Z"
    },
    "colab": {
     "base_uri": "https://localhost:8080/",
     "height": 34
    },
    "colab_type": "code",
    "executionInfo": {
     "elapsed": 5302,
     "status": "ok",
     "timestamp": 1576681672338,
     "user": {
      "displayName": "Екатерина Григорьевна Воробьева",
      "photoUrl": "",
      "userId": "10024917321860360426"
     },
     "user_tz": -180
    },
    "id": "eahq0MzB82a5",
    "outputId": "eec251d7-e055-4100-b451-ba11483dbef9"
   },
   "outputs": [
    {
     "data": {
      "text/plain": [
       "200"
      ]
     },
     "execution_count": 4,
     "metadata": {},
     "output_type": "execute_result"
    }
   ],
   "source": [
    "maxlen = df.length.max()\n",
    "maxlen"
   ]
  },
  {
   "cell_type": "markdown",
   "metadata": {
    "colab_type": "text",
    "id": "i_o84iNMt8p4"
   },
   "source": [
    "There is a classic setup-punchline joke structure. Let's try to hind how common it is in our data.\n"
   ]
  },
  {
   "cell_type": "code",
   "execution_count": 5,
   "metadata": {
    "ExecuteTime": {
     "end_time": "2022-10-06T12:15:07.232487Z",
     "start_time": "2022-10-06T12:15:07.228509Z"
    },
    "colab": {
     "base_uri": "https://localhost:8080/",
     "height": 85
    },
    "colab_type": "code",
    "executionInfo": {
     "elapsed": 3943,
     "status": "ok",
     "timestamp": 1576681672340,
     "user": {
      "displayName": "Екатерина Григорьевна Воробьева",
      "photoUrl": "",
      "userId": "10024917321860360426"
     },
     "user_tz": -180
    },
    "id": "Bgt4_qmNpRLC",
    "outputId": "f6fb3a61-314b-43a6-fea6-da999d2932a4"
   },
   "outputs": [
    {
     "name": "stdout",
     "output_type": "stream",
     "text": [
      "Why was the musician arrested? He got in treble.\n",
      "Why do you call a Mexican midget a paragraph? ...because he's too short to be called an essay.\n",
      "I just met someone who was a steam-roller operator. He was such a flatterer.\n",
      "Someone tried to sell me a coffin today... I told them its the last thing I need.\n"
     ]
    }
   ],
   "source": [
    "print(df.Joke.iloc[6], df.Joke.iloc[119], df.Joke.iloc[1123], df.Joke.iloc[10001], sep='\\n')"
   ]
  },
  {
   "cell_type": "code",
   "execution_count": 6,
   "metadata": {
    "ExecuteTime": {
     "end_time": "2022-10-06T12:15:09.748110Z",
     "start_time": "2022-10-06T12:15:09.079091Z"
    },
    "colab": {},
    "colab_type": "code",
    "id": "EFqhaXlNw3Kz"
   },
   "outputs": [],
   "source": [
    "len(df.Joke[df.Joke.str.contains('[\\?]+', )])\n",
    "df['contains_?'] = df.Joke.str.contains('[\\?]+', )"
   ]
  },
  {
   "cell_type": "code",
   "execution_count": 7,
   "metadata": {
    "ExecuteTime": {
     "end_time": "2022-10-06T12:15:10.561192Z",
     "start_time": "2022-10-06T12:15:10.226990Z"
    },
    "colab": {
     "base_uri": "https://localhost:8080/",
     "height": 156
    },
    "colab_type": "code",
    "executionInfo": {
     "elapsed": 2985,
     "status": "ok",
     "timestamp": 1576681672760,
     "user": {
      "displayName": "Екатерина Григорьевна Воробьева",
      "photoUrl": "",
      "userId": "10024917321860360426"
     },
     "user_tz": -180
    },
    "id": "9FlVZKri4PU6",
    "outputId": "a9cb9bf8-e5a3-4d1d-8dd2-a2f0d92dccb9"
   },
   "outputs": [
    {
     "data": {
      "text/plain": [
       "ID\n",
       "37                                                                  Which gospel contains Jesus' parable about the shades of numbers? Math hue.\n",
       "41                                                                        What's Al-Qaeda's favorite American football team? The New York jets.\n",
       "42    INTERVIEWER: Why do you want to work here? ME: *crumbs tumbling from my mouth* Oh, I don't. I was just walking by and saw you had donuts.\n",
       "44                                                 Did you hear about the midget psychic who escaped from prison? He's a small medium at large.\n",
       "46                                    What's the difference between a car tyre, and 365 condoms? One's a Goodyear, an the other's a great year.\n",
       "Name: Joke, dtype: object"
      ]
     },
     "execution_count": 7,
     "metadata": {},
     "output_type": "execute_result"
    }
   ],
   "source": [
    "df.Joke[df.Joke.str.contains('[\\?]+', )][20:25]"
   ]
  },
  {
   "cell_type": "code",
   "execution_count": 8,
   "metadata": {
    "ExecuteTime": {
     "end_time": "2022-10-06T12:15:11.699182Z",
     "start_time": "2022-10-06T12:15:11.238740Z"
    },
    "colab": {
     "base_uri": "https://localhost:8080/",
     "height": 221
    },
    "colab_type": "code",
    "executionInfo": {
     "elapsed": 3347,
     "status": "ok",
     "timestamp": 1576681673921,
     "user": {
      "displayName": "Екатерина Григорьевна Воробьева",
      "photoUrl": "",
      "userId": "10024917321860360426"
     },
     "user_tz": -180
    },
    "id": "BZiS3n4YrAG5",
    "outputId": "8ebf8a79-1845-429d-f5b7-9e501e8ad9cb"
   },
   "outputs": [
    {
     "data": {
      "text/plain": [
       "what          29981\n",
       "why           15909\n",
       "how            9933\n",
       "what's         9091\n",
       "did            3779\n",
       "              ...  \n",
       "eggs              1\n",
       "please.           1\n",
       "leo               1\n",
       "universe's        1\n",
       "astronomy         1\n",
       "Name: Joke, Length: 5565, dtype: int64"
      ]
     },
     "execution_count": 8,
     "metadata": {},
     "output_type": "execute_result"
    }
   ],
   "source": [
    "df.Joke[df.Joke.str.contains('[\\?]+', )].map(lambda x: x.lower().split(' ')[0]).value_counts()"
   ]
  },
  {
   "cell_type": "code",
   "execution_count": 9,
   "metadata": {
    "ExecuteTime": {
     "end_time": "2022-10-06T12:15:12.702546Z",
     "start_time": "2022-10-06T12:15:12.178725Z"
    },
    "colab": {
     "base_uri": "https://localhost:8080/",
     "height": 204
    },
    "colab_type": "code",
    "executionInfo": {
     "elapsed": 2690,
     "status": "ok",
     "timestamp": 1576681673921,
     "user": {
      "displayName": "Екатерина Григорьевна Воробьева",
      "photoUrl": "",
      "userId": "10024917321860360426"
     },
     "user_tz": -180
    },
    "id": "qpc9oCabxSLy",
    "outputId": "2030ea89-eb42-42df-83d4-f1db3560ec98"
   },
   "outputs": [
    {
     "data": {
      "text/plain": [
       "(what, do)       13313\n",
       "(what's, the)     5805\n",
       "(what, did)       5158\n",
       "(why, did)        4584\n",
       "(how, do)         3955\n",
       "(what, is)        3749\n",
       "(did, you)        3635\n",
       "(why, do)         2584\n",
       "(how, many)       2491\n",
       "(what, does)      2233\n",
       "Name: Joke, dtype: int64"
      ]
     },
     "execution_count": 9,
     "metadata": {},
     "output_type": "execute_result"
    }
   ],
   "source": [
    "df.Joke[df.Joke.str.contains('[\\?]+', )].map(lambda x: tuple(x.lower().split(' ')[:2])).value_counts()[:10]"
   ]
  },
  {
   "cell_type": "markdown",
   "metadata": {
    "colab_type": "text",
    "id": "zPhRMj7LxbZq"
   },
   "source": [
    "As it seems, half of the jokes in the dataset are presented as setup-punchline in a form of question-answer. But not so straightforward jokes are presented aswell."
   ]
  },
  {
   "cell_type": "code",
   "execution_count": 10,
   "metadata": {
    "ExecuteTime": {
     "end_time": "2022-10-06T12:15:18.053856Z",
     "start_time": "2022-10-06T12:15:18.049990Z"
    },
    "colab": {
     "base_uri": "https://localhost:8080/",
     "height": 68
    },
    "colab_type": "code",
    "executionInfo": {
     "elapsed": 2440,
     "status": "ok",
     "timestamp": 1576681675337,
     "user": {
      "displayName": "Екатерина Григорьевна Воробьева",
      "photoUrl": "",
      "userId": "10024917321860360426"
     },
     "user_tz": -180
    },
    "id": "vL2L7EN8oufM",
    "outputId": "0b9fe11b-0f9f-45d9-aae1-9646feb710e0"
   },
   "outputs": [
    {
     "name": "stdout",
     "output_type": "stream",
     "text": [
      "You ever notice that the most dangerous thing about marijuana is getting caught with it?\n",
      "How to get a cop's attention\n",
      "Ted Cruz getting elected.\n"
     ]
    }
   ],
   "source": [
    "print(df.Joke.iloc[15], df.Joke.iloc[25], df.Joke.iloc[38], sep='\\n')"
   ]
  },
  {
   "cell_type": "markdown",
   "metadata": {
    "colab_type": "text",
    "id": "_84pdU35z3tP"
   },
   "source": [
    "# LSTM-based generation"
   ]
  },
  {
   "cell_type": "markdown",
   "metadata": {
    "colab_type": "text",
    "id": "ZTObmmugk8nH"
   },
   "source": [
    "## Char-based generation"
   ]
  },
  {
   "cell_type": "markdown",
   "metadata": {
    "colab_type": "text",
    "id": "vSNZAofglDc1"
   },
   "source": [
    "Tokenizing:"
   ]
  },
  {
   "cell_type": "code",
   "execution_count": 13,
   "metadata": {
    "ExecuteTime": {
     "end_time": "2022-10-06T12:16:07.220354Z",
     "start_time": "2022-10-06T12:15:38.626404Z"
    },
    "colab": {},
    "colab_type": "code",
    "id": "1UgXa-rv039c"
   },
   "outputs": [],
   "source": [
    "from nltk.tokenize import TweetTokenizer\n",
    "tk = TweetTokenizer(preserve_case=False, strip_handles=True, reduce_len=True)\n",
    "df['tokenized'] = df.Joke.map(tk.tokenize)"
   ]
  },
  {
   "cell_type": "code",
   "execution_count": 14,
   "metadata": {
    "ExecuteTime": {
     "end_time": "2022-10-06T12:16:15.581075Z",
     "start_time": "2022-10-06T12:16:15.479884Z"
    },
    "colab": {},
    "colab_type": "code",
    "id": "bXXFiAVEnuzJ"
   },
   "outputs": [],
   "source": [
    "BOS, EOS = ' ', '\\n'\n",
    "\n",
    "lines = df.Joke.apply(lambda line: BOS + line.replace(EOS, ' ') + EOS).tolist()"
   ]
  },
  {
   "cell_type": "code",
   "execution_count": 15,
   "metadata": {
    "ExecuteTime": {
     "end_time": "2022-10-06T12:16:20.973819Z",
     "start_time": "2022-10-06T12:16:17.381692Z"
    },
    "colab": {
     "base_uri": "https://localhost:8080/",
     "height": 83,
     "referenced_widgets": [
      "94fa80a9a2f8426b8374862e2125996c",
      "3b0212edb62343478df1d31dff2e5c57",
      "08189d5c3d7a47efb533e8794e84cbe7",
      "abba14b88f914cac8b798132165ca35e",
      "6b5540a2b156444d9d28cabb4a83cd22",
      "d552982bd5c942c48197e1ef0ed99376",
      "aa56a5a13a824f01bbc6d22063e1909b",
      "0dcf66c3542944029ae9537305958d86"
     ]
    },
    "colab_type": "code",
    "executionInfo": {
     "elapsed": 30925,
     "status": "ok",
     "timestamp": 1576606086770,
     "user": {
      "displayName": "Екатерина Григорьевна Воробьева",
      "photoUrl": "",
      "userId": "10024917321860360426"
     },
     "user_tz": -180
    },
    "id": "lnMvq_4M5O3Z",
    "outputId": "269986ba-2e4a-4d28-ecbf-03373f5c3f19"
   },
   "outputs": [
    {
     "name": "stderr",
     "output_type": "stream",
     "text": [
      "/Users/litleo/opt/miniconda3/lib/python3.7/site-packages/ipykernel_launcher.py:6: TqdmDeprecationWarning: This function will be removed in tqdm==5.0.0\n",
      "Please use `tqdm.notebook.tqdm` instead of `tqdm.tqdm_notebook`\n",
      "  \n"
     ]
    },
    {
     "data": {
      "application/vnd.jupyter.widget-view+json": {
       "model_id": "089bae3aed3544b286d4e4e46a219047",
       "version_major": 2,
       "version_minor": 0
      },
      "text/plain": [
       "HBox(children=(FloatProgress(value=0.0, max=231657.0), HTML(value='')))"
      ]
     },
     "metadata": {},
     "output_type": "display_data"
    },
    {
     "name": "stdout",
     "output_type": "stream",
     "text": [
      "\n",
      "n_tokens =  98\n"
     ]
    }
   ],
   "source": [
    "from tqdm import tqdm_notebook\n",
    "\n",
    "d = {}\n",
    "tokens = []\n",
    "\n",
    "for line in tqdm_notebook(lines):\n",
    "    for token in list(line):\n",
    "        if token not in d: \n",
    "            d[token] = 1\n",
    "            tokens.append(token)\n",
    "        else: d[token] += 1\n",
    "\n",
    "tokens = sorted(tokens)\n",
    "n_tokens = len(tokens)\n",
    "print ('n_tokens = ',n_tokens)\n",
    "\n",
    "assert BOS in tokens, EOS in tokens"
   ]
  },
  {
   "cell_type": "code",
   "execution_count": 16,
   "metadata": {
    "ExecuteTime": {
     "end_time": "2022-10-06T12:16:23.538757Z",
     "start_time": "2022-10-06T12:16:23.536202Z"
    },
    "colab": {},
    "colab_type": "code",
    "id": "IMtC3cmu8Tfu"
   },
   "outputs": [],
   "source": [
    "token_to_id = {}\n",
    "for ind, elem in enumerate(tokens):\n",
    "    token_to_id[elem] = ind"
   ]
  },
  {
   "cell_type": "code",
   "execution_count": 17,
   "metadata": {
    "ExecuteTime": {
     "end_time": "2022-10-06T12:16:24.315135Z",
     "start_time": "2022-10-06T12:16:24.311275Z"
    },
    "colab": {
     "base_uri": "https://localhost:8080/",
     "height": 34
    },
    "colab_type": "code",
    "executionInfo": {
     "elapsed": 30894,
     "status": "ok",
     "timestamp": 1576606086771,
     "user": {
      "displayName": "Екатерина Григорьевна Воробьева",
      "photoUrl": "",
      "userId": "10024917321860360426"
     },
     "user_tz": -180
    },
    "id": "aVCDrLVp9ag8",
    "outputId": "9d10996e-b3f8-44eb-dfde-4f5582b4b87c"
   },
   "outputs": [
    {
     "data": {
      "text/plain": [
       "[('\\x08', 0), ('\\n', 1), ('\\x10', 2), (' ', 3), ('!', 4)]"
      ]
     },
     "execution_count": 17,
     "metadata": {},
     "output_type": "execute_result"
    }
   ],
   "source": [
    "\n",
    "list(token_to_id.items())[:5]"
   ]
  },
  {
   "cell_type": "markdown",
   "metadata": {
    "colab_type": "text",
    "id": "bv9vXfMTlOMl"
   },
   "source": [
    "Forming a matrix:"
   ]
  },
  {
   "cell_type": "code",
   "execution_count": 18,
   "metadata": {
    "ExecuteTime": {
     "end_time": "2022-10-06T12:16:27.186181Z",
     "start_time": "2022-10-06T12:16:27.180892Z"
    },
    "colab": {},
    "colab_type": "code",
    "id": "d3G8EjMc8hZh"
   },
   "outputs": [],
   "source": [
    "def to_matrix(lines, max_len=None, pad=token_to_id[EOS], dtype='int32'):\n",
    "    \"\"\"Casts a list of lines into tf-digestable matrix\"\"\"\n",
    "    max_len = max_len or max(map(len, lines))\n",
    "    lines_ix = np.zeros([len(lines), max_len], dtype) + pad\n",
    "    for i in range(len(lines)):\n",
    "        line_ix = list(map(token_to_id.get, lines[i][:max_len]))\n",
    "        lines_ix[i, :len(line_ix)] = line_ix\n",
    "    return lines_ix"
   ]
  },
  {
   "cell_type": "code",
   "execution_count": 19,
   "metadata": {
    "ExecuteTime": {
     "end_time": "2022-10-06T12:16:27.912225Z",
     "start_time": "2022-10-06T12:16:27.907682Z"
    },
    "colab": {
     "base_uri": "https://localhost:8080/",
     "height": 85
    },
    "colab_type": "code",
    "executionInfo": {
     "elapsed": 30860,
     "status": "ok",
     "timestamp": 1576606086773,
     "user": {
      "displayName": "Екатерина Григорьевна Воробьева",
      "photoUrl": "",
      "userId": "10024917321860360426"
     },
     "user_tz": -180
    },
    "id": "AD73J4PG9D8k",
    "outputId": "75300363-cf7c-4449-ee38-66a246ca7d35"
   },
   "outputs": [
    {
     "name": "stdout",
     "output_type": "stream",
     "text": [
      "[[ 3 36  3 70 82 90  3 90 68 79 78 86  3 76 81 87 82  3 68  3 69 68 85 17\n",
      "  17 17  1  1  1  1  1  1  1  1  1  1  1  1]\n",
      " [ 3 58 75 68 87  3 71 82  3 92 82 88  3 70 68 79 79  3 68  3 83 76 85 68\n",
      "  87  3 82 81  3 68  3 83 79 68 76 81 34  1]]\n"
     ]
    }
   ],
   "source": [
    "dummy_lines = [\n",
    "    ' A cow walks into a bar...\\n',\n",
    "    ' What do you call a pirat on a plain?\\n'\n",
    "]\n",
    "print(to_matrix(dummy_lines))"
   ]
  },
  {
   "cell_type": "markdown",
   "metadata": {
    "colab_type": "text",
    "id": "2cCZd8PIley0"
   },
   "source": [
    "Firstly let's try to generate jokes using character level information:"
   ]
  },
  {
   "cell_type": "code",
   "execution_count": 20,
   "metadata": {
    "ExecuteTime": {
     "end_time": "2022-10-06T12:16:30.839325Z",
     "start_time": "2022-10-06T12:16:30.262374Z"
    },
    "colab": {},
    "colab_type": "code",
    "id": "1dkQeS4YlZDV"
   },
   "outputs": [],
   "source": [
    "import torch\n",
    "import torch.nn as nn\n",
    "import torch.nn.functional as F"
   ]
  },
  {
   "cell_type": "code",
   "execution_count": 21,
   "metadata": {
    "ExecuteTime": {
     "end_time": "2022-10-06T12:16:31.782696Z",
     "start_time": "2022-10-06T12:16:31.774335Z"
    },
    "colab": {},
    "colab_type": "code",
    "id": "KLPyl0fXlZDR"
   },
   "outputs": [],
   "source": [
    "class RNNLanguageModel(nn.Module):\n",
    "    def __init__(self, n_tokens=n_tokens, emb_size=16, hid_size=512, gpu = -1):\n",
    "        super(RNNLanguageModel, self).__init__()\n",
    "        \"\"\" \n",
    "        Build a recurrent language model.\n",
    "        \"\"\"\n",
    "        self.gpu = gpu\n",
    "        self.emb = nn.Embedding(n_tokens, emb_size)        \n",
    "        self.lstm = nn.LSTM(input_size = emb_size, hidden_size = hid_size, bidirectional = False, batch_first = True) \n",
    "        self.dense = nn.Linear(hid_size, n_tokens)        \n",
    "        self.next_token_probs = nn.Softmax(dim=2)\n",
    "\n",
    "        \n",
    "    \n",
    "    def forward(self, input_ix):\n",
    "        \"\"\"\n",
    "        compute language model logits given input tokens\n",
    "        :param input_ix: batch of sequences with token indices, tf tensor: int32[batch_size, sequence_length]\n",
    "        :returns: pre-softmax linear outputs of language model [batch_size, sequence_length, n_tokens]\n",
    "            these outputs will be used as logits to compute P(x_t | x_0, ..., x_{t - 1})\n",
    "        \"\"\"\n",
    "        \n",
    "        emb_ix = self.emb(input_ix)       \n",
    "        output, hidden = self.lstm(emb_ix)     \n",
    "        logits_ix = self.dense(output)\n",
    "        return logits_ix\n",
    "\n",
    "    def get_possible_next_tokens(self, prefix=BOS, temperature=1.0, max_len=100):\n",
    "        \"\"\" :returns: probabilities of next token, dict {token : prob} for all tokens \"\"\"\n",
    "        prefix_tensor = torch.from_numpy(to_matrix([prefix])).to(torch.int64)\n",
    "        prefix_tensor = to_gpu(prefix_tensor, self.gpu)        \n",
    "        probs = self.next_token_probs (self(prefix_tensor)).cpu().detach().numpy()\n",
    "        print(probs.shape)\n",
    "        print(probs[0])    \n",
    "        probs = probs[0][len(prefix) - 1]\n",
    "        del prefix_tensor\n",
    "        return dict(zip(tokens, list(probs)))"
   ]
  },
  {
   "cell_type": "code",
   "execution_count": 22,
   "metadata": {
    "ExecuteTime": {
     "end_time": "2022-10-06T12:16:37.617046Z",
     "start_time": "2022-10-06T12:16:37.614438Z"
    },
    "colab": {},
    "colab_type": "code",
    "id": "yoJyd6o5lZDO"
   },
   "outputs": [],
   "source": [
    "def to_gpu(tensor, gpu):   \n",
    "    if gpu > -1:\n",
    "        return tensor.cuda(device=gpu)\n",
    "    else:\n",
    "        return tensor.cpu()"
   ]
  },
  {
   "cell_type": "code",
   "execution_count": 23,
   "metadata": {
    "ExecuteTime": {
     "end_time": "2022-10-06T12:16:38.328091Z",
     "start_time": "2022-10-06T12:16:38.325095Z"
    },
    "colab": {},
    "colab_type": "code",
    "id": "gNXfjv7tlZDM"
   },
   "outputs": [],
   "source": [
    "def compute_lengths(input_ix, eos_ix=token_to_id[EOS]):\n",
    "    a = input_ix.eq(eos_ix)\n",
    "    count_eos = torch.cumsum(a, 1)\n",
    "    lengths = torch.sum(count_eos.eq(0), 1)\n",
    "    return lengths + 1 "
   ]
  },
  {
   "cell_type": "code",
   "execution_count": 24,
   "metadata": {
    "ExecuteTime": {
     "end_time": "2022-10-06T12:16:38.848286Z",
     "start_time": "2022-10-06T12:16:38.843195Z"
    },
    "colab": {},
    "colab_type": "code",
    "id": "iII8rC0olZDK"
   },
   "outputs": [],
   "source": [
    "def sequence_mask(lengths, maxlen, dtype=torch.bool):\n",
    "    \"\"\"\n",
    "    :param lenghts: array of size K, lenghts of input K lines\n",
    "    :param maxlen: number of steps in our case\n",
    "    \"\"\"\n",
    "    if maxlen is None:\n",
    "        maxlen = lengths.max()\n",
    "    cuda_check = lengths.is_cuda\n",
    "    if cuda_check:\n",
    "        cuda_device = lengths.get_device()\n",
    "    \n",
    "    one_tensor = torch.ones((len(lengths), maxlen))\n",
    "    if (cuda_check):\n",
    "        one_tensor = one_tensor.cuda(device=cuda_device)\n",
    "    \n",
    "    mask = ~(one_tensor.cumsum(dim=1).t() > lengths).t()\n",
    "    mask.type(dtype)\n",
    "    return mask"
   ]
  },
  {
   "cell_type": "code",
   "execution_count": 25,
   "metadata": {
    "ExecuteTime": {
     "end_time": "2022-10-06T12:16:39.739331Z",
     "start_time": "2022-10-06T12:16:39.735044Z"
    },
    "colab": {},
    "colab_type": "code",
    "id": "qLwYZcS3lZDI"
   },
   "outputs": [],
   "source": [
    "def compute_loss(logits, targets):\n",
    "    \"\"\"\n",
    "    :param model: language model that can compute next token logits given token indices\n",
    "    :param input ix: int32 matrix of tokens, shape: [batch_size, length]; padded with eos_ix\n",
    "    :return: scalar\n",
    "    \"\"\"\n",
    "    lengths = compute_lengths(targets)\n",
    "    logits = logits.permute(0, 2, 1)\n",
    "    m = nn.LogSoftmax(dim=1)\n",
    "\n",
    "\n",
    "    seq_m = sequence_mask(lengths=lengths, maxlen=m(logits).size()[2])\n",
    "    \n",
    "    criterion = nn.CrossEntropyLoss(reduction='none')\n",
    "\n",
    "    loss = criterion(m(logits), targets) \n",
    "    loss = seq_m * loss\n",
    "    \n",
    "    loss = torch.sum(loss, dim = 1)\n",
    "  \n",
    "    return torch.mean(loss)"
   ]
  },
  {
   "cell_type": "code",
   "execution_count": 26,
   "metadata": {
    "ExecuteTime": {
     "end_time": "2022-10-06T12:16:40.565819Z",
     "start_time": "2022-10-06T12:16:40.558102Z"
    },
    "colab": {},
    "colab_type": "code",
    "id": "cNSc8CwNlZDE"
   },
   "outputs": [],
   "source": [
    "def score_lines(dev_lines, batch_size, model):\n",
    "    \"\"\" computes average loss over the entire dataset \"\"\"\n",
    "    dev_loss_num, dev_loss_len = 0., 0.\n",
    "    for i in range(0, len(dev_lines), batch_size):\n",
    "        batch_ix = to_matrix(dev_lines[i: i + batch_size])\n",
    "        \n",
    "        tg = to_gpu(torch.from_numpy(batch_ix[:, 1:]).to(torch.int64), model.gpu)\n",
    "        \n",
    "        input_ = to_gpu(torch.from_numpy(batch_ix[:, :-1]).to(torch.int64), model.gpu).to(torch.int64)\n",
    "        \n",
    "        loss_i = compute_loss(model(input_), tg)\n",
    "        dev_loss_num += loss_i.cpu().detach().numpy() * len(batch_ix)\n",
    "        dev_loss_len += len(batch_ix)\n",
    "        del tg, input_, loss_i\n",
    "    return dev_loss_num / dev_loss_len\n",
    "\n",
    "def generate(lm, prefix=BOS, temperature=1.0, max_len=320):\n",
    "    \"\"\"\n",
    "    Samples output sequence from probability distribution obtained by lm\n",
    "    :param temperature: samples proportionally to lm probabilities ^ temperature\n",
    "        if temperature == 0, always takes most likely token. Break ties arbitrarily.\n",
    "    \"\"\"\n",
    "    while True:\n",
    "        token_probs = lm.get_possible_next_tokens(prefix)\n",
    "        tokens, probs = zip(*token_probs.items())\n",
    "        if temperature == 0:\n",
    "            next_token = tokens[np.argmax(probs)]\n",
    "        else:\n",
    "            probs = np.array([p ** (1. / temperature) for p in probs])\n",
    "            probs /= sum(probs)\n",
    "            next_token = np.random.choice(tokens, p=probs)\n",
    "        \n",
    "        prefix += next_token\n",
    "        if next_token == EOS or len(prefix) > max_len: break\n",
    "    return prefix"
   ]
  },
  {
   "cell_type": "code",
   "execution_count": 28,
   "metadata": {
    "ExecuteTime": {
     "end_time": "2022-10-06T12:16:48.626299Z",
     "start_time": "2022-10-06T12:16:48.616893Z"
    },
    "colab": {
     "base_uri": "https://localhost:8080/",
     "height": 119
    },
    "colab_type": "code",
    "executionInfo": {
     "elapsed": 15475,
     "status": "ok",
     "timestamp": 1576589840415,
     "user": {
      "displayName": "Екатерина Григорьевна Воробьева",
      "photoUrl": "",
      "userId": "10024917321860360426"
     },
     "user_tz": -180
    },
    "id": "t9NspGqmlZDB",
    "outputId": "152e57da-b9c9-4f4a-bcba-ea7fded78a99"
   },
   "outputs": [],
   "source": [
    "rnn_lm1 = RNNLanguageModel(gpu = 0)\n",
    "rnn_lm1.cuda(device = rnn_lm1.gpu)\n"
   ]
  },
  {
   "cell_type": "code",
   "execution_count": 29,
   "metadata": {
    "ExecuteTime": {
     "end_time": "2022-10-06T12:16:49.613907Z",
     "start_time": "2022-10-06T12:16:49.611606Z"
    },
    "colab": {},
    "colab_type": "code",
    "id": "xJC_ZADIlZC9"
   },
   "outputs": [],
   "source": [
    "from IPython.display import clear_output\n",
    "from random import sample\n",
    "from tqdm import trange, tnrange, tqdm_notebook"
   ]
  },
  {
   "cell_type": "code",
   "execution_count": 30,
   "metadata": {
    "ExecuteTime": {
     "end_time": "2022-10-06T12:16:50.087483Z",
     "start_time": "2022-10-06T12:16:50.018259Z"
    },
    "colab": {},
    "colab_type": "code",
    "id": "3LqMSY0JlZC7"
   },
   "outputs": [],
   "source": [
    "from sklearn.model_selection import train_test_split\n",
    "train_lines, dev_lines = train_test_split(lines, test_size=0.2, \n",
    "                                          random_state=42)"
   ]
  },
  {
   "cell_type": "code",
   "execution_count": 31,
   "metadata": {
    "ExecuteTime": {
     "end_time": "2022-10-06T12:16:51.740093Z",
     "start_time": "2022-10-06T12:16:51.604001Z"
    },
    "colab": {
     "base_uri": "https://localhost:8080/",
     "height": 308
    },
    "colab_type": "code",
    "executionInfo": {
     "elapsed": 30531,
     "status": "ok",
     "timestamp": 1576332883047,
     "user": {
      "displayName": "Leonid Litovchenko",
      "photoUrl": "",
      "userId": "15114235282102845217"
     },
     "user_tz": -180
    },
    "id": "c807p5HGlZC3",
    "outputId": "4603c593-015f-450a-a71f-58c70cb2f17e"
   },
   "outputs": [
    {
     "name": "stdout",
     "output_type": "stream",
     "text": [
      "/bin/sh: nvidia-smi: command not found\r\n"
     ]
    }
   ],
   "source": [
    "!nvidia-smi"
   ]
  },
  {
   "cell_type": "code",
   "execution_count": 32,
   "metadata": {
    "ExecuteTime": {
     "end_time": "2022-10-06T12:16:54.964208Z",
     "start_time": "2022-10-06T12:16:54.890134Z"
    },
    "colab": {
     "base_uri": "https://localhost:8080/",
     "height": 275,
     "referenced_widgets": [
      "f62b45f509e14a24b02b193046d2adb9",
      "d95cfa3f4d4b480dbc404a2b2984a579",
      "51cae2b068e54d14bf15a0cb0ad77a48",
      "0161b7b3ab234960a3729ca121b2eb5d",
      "4f813541ed2f4fdc8b3bb4ea248f5dd4",
      "7c7027979088493b9b54e96c0547a84d",
      "e0b35674e110435b8d6491d10d4b8ea2",
      "d68688def387492c86f61760da94a374"
     ]
    },
    "colab_type": "code",
    "executionInfo": {
     "elapsed": 287997,
     "status": "error",
     "timestamp": 1576334440381,
     "user": {
      "displayName": "Leonid Litovchenko",
      "photoUrl": "",
      "userId": "15114235282102845217"
     },
     "user_tz": -180
    },
    "id": "adQPd74plZC1",
    "outputId": "281fcc30-cb2b-4a7a-f294-0faf8593b92a"
   },
   "outputs": [
    {
     "name": "stderr",
     "output_type": "stream",
     "text": [
      "/Users/litleo/opt/miniconda3/lib/python3.7/site-packages/ipykernel_launcher.py:9: TqdmDeprecationWarning: This function will be removed in tqdm==5.0.0\n",
      "Please use `tqdm.notebook.tqdm` instead of `tqdm.tqdm_notebook`\n",
      "  if __name__ == '__main__':\n"
     ]
    },
    {
     "data": {
      "application/vnd.jupyter.widget-view+json": {
       "model_id": "fc4d9cc441384645af05c9c3ef44bfe8",
       "version_major": 2,
       "version_minor": 0
      },
      "text/plain": [
       "HBox(children=(FloatProgress(value=0.0, max=15000.0), HTML(value='')))"
      ]
     },
     "metadata": {},
     "output_type": "display_data"
    },
    {
     "name": "stdout",
     "output_type": "stream",
     "text": [
      "\n"
     ]
    },
    {
     "ename": "AssertionError",
     "evalue": "Torch not compiled with CUDA enabled",
     "output_type": "error",
     "traceback": [
      "\u001b[0;31m---------------------------------------------------------------------------\u001b[0m",
      "\u001b[0;31mAssertionError\u001b[0m                            Traceback (most recent call last)",
      "\u001b[0;32m<ipython-input-32-2d130762cb8f>\u001b[0m in \u001b[0;36m<module>\u001b[0;34m\u001b[0m\n\u001b[1;32m      9\u001b[0m \u001b[0;32mfor\u001b[0m \u001b[0mi\u001b[0m \u001b[0;32min\u001b[0m \u001b[0mtqdm_notebook\u001b[0m\u001b[0;34m(\u001b[0m\u001b[0mrange\u001b[0m\u001b[0;34m(\u001b[0m\u001b[0mlen\u001b[0m\u001b[0;34m(\u001b[0m\u001b[0mtrain_history\u001b[0m\u001b[0;34m)\u001b[0m\u001b[0;34m,\u001b[0m \u001b[0;36m15000\u001b[0m\u001b[0;34m)\u001b[0m\u001b[0;34m)\u001b[0m\u001b[0;34m:\u001b[0m\u001b[0;34m\u001b[0m\u001b[0;34m\u001b[0m\u001b[0m\n\u001b[1;32m     10\u001b[0m     \u001b[0mbatch\u001b[0m \u001b[0;34m=\u001b[0m \u001b[0mto_matrix\u001b[0m\u001b[0;34m(\u001b[0m\u001b[0msample\u001b[0m\u001b[0;34m(\u001b[0m\u001b[0mtrain_lines\u001b[0m\u001b[0;34m,\u001b[0m \u001b[0mbatch_size\u001b[0m\u001b[0;34m)\u001b[0m\u001b[0;34m)\u001b[0m\u001b[0;34m\u001b[0m\u001b[0;34m\u001b[0m\u001b[0m\n\u001b[0;32m---> 11\u001b[0;31m     \u001b[0mreal_answer\u001b[0m \u001b[0;34m=\u001b[0m \u001b[0mto_gpu\u001b[0m\u001b[0;34m(\u001b[0m\u001b[0mtorch\u001b[0m\u001b[0;34m.\u001b[0m\u001b[0mfrom_numpy\u001b[0m\u001b[0;34m(\u001b[0m\u001b[0mbatch\u001b[0m\u001b[0;34m[\u001b[0m\u001b[0;34m:\u001b[0m\u001b[0;34m,\u001b[0m \u001b[0;36m1\u001b[0m\u001b[0;34m:\u001b[0m\u001b[0;34m]\u001b[0m\u001b[0;34m)\u001b[0m\u001b[0;34m.\u001b[0m\u001b[0mto\u001b[0m\u001b[0;34m(\u001b[0m\u001b[0mtorch\u001b[0m\u001b[0;34m.\u001b[0m\u001b[0mint64\u001b[0m\u001b[0;34m)\u001b[0m\u001b[0;34m,\u001b[0m \u001b[0mrnn_lm1\u001b[0m\u001b[0;34m.\u001b[0m\u001b[0mgpu\u001b[0m\u001b[0;34m)\u001b[0m\u001b[0;34m\u001b[0m\u001b[0;34m\u001b[0m\u001b[0m\n\u001b[0m\u001b[1;32m     12\u001b[0m     \u001b[0minput_seq\u001b[0m \u001b[0;34m=\u001b[0m \u001b[0mto_gpu\u001b[0m\u001b[0;34m(\u001b[0m\u001b[0mtorch\u001b[0m\u001b[0;34m.\u001b[0m\u001b[0mfrom_numpy\u001b[0m\u001b[0;34m(\u001b[0m\u001b[0mbatch\u001b[0m\u001b[0;34m[\u001b[0m\u001b[0;34m:\u001b[0m\u001b[0;34m,\u001b[0m \u001b[0;34m:\u001b[0m\u001b[0;34m-\u001b[0m\u001b[0;36m1\u001b[0m\u001b[0;34m]\u001b[0m\u001b[0;34m)\u001b[0m\u001b[0;34m.\u001b[0m\u001b[0mto\u001b[0m\u001b[0;34m(\u001b[0m\u001b[0mtorch\u001b[0m\u001b[0;34m.\u001b[0m\u001b[0mint64\u001b[0m\u001b[0;34m)\u001b[0m\u001b[0;34m,\u001b[0m \u001b[0mrnn_lm1\u001b[0m\u001b[0;34m.\u001b[0m\u001b[0mgpu\u001b[0m\u001b[0;34m)\u001b[0m\u001b[0;34m.\u001b[0m\u001b[0mto\u001b[0m\u001b[0;34m(\u001b[0m\u001b[0mtorch\u001b[0m\u001b[0;34m.\u001b[0m\u001b[0mint64\u001b[0m\u001b[0;34m)\u001b[0m\u001b[0;34m\u001b[0m\u001b[0;34m\u001b[0m\u001b[0m\n\u001b[1;32m     13\u001b[0m     \u001b[0moptimizer\u001b[0m\u001b[0;34m.\u001b[0m\u001b[0mzero_grad\u001b[0m\u001b[0;34m(\u001b[0m\u001b[0;34m)\u001b[0m\u001b[0;34m\u001b[0m\u001b[0;34m\u001b[0m\u001b[0m\n",
      "\u001b[0;32m<ipython-input-22-643fa0052d22>\u001b[0m in \u001b[0;36mto_gpu\u001b[0;34m(tensor, gpu)\u001b[0m\n\u001b[1;32m      1\u001b[0m \u001b[0;32mdef\u001b[0m \u001b[0mto_gpu\u001b[0m\u001b[0;34m(\u001b[0m\u001b[0mtensor\u001b[0m\u001b[0;34m,\u001b[0m \u001b[0mgpu\u001b[0m\u001b[0;34m)\u001b[0m\u001b[0;34m:\u001b[0m\u001b[0;34m\u001b[0m\u001b[0;34m\u001b[0m\u001b[0m\n\u001b[1;32m      2\u001b[0m     \u001b[0;32mif\u001b[0m \u001b[0mgpu\u001b[0m \u001b[0;34m>\u001b[0m \u001b[0;34m-\u001b[0m\u001b[0;36m1\u001b[0m\u001b[0;34m:\u001b[0m\u001b[0;34m\u001b[0m\u001b[0;34m\u001b[0m\u001b[0m\n\u001b[0;32m----> 3\u001b[0;31m         \u001b[0;32mreturn\u001b[0m \u001b[0mtensor\u001b[0m\u001b[0;34m.\u001b[0m\u001b[0mcuda\u001b[0m\u001b[0;34m(\u001b[0m\u001b[0mdevice\u001b[0m\u001b[0;34m=\u001b[0m\u001b[0mgpu\u001b[0m\u001b[0;34m)\u001b[0m\u001b[0;34m\u001b[0m\u001b[0;34m\u001b[0m\u001b[0m\n\u001b[0m\u001b[1;32m      4\u001b[0m     \u001b[0;32melse\u001b[0m\u001b[0;34m:\u001b[0m\u001b[0;34m\u001b[0m\u001b[0;34m\u001b[0m\u001b[0m\n\u001b[1;32m      5\u001b[0m         \u001b[0;32mreturn\u001b[0m \u001b[0mtensor\u001b[0m\u001b[0;34m.\u001b[0m\u001b[0mcpu\u001b[0m\u001b[0;34m(\u001b[0m\u001b[0;34m)\u001b[0m\u001b[0;34m\u001b[0m\u001b[0;34m\u001b[0m\u001b[0m\n",
      "\u001b[0;32m~/opt/miniconda3/lib/python3.7/site-packages/torch/cuda/__init__.py\u001b[0m in \u001b[0;36m_lazy_init\u001b[0;34m()\u001b[0m\n\u001b[1;32m    162\u001b[0m                 \"multiprocessing, you must use the 'spawn' start method\")\n\u001b[1;32m    163\u001b[0m         \u001b[0;32mif\u001b[0m \u001b[0;32mnot\u001b[0m \u001b[0mhasattr\u001b[0m\u001b[0;34m(\u001b[0m\u001b[0mtorch\u001b[0m\u001b[0;34m.\u001b[0m\u001b[0m_C\u001b[0m\u001b[0;34m,\u001b[0m \u001b[0;34m'_cuda_getDeviceCount'\u001b[0m\u001b[0;34m)\u001b[0m\u001b[0;34m:\u001b[0m\u001b[0;34m\u001b[0m\u001b[0;34m\u001b[0m\u001b[0m\n\u001b[0;32m--> 164\u001b[0;31m             \u001b[0;32mraise\u001b[0m \u001b[0mAssertionError\u001b[0m\u001b[0;34m(\u001b[0m\u001b[0;34m\"Torch not compiled with CUDA enabled\"\u001b[0m\u001b[0;34m)\u001b[0m\u001b[0;34m\u001b[0m\u001b[0;34m\u001b[0m\u001b[0m\n\u001b[0m\u001b[1;32m    165\u001b[0m         \u001b[0;32mif\u001b[0m \u001b[0m_cudart\u001b[0m \u001b[0;32mis\u001b[0m \u001b[0;32mNone\u001b[0m\u001b[0;34m:\u001b[0m\u001b[0;34m\u001b[0m\u001b[0;34m\u001b[0m\u001b[0m\n\u001b[1;32m    166\u001b[0m             raise AssertionError(\n",
      "\u001b[0;31mAssertionError\u001b[0m: Torch not compiled with CUDA enabled"
     ]
    }
   ],
   "source": [
    "optimizer = torch.optim.Adam(rnn_lm1.parameters(), lr=0.003)\n",
    "\n",
    "batch_size = 256\n",
    "score_dev_every = 250\n",
    "train_history, dev_history = [], []\n",
    "\n",
    "# dev_history.append((0, score_lines(dev_lines, batch_size, rnn_lm1)))\n",
    "\n",
    "for i in tqdm_notebook(range(len(train_history), 15000)):\n",
    "    batch = to_matrix(sample(train_lines, batch_size))  \n",
    "    real_answer = to_gpu(torch.from_numpy(batch[:, 1:]).to(torch.int64), rnn_lm1.gpu)\n",
    "    input_seq = to_gpu(torch.from_numpy(batch[:, :-1]).to(torch.int64), rnn_lm1.gpu).to(torch.int64)\n",
    "    optimizer.zero_grad()\n",
    "    logits = rnn_lm1(input_seq)\n",
    "    loss_i = compute_loss(logits, real_answer)\n",
    "    train_history.append((i, loss_i.detach().cpu().numpy()))\n",
    "    \n",
    "    loss_i.backward()\n",
    "    optimizer.step()\n",
    "    \n",
    "    \n",
    "    if (i + 1) % 50 == 0:\n",
    "        clear_output(True)\n",
    "        plt.scatter(*zip(*train_history), alpha=0.1, label='train_loss')\n",
    "        if len(dev_history):\n",
    "            plt.plot(*zip(*dev_history), color='red', label='dev_loss')\n",
    "        plt.legend(); plt.grid(); plt.show()\n",
    "        print(\"Generated examples (tau=0.5):\")\n",
    "        print (loss_i)\n",
    "        for j in range(3):\n",
    "            print(generate(rnn_lm1, temperature=0.5))\n",
    "    \n",
    "    if (i + 1) % score_dev_every == 0:\n",
    "        print(\"Scoring dev...\")\n",
    "        dev_history.append((i, score_lines(dev_lines, batch_size, rnn_lm1)))\n",
    "        print('#%i Dev loss: %.3f' % dev_history[-1])\n",
    "    del logits, input_seq, loss_i"
   ]
  },
  {
   "cell_type": "markdown",
   "metadata": {
    "colab_type": "text",
    "id": "vbm1NUq3lZCy"
   },
   "source": [
    "\n",
    "\n",
    "```\n",
    "# This is formatted as code\n",
    "```\n",
    "\n",
    "Now let's explore, what we can generate so far"
   ]
  },
  {
   "cell_type": "code",
   "execution_count": null,
   "metadata": {
    "colab": {
     "base_uri": "https://localhost:8080/",
     "height": 128
    },
    "colab_type": "code",
    "executionInfo": {
     "elapsed": 5754,
     "status": "ok",
     "timestamp": 1576277824131,
     "user": {
      "displayName": "Leonid Litovchenko",
      "photoUrl": "",
      "userId": "15114235282102845217"
     },
     "user_tz": -180
    },
    "id": "h54cSbqllZCt",
    "outputId": "9913ca3a-de59-47e1-abfe-77d6176d78d1"
   },
   "outputs": [
    {
     "name": "stdout",
     "output_type": "stream",
     "text": [
      "What do you call a back and the man and the bately the really can and the presidents the problem and the store the man and the people and the be the bar and the contind the car the party wife the be the man the car the seat the see the car and an are he can the be a bar and the country the bate the think I can and the\n",
      "I think I want the back the more the bar in the bring the countries and the baby it was a bar to she was the be and the best back the see the bartender with a back the first first more and the people the be and the baby and the car the people the difference between a little conters is the person the other the man the m\n",
      "What do you call a say to the start the like and a birth the car and the think it was a start and the bar and it was like the bank and the player that it was a bar and the first really can says \"What was a bar and the people the be the people and a bar the party should have a people and the both and the man what do you\n",
      "What do you call a bar be see the complete is the man and a hands the start and the first way the bar and the sex in the really can and the first think they was a haun it is the car the first be the bar and the bartender the man the other thing the baby the difference between a car the problem is the bits.\n",
      "What do you call a bar and the first more the man that was the but I said the baby the countries and the other car and a complete and the be and the more the play can and the be the like and the complete and the bar.\n"
     ]
    }
   ],
   "source": [
    "for i in range(5):\n",
    "    print(generate(rnn_lm1, temperature=0.25).strip())"
   ]
  },
  {
   "cell_type": "code",
   "execution_count": null,
   "metadata": {
    "colab": {
     "base_uri": "https://localhost:8080/",
     "height": 128
    },
    "colab_type": "code",
    "executionInfo": {
     "elapsed": 3696,
     "status": "ok",
     "timestamp": 1576277801963,
     "user": {
      "displayName": "Leonid Litovchenko",
      "photoUrl": "",
      "userId": "15114235282102845217"
     },
     "user_tz": -180
    },
    "id": "JakG3zoXlZCn",
    "outputId": "cb1f6e2b-ca54-4168-a0ea-0043fbdb0a95"
   },
   "outputs": [
    {
     "name": "stdout",
     "output_type": "stream",
     "text": [
      "I was like the Unically do a burn the difference between a bar and the proper so an it in a black cook full of his beer and who has a black in the baby car to the man his other and who was in the start of the milyou me lettiout a woman dickle the le it to change the wife. I could know it.\n",
      "Why do you like the bahs the worse and of the man and he was the room the fuck in the people and hat if you guy is a busue and a before the onic be the people carted Halling of a race the restrice and the black with the be her one to have to chanted like they says it say and a bar to change the fight have being a littl\n",
      "What do you call a car to get a really can't people what is my gun walking out of the door. They should\n",
      "What do you call a said the favorite that facts that say it is car is a do the more that it and the doctor is at the black her in the words the time for a good and the sound the counting and the difference this on it.\n",
      "How do you can and the peet is all the hard and the before you be a bar in the car.\n"
     ]
    }
   ],
   "source": [
    "for i in range(5):\n",
    "    print(generate(rnn_lm1, temperature=0.5).strip())"
   ]
  },
  {
   "cell_type": "code",
   "execution_count": null,
   "metadata": {
    "colab": {
     "base_uri": "https://localhost:8080/",
     "height": 128
    },
    "colab_type": "code",
    "executionInfo": {
     "elapsed": 2949,
     "status": "ok",
     "timestamp": 1576277841906,
     "user": {
      "displayName": "Leonid Litovchenko",
      "photoUrl": "",
      "userId": "15114235282102845217"
     },
     "user_tz": -180
    },
    "id": "0mbuvZEKlZCe",
    "outputId": "9fa37a5b-ae84-49df-97e9-ceef08870fca"
   },
   "outputs": [
    {
     "name": "stdout",
     "output_type": "stream",
     "text": [
      "How do you bans in the man are the flame to like a To windowber on a replied to she was are of the greetle was the really could have I sition the need from their take a From Mob tha can hate.\n",
      "Doctor that was in the piece your something only through a life being He can this man after that uncyclives the pants.\n",
      "Did you hear appear next that and the big chicken is the Do cook. Any porns and have broke she was so parmplayer that are he traft country, and the put up that poor beer at him has the difference between mother with Trump with a back of the Evidend working out the Bir and the cupian drop \"After.\n",
      "Why did the OJ are firit much forgot mister about a people and a leved? This.\n",
      "How do an the Would be gat I'd out of the common is a blound a childrented and them have to the wora? He was accidentise says \"Who was turn in him counts and to get it that this bamp hards.\n"
     ]
    }
   ],
   "source": [
    "for i in range(5):\n",
    "    print(generate(rnn_lm1, temperature=0.75).strip())"
   ]
  },
  {
   "cell_type": "markdown",
   "metadata": {
    "colab_type": "text",
    "id": "mdcTit4JlZCa"
   },
   "source": [
    "Seems that with low temperature net stucks on \"What do you call\" and \"I was going to\" structures. Other hand-picked emaples are presented bellow"
   ]
  },
  {
   "cell_type": "code",
   "execution_count": null,
   "metadata": {
    "colab": {},
    "colab_type": "code",
    "id": "avGdfGt1lZCE"
   },
   "outputs": [],
   "source": [
    "t25_examples = [\n",
    "' What do you call a woman with two black people? A prostitute.',\n",
    "' What do you call a black man with a dick? A snake they were too long.',\n",
    "\" What do you call a black man who has a straight walk on a bike? A student says \\\"I don't know.\\\" \\\"Why?\\\" \\\"I don't know, I'm sorry but I didn't know it's the one with the sign on the side!\\\"\",\n",
    "' What do you call a man with no arms? A pilot.',\n",
    "' What do you call a fat girl? A pilot.',\n",
    "' What do you call a police officer that likes to take a straight condition? A pilot.'\n",
    "]\n",
    "\n",
    "t50_examples = [\n",
    "' What do you call a man with a tree? A homeless parent!',\n",
    "' What did the sandwich say to the piano? The waiter is the best police suspect.',\n",
    "' Why did the chicken cross the road? To get to the other side!',\n",
    "' When is it called the bees? A horse',\n",
    "' Why do most people have sex with his brother? Because it\\'s been dead.',\n",
    "' What do you call a cow with no legs? Deprecating your resumes.'\n",
    "]\n",
    "\n",
    "t75_examples = [\n",
    "' Me: What\\'s your favourite movie?\" \"What are you doing?\" \"Where\\'s the house?\"',\n",
    "' A horse walks into a bar and the other one day caught for you.',\n",
    "' What\\'s the difference between a baby and a drama? Starbucks hand stones',\n",
    "' Why did the two monster kicked back so good at the Pope? Because it was delicious here, one of the fortunes.',\n",
    "' Knock Knock! Who\\'s there? Kevin Bun Hoover.',\n",
    "' Customer: Why do you meant to the fact that I have a bad athletic? The popcorn!'\n",
    "]"
   ]
  },
  {
   "cell_type": "markdown",
   "metadata": {
    "colab_type": "text",
    "id": "ZP1G6uf9fSK5"
   },
   "source": [
    "## Word-based generation\n",
    "\n",
    "As char-based jokes appeared to be not that funny, let's try word-level now!\n",
    "\n"
   ]
  },
  {
   "cell_type": "code",
   "execution_count": null,
   "metadata": {
    "colab": {},
    "colab_type": "code",
    "id": "wMzdRcqTjJvp"
   },
   "outputs": [],
   "source": [
    "import torch\n",
    "import torch.nn as nn\n",
    "import torch.nn.functional as F\n",
    "\n",
    "from IPython.display import clear_output\n",
    "from random import sample\n",
    "from tqdm import tqdm, trange, tnrange, tqdm_notebook\n",
    "import sys"
   ]
  },
  {
   "cell_type": "code",
   "execution_count": null,
   "metadata": {
    "colab": {
     "base_uri": "https://localhost:8080/",
     "height": 83,
     "referenced_widgets": [
      "25b6c0979f34465baf269e91933b290c",
      "cd992671ac554abbaf3c372ee6f3204b",
      "93430f35d5b7403b91ef3c805fc165da",
      "0d5d4829547540ab81d7fdfafbffab3e",
      "80487e21eb3a4a59b5866a011b1e3cbc",
      "29afa8cf922c4d0a8f9536c2c357049c",
      "2fcac953c1e24f4fbf92de4ce317c1cf",
      "91943cb526ef4ca9b8a7ac0221f1a90a"
     ]
    },
    "colab_type": "code",
    "executionInfo": {
     "elapsed": 14451,
     "status": "ok",
     "timestamp": 1576531680512,
     "user": {
      "displayName": "Leonid Litovchenko",
      "photoUrl": "",
      "userId": "15114235282102845217"
     },
     "user_tz": -180
    },
    "id": "cnT_0gf_gb3P",
    "outputId": "612cdd5c-b68a-481a-f7ef-c981fbc0f273"
   },
   "outputs": [
    {
     "data": {
      "application/vnd.jupyter.widget-view+json": {
       "model_id": "25b6c0979f34465baf269e91933b290c",
       "version_major": 2,
       "version_minor": 0
      },
      "text/plain": [
       "HBox(children=(IntProgress(value=0, max=231657), HTML(value='')))"
      ]
     },
     "metadata": {
      "tags": []
     },
     "output_type": "display_data"
    },
    {
     "name": "stdout",
     "output_type": "stream",
     "text": [
      "\n"
     ]
    },
    {
     "data": {
      "text/plain": [
       "75139"
      ]
     },
     "execution_count": 21,
     "metadata": {
      "tags": []
     },
     "output_type": "execute_result"
    }
   ],
   "source": [
    "vocab = set()\n",
    "texts = []\n",
    "for words in tqdm_notebook(df.tokenized):\n",
    "        vocab.update(words)\n",
    "        texts.append(words)\n",
    "len(vocab)"
   ]
  },
  {
   "cell_type": "code",
   "execution_count": null,
   "metadata": {
    "colab": {},
    "colab_type": "code",
    "id": "wzIxYKOchJaH"
   },
   "outputs": [],
   "source": [
    "def to_matrix(lines, vocab, max_len=None, dtype='int32'):\n",
    "    if isinstance(lines, str):\n",
    "         lines = lines.split(' ')\n",
    "\n",
    "    \"\"\"Casts a list of lines into a matrix\"\"\"\n",
    "    pad = vocab['EOS']\n",
    "    max_len = max_len or max(map(len, lines))\n",
    "    lines_ix = np.zeros([len(lines), max_len], dtype) + pad\n",
    "    for i in range(len(lines)):\n",
    "        line_ix = [vocab.get(l, vocab['UNK']) for l in lines[i]]\n",
    "        lines_ix[i, :len(line_ix)] = line_ix\n",
    "    lines_ix = torch.LongTensor(lines_ix)\n",
    "    return lines_ix"
   ]
  },
  {
   "cell_type": "markdown",
   "metadata": {
    "colab_type": "text",
    "id": "7YWPHxRSf_k_"
   },
   "source": [
    "### GLoVe embeddings"
   ]
  },
  {
   "cell_type": "markdown",
   "metadata": {
    "colab_type": "text",
    "id": "UHDMI8EUmE0a"
   },
   "source": [
    "For this model we will use pretrained GloVe embeddings."
   ]
  },
  {
   "cell_type": "code",
   "execution_count": null,
   "metadata": {
    "colab": {},
    "colab_type": "code",
    "id": "NQsbLRmxhC2Z"
   },
   "outputs": [],
   "source": [
    "# load the embeddings\n",
    "def load_embeddings(emb_path, vocab):\n",
    "    clf_embeddings = {}\n",
    "    emb_vocab = set()\n",
    "    for line in open(emb_path):\n",
    "        line = line.strip('\\n').split()\n",
    "        word, emb = line[0], line[1:]\n",
    "        emb = [float(e) for e in emb]\n",
    "        if word in vocab:\n",
    "            clf_embeddings[word] = emb\n",
    "    for w in vocab:\n",
    "        if w in clf_embeddings:\n",
    "            emb_vocab.add(w)\n",
    "    word2idx = {w: idx for (idx, w) in enumerate(emb_vocab)}\n",
    "    max_val = max(word2idx.values())\n",
    "    \n",
    "    word2idx['EOS'] = max_val + 1\n",
    "    word2idx['SOS'] = max_val + 2\n",
    "    word2idx['UNK'] = max_val + 3\n",
    "    \n",
    "    emb_dim = len(list(clf_embeddings.values())[0])\n",
    "    clf_embeddings['UNK'] = [0.0 for i in range(emb_dim)]\n",
    "    clf_embeddings['EOS'] = [0.0 for i in range(emb_dim)]\n",
    "    clf_embeddings['SOS'] = [0.0 for i in range(emb_dim)]\n",
    "    embeddings = [[] for i in range(len(word2idx))]\n",
    "    for w in word2idx:\n",
    "        embeddings[word2idx[w]] = clf_embeddings[w]\n",
    "    embeddings = torch.Tensor(embeddings)\n",
    "    return embeddings, word2idx\n",
    "embeddings, vocab = load_embeddings('glove.6B.300d.txt', vocab)"
   ]
  },
  {
   "cell_type": "code",
   "execution_count": null,
   "metadata": {
    "colab": {},
    "colab_type": "code",
    "id": "PIYtKMsNtpjY"
   },
   "outputs": [],
   "source": [
    "tokens = list(vocab.keys())"
   ]
  },
  {
   "cell_type": "code",
   "execution_count": null,
   "metadata": {
    "colab": {},
    "colab_type": "code",
    "id": "CpVT58vSfRiq"
   },
   "outputs": [],
   "source": [
    "class EMBW_LSTM(nn.Module):\n",
    "    def __init__(self, n_tokens=len(vocab), hid_size=512, gpu = -1):\n",
    "        super(EMBW_LSTM, self).__init__()\n",
    "        \"\"\" \n",
    "        Build a recurrent language model.\n",
    "        \"\"\"\n",
    "        self.gpu = gpu\n",
    "        self.embedding = nn.Embedding.from_pretrained(embeddings)\n",
    "        self.embedding.weight.requires_grad = False       \n",
    "        self.lstm = nn.LSTM(input_size=self.embedding.embedding_dim, hidden_size=hid_size,\n",
    "                            bidirectional=False, batch_first=True) \n",
    "        self.dense = nn.Linear(hid_size, n_tokens)        \n",
    "        self.next_token_probs = nn.Softmax(dim=2)\n",
    "\n",
    "        \n",
    "    \n",
    "    def forward(self, input_ix):\n",
    "        \"\"\"\n",
    "        compute language model logits given input tokens\n",
    "        :param input_ix: batch of sequences with token indices, tf tensor: int32[batch_size, sequence_length]\n",
    "        :returns: pre-softmax linear outputs of language model [batch_size, sequence_length, n_tokens]\n",
    "            these outputs will be used as logits to compute P(x_t | x_0, ..., x_{t - 1})\n",
    "        \"\"\"\n",
    "        \n",
    "        emb_ix = self.embedding(input_ix)       \n",
    "        output, hidden = self.lstm(emb_ix)     \n",
    "        logits_ix = self.dense(output)\n",
    "        return logits_ix\n",
    "\n",
    "    def get_possible_next_tokens(self, prefix=['SOS'], temperature=1.0, max_len=100):\n",
    "        \"\"\" :returns: probabilities of next token, dict {token : prob} for all tokens \"\"\"\n",
    "        prefix_tensor = (to_matrix([prefix], vocab)).to(torch.int64)\n",
    "        prefix_tensor = to_gpu(prefix_tensor, self.gpu)        \n",
    "        probs = self.next_token_probs(self(prefix_tensor)).cpu().detach().numpy()  \n",
    "        # print(probs.shape)\n",
    "        # print(probs)  \n",
    "        probs = probs[0][len(prefix) - 1]\n",
    "        del prefix_tensor\n",
    "        return dict(zip(tokens, list(probs)))"
   ]
  },
  {
   "cell_type": "code",
   "execution_count": null,
   "metadata": {
    "colab": {},
    "colab_type": "code",
    "id": "7tAUA0v_mg7G"
   },
   "outputs": [],
   "source": [
    "def to_gpu(tensor, gpu):   \n",
    "    if gpu > -1:\n",
    "        return tensor.cuda(device=gpu)\n",
    "    else:\n",
    "        return tensor.cpu()"
   ]
  },
  {
   "cell_type": "code",
   "execution_count": null,
   "metadata": {
    "colab": {},
    "colab_type": "code",
    "id": "Pd6Ilu6Bmg7M"
   },
   "outputs": [],
   "source": [
    "def compute_lengths(input_ix, eos_ix=vocab['EOS']):\n",
    "    a = input_ix.eq(eos_ix)\n",
    "    count_eos = torch.cumsum(a, 1)\n",
    "    lengths = torch.sum(count_eos.eq(0), 1)\n",
    "    return lengths + 1 "
   ]
  },
  {
   "cell_type": "code",
   "execution_count": null,
   "metadata": {
    "colab": {},
    "colab_type": "code",
    "id": "e8HjLhB7mg7S"
   },
   "outputs": [],
   "source": [
    "def sequence_mask(lengths, maxlen, dtype=torch.bool):\n",
    "    \"\"\"\n",
    "    :param lenghts: array of size K, lenghts of input K lines\n",
    "    :param maxlen: number of steps in our case\n",
    "    \"\"\"\n",
    "    if maxlen is None:\n",
    "        maxlen = lengths.max()\n",
    "    cuda_check = lengths.is_cuda\n",
    "    if cuda_check:\n",
    "        cuda_device = lengths.get_device()\n",
    "    \n",
    "    one_tensor = torch.ones((len(lengths), maxlen))\n",
    "    if (cuda_check):\n",
    "        one_tensor = one_tensor.cuda(device=cuda_device)\n",
    "    \n",
    "    mask = ~(one_tensor.cumsum(dim=1).t() > lengths).t()\n",
    "    mask.type(dtype)\n",
    "    return mask"
   ]
  },
  {
   "cell_type": "code",
   "execution_count": null,
   "metadata": {
    "colab": {},
    "colab_type": "code",
    "id": "aZR-tECUmg7Z"
   },
   "outputs": [],
   "source": [
    "def compute_loss(logits, targets):\n",
    "    \"\"\"\n",
    "    :param model: language model that can compute next token logits given token indices\n",
    "    :param input ix: int32 matrix of tokens, shape: [batch_size, length]; padded with eos_ix\n",
    "    :return: scalar\n",
    "    \"\"\"\n",
    "    lengths = compute_lengths(targets)\n",
    "    logits = logits.permute(0, 2, 1)\n",
    "    m = nn.LogSoftmax(dim=1)\n",
    "\n",
    "\n",
    "    seq_m = sequence_mask(lengths=lengths, maxlen=m(logits).size()[2])\n",
    "    \n",
    "    criterion = nn.CrossEntropyLoss(reduction='none')\n",
    "\n",
    "    loss = criterion(m(logits), targets) \n",
    "    loss = seq_m * loss\n",
    "    \n",
    "    loss = torch.sum(loss, dim = 1)\n",
    "  \n",
    "    return torch.mean(loss)"
   ]
  },
  {
   "cell_type": "code",
   "execution_count": null,
   "metadata": {
    "colab": {},
    "colab_type": "code",
    "id": "VyNqVYXkmg7b"
   },
   "outputs": [],
   "source": [
    "def score_lines(dev_lines, batch_size, model):\n",
    "    \"\"\" computes average loss over the entire dataset \"\"\"\n",
    "    dev_loss_num, dev_loss_len = 0., 0.\n",
    "    for i in range(0, len(dev_lines), batch_size):\n",
    "        batch_ix = to_matrix(dev_lines[i: i + batch_size], vocab)\n",
    "        \n",
    "        tg = to_gpu((batch_ix[:, 1:]).to(torch.int64), model.gpu)\n",
    "        \n",
    "        input_ = to_gpu((batch_ix[:, :-1]).to(torch.int64), model.gpu).to(torch.int64)\n",
    "        \n",
    "        loss_i = compute_loss(model(input_), tg)\n",
    "        dev_loss_num += loss_i.cpu().detach().numpy() * len(batch_ix)\n",
    "        dev_loss_len += len(batch_ix)\n",
    "        del tg, input_, loss_i\n",
    "    return dev_loss_num / dev_loss_len\n",
    "\n",
    "def generate(lm, prefix=['SOS'], temperature=1.0, max_len=180):\n",
    "    \"\"\"\n",
    "    Samples output sequence from probability distribution obtained by lm\n",
    "    :param temperature: samples proportionally to lm probabilities ^ temperature\n",
    "        if temperature == 0, always takes most likely token. Break ties arbitrarily.\n",
    "    \"\"\"\n",
    "    prefix=['SOS']\n",
    "    while True:\n",
    "        token_probs = lm.get_possible_next_tokens(prefix)\n",
    "        tokens, probs = zip(*token_probs.items())\n",
    "\n",
    "        # cut the 'UNK' token to not be generated\n",
    "        tokens = tokens[:-1]\n",
    "        probs = probs[:-1]\n",
    "\n",
    "        if temperature == 0:\n",
    "            next_token = tokens[np.argmax(probs)]\n",
    "        else:\n",
    "            probs = np.array([p ** (1. / temperature) for p in probs])\n",
    "            probs /= sum(probs)\n",
    "            next_token = np.random.choice(tokens, p=probs)\n",
    "        \n",
    "        \n",
    "        prefix += [next_token]\n",
    "        # print(prefix)\n",
    "        # print(next_token == 'EOS')\n",
    "        if next_token == 'EOS':\n",
    "            return ' '.join(prefix[1:-1])\n",
    "        if len(' '.join(prefix[1:])) > max_len:\n",
    "            prefix += ['EOS']\n",
    "            return ' '.join(prefix[1:-1])"
   ]
  },
  {
   "cell_type": "code",
   "execution_count": null,
   "metadata": {
    "colab": {
     "base_uri": "https://localhost:8080/",
     "height": 289
    },
    "colab_type": "code",
    "executionInfo": {
     "elapsed": 2216,
     "status": "ok",
     "timestamp": 1576541742262,
     "user": {
      "displayName": "Екатерина Григорьевна Воробьева",
      "photoUrl": "",
      "userId": "10024917321860360426"
     },
     "user_tz": -180
    },
    "id": "aQKq2cKLtuyd",
    "outputId": "455d141f-e4b4-4d6b-c422-8c96b6af4f23"
   },
   "outputs": [
    {
     "name": "stdout",
     "output_type": "stream",
     "text": [
      "Tue Dec 17 00:15:41 2019       \n",
      "+-----------------------------------------------------------------------------+\n",
      "| NVIDIA-SMI 440.44       Driver Version: 418.67       CUDA Version: 10.1     |\n",
      "|-------------------------------+----------------------+----------------------+\n",
      "| GPU  Name        Persistence-M| Bus-Id        Disp.A | Volatile Uncorr. ECC |\n",
      "| Fan  Temp  Perf  Pwr:Usage/Cap|         Memory-Usage | GPU-Util  Compute M. |\n",
      "|===============================+======================+======================|\n",
      "|   0  Tesla P100-PCIE...  Off  | 00000000:00:04.0 Off |                    0 |\n",
      "| N/A   38C    P0    32W / 250W |   2619MiB / 16280MiB |      0%      Default |\n",
      "+-------------------------------+----------------------+----------------------+\n",
      "                                                                               \n",
      "+-----------------------------------------------------------------------------+\n",
      "| Processes:                                                       GPU Memory |\n",
      "|  GPU       PID   Type   Process name                             Usage      |\n",
      "|=============================================================================|\n",
      "+-----------------------------------------------------------------------------+\n"
     ]
    }
   ],
   "source": [
    "!nvidia-smi"
   ]
  },
  {
   "cell_type": "code",
   "execution_count": null,
   "metadata": {
    "colab": {},
    "colab_type": "code",
    "id": "f97pBDDolxTQ"
   },
   "outputs": [],
   "source": [
    "ew_lstm = EMBW_LSTM(gpu = 0)\n",
    "ew_lstm.cuda(device = ew_lstm.gpu)\n"
   ]
  },
  {
   "cell_type": "code",
   "execution_count": null,
   "metadata": {
    "colab": {},
    "colab_type": "code",
    "id": "XwNDx23xl3MR"
   },
   "outputs": [],
   "source": [
    "from sklearn.model_selection import train_test_split\n",
    "train_lines, dev_lines = train_test_split(texts, test_size=0.1, \n",
    "                                          random_state=42)"
   ]
  },
  {
   "cell_type": "code",
   "execution_count": null,
   "metadata": {
    "colab": {
     "base_uri": "https://localhost:8080/",
     "height": 442
    },
    "colab_type": "code",
    "executionInfo": {
     "elapsed": 54836,
     "status": "ok",
     "timestamp": 1576353847231,
     "user": {
      "displayName": "Leonid Litovchenko",
      "photoUrl": "",
      "userId": "15114235282102845217"
     },
     "user_tz": -180
    },
    "id": "GmXeH1Dil3pV",
    "outputId": "16c24f12-6829-458a-cf18-35710af7e710"
   },
   "outputs": [
    {
     "name": "stdout",
     "output_type": "stream",
     "text": [
      "Iteration 15000\n"
     ]
    },
    {
     "data": {
      "image/png": "[encoded data removed]",
      "text/plain": [
       "<Figure size 432x288 with 1 Axes>"
      ]
     },
     "metadata": {
      "tags": []
     },
     "output_type": "display_data"
    },
    {
     "name": "stdout",
     "output_type": "stream",
     "text": [
      "Generated examples (tau=0.5):\n",
      "tensor(74.1019, device='cuda:0', grad_fn=<MeanBackward0>)\n",
      "a dog that steals my nails ? a woman .\n",
      "the difference between a chickpea and a garbanzo bean ? i can tuna piano a tuna\n",
      "the difference between a boy scout and a jew ? the boy scout comes back from camp .\n",
      "Scoring dev...\n",
      "#14999 Dev loss: 91.319\n",
      "Saving model at ewords_lstm15000.pt ...\n",
      "\n"
     ]
    }
   ],
   "source": [
    "optimizer = torch.optim.Adam(ew_lstm.parameters(), lr=0.003)\n",
    "\n",
    "batch_size = 64\n",
    "score_dev_every = 200\n",
    "save_model_every = 3000\n",
    "train_history, dev_history = [], []\n",
    "\n",
    "# dev_history.append((0, score_lines(dev_lines, batch_size, ew_lstm)))\n",
    "\n",
    "for i in tqdm_notebook(range(len(train_history), 15000), file=sys.stdout):\n",
    "    batch = to_matrix(sample(train_lines, batch_size), vocab)  \n",
    "    real_answer = to_gpu((batch[:, 1:]).to(torch.int64), ew_lstm.gpu)\n",
    "    input_seq = to_gpu((batch[:, :-1]).to(torch.int64), ew_lstm.gpu).to(torch.int64)\n",
    "    optimizer.zero_grad()\n",
    "    logits = ew_lstm(input_seq)\n",
    "    loss_i = compute_loss(logits, real_answer)\n",
    "    train_history.append((i, loss_i.detach().cpu().numpy()))\n",
    "    \n",
    "    loss_i.backward()\n",
    "    optimizer.step()\n",
    "    \n",
    "    \n",
    "    if (i + 1) % 100 == 0:\n",
    "        clear_output(True)\n",
    "        print('Iteration', i+1)\n",
    "        plt.scatter(*zip(*train_history), alpha=0.1, label='train_loss')\n",
    "        if len(dev_history):\n",
    "            plt.plot(*zip(*dev_history), color='red', label='dev_loss')\n",
    "        plt.legend(); plt.grid(); plt.show()\n",
    "        print(\"Generated examples (tau=0.5):\")\n",
    "        print (loss_i)\n",
    "        for j in range(3):\n",
    "            print(generate(ew_lstm, temperature=0.5))\n",
    "\n",
    "    if (i + 1) % score_dev_every == 0:\n",
    "        print(\"Scoring dev...\")\n",
    "        dev_history.append((i, score_lines(dev_lines, batch_size, ew_lstm)))\n",
    "        print('#%i Dev loss: %.3f' % dev_history[-1])\n",
    "    del logits, input_seq, loss_i\n",
    "\n",
    "    if (i + 1) % save_model_every == 0:\n",
    "        print('Saving model at', 'ewords_lstm' + str(i+1) + '.pt', '...')\n",
    "        torch.save(ew_lstm.state_dict(), 'ewords_lstm' + str(i+1) + '.pt')"
   ]
  },
  {
   "cell_type": "code",
   "execution_count": null,
   "metadata": {
    "colab": {},
    "colab_type": "code",
    "id": "1GBe346OmIYz"
   },
   "outputs": [],
   "source": [
    "torch.cuda.empty_cache()"
   ]
  },
  {
   "cell_type": "code",
   "execution_count": null,
   "metadata": {
    "colab": {},
    "colab_type": "code",
    "id": "vFkAvcjyB5SB"
   },
   "outputs": [],
   "source": [
    "t50_examples = [\n",
    "'the difference between a black person and a gun of strippers ? one has a gun , and the other is a gun .',\n",
    "'the difference between a black man and a gun ? a gun only has one trigger .'\n",
    "\n",
    "]"
   ]
  },
  {
   "cell_type": "code",
   "execution_count": null,
   "metadata": {
    "colab": {
     "base_uri": "https://localhost:8080/",
     "height": 214
    },
    "colab_type": "code",
    "executionInfo": {
     "elapsed": 54757,
     "status": "ok",
     "timestamp": 1576356262758,
     "user": {
      "displayName": "Leonid Litovchenko",
      "photoUrl": "",
      "userId": "15114235282102845217"
     },
     "user_tz": -180
    },
    "id": "6zJkNw2Hs7Mn",
    "outputId": "dc0a9441-4615-461a-b3ee-317a6932defe"
   },
   "outputs": [
    {
     "name": "stdout",
     "output_type": "stream",
     "text": [
      "the difference between an arts student and an american football player ? the latter of the session is going full of letters .\n",
      "the difference between a porsche and a trashcan full of pygmies ? \" at least you can buy a spot all the last cruise control \"\n",
      "\" gullible \" o \" so i got all this game . \" below average so he caught me from birth , we donate blood families to death die on our lives ? no .\n",
      "the difference between an oral thermometer and a rectal thermometer ? one has a moustache .\n",
      "the difference between jam and barry ? one of my garage is about legos .\n",
      "started looking changed this morning with the windows 7 .\n",
      "the difference between a lentil and a chickpea ? to feed a lentil on a pound of swiss pizza\n",
      "white : doctor , here question ? me : i have a son of black people .\n",
      "decided a new not to have local camera anymore ... especially if you have time it for something that suggests you , sir .\n",
      "no law right now the last time you realise that you wondering if your wife gives you a seat\n"
     ]
    }
   ],
   "source": [
    "for i in range(10):\n",
    "    print(generate(ew_lstm, temperature=0.9))"
   ]
  },
  {
   "cell_type": "code",
   "execution_count": null,
   "metadata": {
    "colab": {},
    "colab_type": "code",
    "id": "kvAP_IowmLTk"
   },
   "outputs": [],
   "source": [
    "sdf['tokenized']"
   ]
  },
  {
   "cell_type": "markdown",
   "metadata": {
    "colab_type": "text",
    "id": "QPD8qH9oLX72"
   },
   "source": [
    "### Glove + trained embeddings"
   ]
  },
  {
   "cell_type": "markdown",
   "metadata": {
    "colab_type": "text",
    "id": "WYUGwOSdmiVE"
   },
   "source": [
    "As there are a lot of special words presented, which are somethimes not presented in glove, we decided to try to concatenate glove embeddings layer to a trainable embeddings layer."
   ]
  },
  {
   "cell_type": "code",
   "execution_count": null,
   "metadata": {
    "colab": {},
    "colab_type": "code",
    "id": "SwsKmwZoMCRN"
   },
   "outputs": [],
   "source": [
    "import torch\n",
    "import torch.nn as nn\n",
    "import torch.nn.functional as F\n",
    "\n",
    "from IPython.display import clear_output\n",
    "from random import sample\n",
    "from tqdm import tqdm, trange, tnrange, tqdm_notebook\n",
    "import sys"
   ]
  },
  {
   "cell_type": "code",
   "execution_count": null,
   "metadata": {
    "colab": {
     "base_uri": "https://localhost:8080/",
     "height": 66,
     "referenced_widgets": [
      "6d20f44d8a164bc6bdb189312a6c833f",
      "09dd54eb90e0425bb2d9f3824e647dcf",
      "30bb94d3308d46518a758f09324fd196",
      "c8218ae88d6140109c00120da0fb3bed",
      "821d381b79994c2fa829a93fd77bbcc4",
      "cee1e418ba124eee839a7bd474d0e2ac",
      "dc8c5c1f9d7841d89c4d3f48e1ca2425",
      "71244fd20445423281d38cb84e70c6f1"
     ]
    },
    "colab_type": "code",
    "executionInfo": {
     "elapsed": 1865,
     "status": "ok",
     "timestamp": 1576531682397,
     "user": {
      "displayName": "Leonid Litovchenko",
      "photoUrl": "",
      "userId": "15114235282102845217"
     },
     "user_tz": -180
    },
    "id": "yA-vlqAiL0fX",
    "outputId": "85fa2a0a-3238-4f5f-ff66-c9b4174e6613"
   },
   "outputs": [
    {
     "data": {
      "application/vnd.jupyter.widget-view+json": {
       "model_id": "6d20f44d8a164bc6bdb189312a6c833f",
       "version_major": 2,
       "version_minor": 0
      },
      "text/plain": [
       "HBox(children=(IntProgress(value=0, max=231657), HTML(value='')))"
      ]
     },
     "metadata": {
      "tags": []
     },
     "output_type": "display_data"
    },
    {
     "name": "stdout",
     "output_type": "stream",
     "text": [
      "\n"
     ]
    }
   ],
   "source": [
    "vocab = set()\n",
    "texts = []\n",
    "for words in tqdm_notebook(df.tokenized):\n",
    "        vocab.update(words)\n",
    "        texts.append(words)"
   ]
  },
  {
   "cell_type": "code",
   "execution_count": null,
   "metadata": {
    "colab": {},
    "colab_type": "code",
    "id": "RYTpRsAhcc96"
   },
   "outputs": [],
   "source": [
    "from collections import Counter\n",
    "from itertools import chain\n",
    "\n",
    "c = Counter(chain.from_iterable(df.tokenized.to_numpy()))\n",
    "filtered_vocab = [key for key, val in c.items() if val > 1]"
   ]
  },
  {
   "cell_type": "code",
   "execution_count": null,
   "metadata": {
    "colab": {
     "base_uri": "https://localhost:8080/",
     "height": 34
    },
    "colab_type": "code",
    "executionInfo": {
     "elapsed": 2526,
     "status": "ok",
     "timestamp": 1576531683075,
     "user": {
      "displayName": "Leonid Litovchenko",
      "photoUrl": "",
      "userId": "15114235282102845217"
     },
     "user_tz": -180
    },
    "id": "iu2hcvTPeflq",
    "outputId": "56ff5a6e-40db-438c-f195-40adb7077eb4"
   },
   "outputs": [
    {
     "data": {
      "text/plain": [
       "37611"
      ]
     },
     "execution_count": 26,
     "metadata": {
      "tags": []
     },
     "output_type": "execute_result"
    }
   ],
   "source": [
    "len(filtered_vocab)"
   ]
  },
  {
   "cell_type": "code",
   "execution_count": null,
   "metadata": {
    "colab": {
     "base_uri": "https://localhost:8080/",
     "height": 66,
     "referenced_widgets": [
      "80576c6b856145a5ab38dbb03d9bc8b4",
      "20ebb80b48bb4dd78d8e1536b872a0ed",
      "7734b69cecc9425d935bdac72b6b6fd4",
      "2c1c430a52b44ec790af25959f93f31b",
      "8491435d217f4255a3b2d53f62f92a3f",
      "3c70a40399ee45659d2103a7a14f3b0e",
      "b28c2fa87f7b4d43b6696bbf18fa2973",
      "6b252265c48a40438b9db2d52c95b5d1"
     ]
    },
    "colab_type": "code",
    "executionInfo": {
     "elapsed": 31471,
     "status": "ok",
     "timestamp": 1576531712030,
     "user": {
      "displayName": "Leonid Litovchenko",
      "photoUrl": "",
      "userId": "15114235282102845217"
     },
     "user_tz": -180
    },
    "id": "KzeYIFK7Lkve",
    "outputId": "d6466103-44d1-4840-c306-f7d9f42a6f1b"
   },
   "outputs": [
    {
     "data": {
      "application/vnd.jupyter.widget-view+json": {
       "model_id": "80576c6b856145a5ab38dbb03d9bc8b4",
       "version_major": 2,
       "version_minor": 0
      },
      "text/plain": [
       "HBox(children=(IntProgress(value=1, bar_style='info', max=1), HTML(value='')))"
      ]
     },
     "metadata": {
      "tags": []
     },
     "output_type": "display_data"
    },
    {
     "name": "stdout",
     "output_type": "stream",
     "text": [
      "\n"
     ]
    }
   ],
   "source": [
    "# load the embeddings\n",
    "def load_embeddings_all_words(emb_path, vocab, filtered_vocab):\n",
    "    clf_embeddings = {}\n",
    "    emb_vocab = set()\n",
    "    for line in tqdm_notebook(open(emb_path)):\n",
    "        line = line.strip('\\n').split()\n",
    "        word, emb = line[0], line[1:]\n",
    "        emb = [float(e) for e in emb]\n",
    "        if word in vocab:\n",
    "            clf_embeddings[word] = emb\n",
    "    \n",
    "    emb_vocab = set()\n",
    "    for w in vocab:\n",
    "        if w in clf_embeddings:\n",
    "            emb_vocab.add(w)\n",
    "        elif w in filtered_vocab:\n",
    "            emb_vocab.add(w)\n",
    "            clf_embeddings[w] = np.zeros(300)\n",
    "    word2idx = {w: idx for (idx, w) in enumerate(emb_vocab)}\n",
    "    max_val = max(word2idx.values())\n",
    "    \n",
    "    word2idx['EOS'] = max_val + 1\n",
    "    word2idx['SOS'] = max_val + 2\n",
    "    word2idx['UNK'] = max_val + 3\n",
    "    \n",
    "    emb_dim = len(list(clf_embeddings.values())[0])\n",
    "    clf_embeddings['UNK'] = [0.0 for i in range(emb_dim)]\n",
    "    clf_embeddings['EOS'] = [0.0 for i in range(emb_dim)]\n",
    "    clf_embeddings['SOS'] = [0.0 for i in range(emb_dim)]\n",
    "    embeddings = [[] for i in range(len(word2idx))]\n",
    "    for w in word2idx:\n",
    "        embeddings[word2idx[w]] = clf_embeddings[w]\n",
    "    embeddings = torch.Tensor(embeddings)\n",
    "    return embeddings, word2idx\n",
    "embeddings, vocab = load_embeddings_all_words('glove.6B.300d.txt', vocab, set(filtered_vocab))"
   ]
  },
  {
   "cell_type": "code",
   "execution_count": null,
   "metadata": {
    "colab": {},
    "colab_type": "code",
    "id": "Xfz6j5gVL9kB"
   },
   "outputs": [],
   "source": [
    "tokens = list(vocab.keys())"
   ]
  },
  {
   "cell_type": "code",
   "execution_count": null,
   "metadata": {
    "colab": {
     "base_uri": "https://localhost:8080/",
     "height": 34
    },
    "colab_type": "code",
    "executionInfo": {
     "elapsed": 31456,
     "status": "ok",
     "timestamp": 1576531712032,
     "user": {
      "displayName": "Leonid Litovchenko",
      "photoUrl": "",
      "userId": "15114235282102845217"
     },
     "user_tz": -180
    },
    "id": "Q2etwhlYabNJ",
    "outputId": "cfcc808b-4480-4b6b-eb08-f5b67f593de7"
   },
   "outputs": [
    {
     "data": {
      "text/plain": [
       "52074"
      ]
     },
     "execution_count": 29,
     "metadata": {
      "tags": []
     },
     "output_type": "execute_result"
    }
   ],
   "source": [
    "len(tokens)"
   ]
  },
  {
   "cell_type": "code",
   "execution_count": null,
   "metadata": {
    "colab": {},
    "colab_type": "code",
    "id": "UcAMBnVWMKwy"
   },
   "outputs": [],
   "source": [
    "class WG_LSTM(nn.Module):\n",
    "    def __init__(self, n_tokens=len(vocab), hid_size=1024, gpu = -1):\n",
    "        super(WG_LSTM, self).__init__()\n",
    "        \"\"\" \n",
    "        Build a recurrent language model.\n",
    "        \"\"\"\n",
    "        self.gpu = gpu\n",
    "        self.glove_embedding = nn.Embedding.from_pretrained(embeddings)\n",
    "        self.glove_embedding.weight.requires_grad = False\n",
    "        self.embedding = nn.Embedding(n_tokens, 500)\n",
    "\n",
    "        self.lstm = nn.LSTM(input_size=self.embedding.embedding_dim + self.glove_embedding.embedding_dim,\n",
    "                            hidden_size=hid_size,\n",
    "                            bidirectional=False, batch_first=True)\n",
    "        \n",
    "        self.dense_1 = nn.Linear(hid_size, 10000)\n",
    "        self.dense_2 = nn.Linear(10000, n_tokens)\n",
    "        self.next_token_probs = nn.Softmax(dim=2)\n",
    "\n",
    "        \n",
    "    \n",
    "    def forward(self, input_ix):\n",
    "        \"\"\"\n",
    "        compute language model logits given input tokens\n",
    "        :param input_ix: batch of sequences with token indices, tf tensor: int32[batch_size, sequence_length]\n",
    "        :returns: pre-softmax linear outputs of language model [batch_size, sequence_length, n_tokens]\n",
    "            these outputs will be used as logits to compute P(x_t | x_0, ..., x_{t - 1})\n",
    "        \"\"\"\n",
    "        \n",
    "        trained_emb_ix = self.embedding(input_ix)\n",
    "        glove_ix = self.glove_embedding(input_ix)\n",
    "\n",
    "        emb_ix = torch.cat([trained_emb_ix, glove_ix], axis=2)\n",
    "\n",
    "        output, hidden = self.lstm(emb_ix)\n",
    "        output = self.dense_1(output)\n",
    "        logits_ix = self.dense_2(output)\n",
    "        return logits_ix\n",
    "\n",
    "    def get_possible_next_tokens(self, prefix=['SOS'], temperature=1.0, max_len=100):\n",
    "        \"\"\" :returns: probabilities of next token, dict {token : prob} for all tokens \"\"\"\n",
    "        prefix_tensor = (to_matrix([prefix], vocab)).to(torch.int64)\n",
    "        prefix_tensor = to_gpu(prefix_tensor, self.gpu)        \n",
    "        probs = self.next_token_probs(self(prefix_tensor)).cpu().detach().numpy()  \n",
    "        # print(probs.shape)\n",
    "        # print(probs)  \n",
    "        probs = probs[0][len(prefix) - 1]\n",
    "        del prefix_tensor\n",
    "        return dict(zip(tokens, list(probs)))"
   ]
  },
  {
   "cell_type": "code",
   "execution_count": null,
   "metadata": {
    "colab": {
     "base_uri": "https://localhost:8080/",
     "height": 153
    },
    "colab_type": "code",
    "executionInfo": {
     "elapsed": 38661,
     "status": "ok",
     "timestamp": 1576531719257,
     "user": {
      "displayName": "Leonid Litovchenko",
      "photoUrl": "",
      "userId": "15114235282102845217"
     },
     "user_tz": -180
    },
    "id": "PYZSTF3LOEi-",
    "outputId": "b9080716-50a4-4ec6-dd2e-1af003e503ef"
   },
   "outputs": [
    {
     "data": {
      "text/plain": [
       "WG_LSTM(\n",
       "  (glove_embedding): Embedding(52074, 300)\n",
       "  (embedding): Embedding(52074, 500)\n",
       "  (lstm): LSTM(800, 1024, batch_first=True)\n",
       "  (dense_1): Linear(in_features=1024, out_features=10000, bias=True)\n",
       "  (dense_2): Linear(in_features=10000, out_features=52074, bias=True)\n",
       "  (next_token_probs): Softmax(dim=2)\n",
       ")"
      ]
     },
     "execution_count": 31,
     "metadata": {
      "tags": []
     },
     "output_type": "execute_result"
    }
   ],
   "source": [
    "wg_lstm = WG_LSTM(gpu = 0)\n",
    "wg_lstm.cuda(device = wg_lstm.gpu)"
   ]
  },
  {
   "cell_type": "code",
   "execution_count": null,
   "metadata": {
    "colab": {},
    "colab_type": "code",
    "id": "vhUuq7y1ME5N"
   },
   "outputs": [],
   "source": [
    "from sklearn.model_selection import train_test_split\n",
    "train_lines, dev_lines = train_test_split(texts, test_size=0.1, \n",
    "                                          random_state=42)"
   ]
  },
  {
   "cell_type": "code",
   "execution_count": null,
   "metadata": {
    "colab": {
     "base_uri": "https://localhost:8080/",
     "height": 153
    },
    "colab_type": "code",
    "executionInfo": {
     "elapsed": 920,
     "status": "ok",
     "timestamp": 1576531720187,
     "user": {
      "displayName": "Leonid Litovchenko",
      "photoUrl": "",
      "userId": "15114235282102845217"
     },
     "user_tz": -180
    },
    "id": "Nhf_8w7wRnia",
    "outputId": "eea35502-191f-40c4-9411-0ef4301c8dfe"
   },
   "outputs": [
    {
     "data": {
      "text/plain": [
       "<bound method Module.parameters of WG_LSTM(\n",
       "  (glove_embedding): Embedding(52074, 300)\n",
       "  (embedding): Embedding(52074, 500)\n",
       "  (lstm): LSTM(800, 1024, batch_first=True)\n",
       "  (dense_1): Linear(in_features=1024, out_features=10000, bias=True)\n",
       "  (dense_2): Linear(in_features=10000, out_features=52074, bias=True)\n",
       "  (next_token_probs): Softmax(dim=2)\n",
       ")>"
      ]
     },
     "execution_count": 33,
     "metadata": {
      "tags": []
     },
     "output_type": "execute_result"
    }
   ],
   "source": [
    "wg_lstm.parameters"
   ]
  },
  {
   "cell_type": "code",
   "execution_count": null,
   "metadata": {
    "colab": {
     "base_uri": "https://localhost:8080/",
     "height": 401
    },
    "colab_type": "code",
    "executionInfo": {
     "elapsed": 60464,
     "status": "error",
     "timestamp": 1576527380025,
     "user": {
      "displayName": "Leonid Litovchenko",
      "photoUrl": "",
      "userId": "15114235282102845217"
     },
     "user_tz": -180
    },
    "id": "fpM61CkjOnBZ",
    "outputId": "7d8e0781-c133-4208-9da2-b92bc1196cf8"
   },
   "outputs": [
    {
     "name": "stdout",
     "output_type": "stream",
     "text": [
      "Iteration 3400\n"
     ]
    },
    {
     "data": {
      "image/png": "[encoded data removed]",
      "text/plain": [
       "<Figure size 432x288 with 1 Axes>"
      ]
     },
     "metadata": {
      "tags": []
     },
     "output_type": "display_data"
    },
    {
     "name": "stdout",
     "output_type": "stream",
     "text": [
      "Generated examples (tau=0.5):\n",
      "tensor(106.3923, device='cuda:0', grad_fn=<MeanBackward0>)\n",
      "involves a blonde .\n",
      "letters : do you like a nice is the only other ? a : * * * * *\n",
      "letters a mexican who will be like a mexican and a lot of your penis .\n",
      "Scoring dev...\n",
      "#3399 Dev loss: 110.308\n"
     ]
    }
   ],
   "source": [
    "optimizer = torch.optim.Adam(wg_lstm.parameters(), lr=0.003)\n",
    "\n",
    "batch_size = 30\n",
    "score_dev_every = 200\n",
    "save_model_every = 3000\n",
    "train_history, dev_history = [], []\n",
    "\n",
    "# dev_history.append((0, score_lines(dev_lines, batch_size, wg_lstm)))\n",
    "\n",
    "for i in tqdm_notebook(range(len(train_history), 15000), file=sys.stdout):\n",
    "    batch = to_matrix(sample(train_lines, batch_size), vocab)  \n",
    "    real_answer = to_gpu((batch[:, 1:]).to(torch.int64), wg_lstm.gpu)\n",
    "    input_seq = to_gpu((batch[:, :-1]).to(torch.int64), wg_lstm.gpu).to(torch.int64)\n",
    "    optimizer.zero_grad()\n",
    "    logits = wg_lstm(input_seq)\n",
    "    loss_i = compute_loss(logits, real_answer)\n",
    "    train_history.append((i, loss_i.detach().cpu().numpy()))\n",
    "    \n",
    "    loss_i.backward()\n",
    "    optimizer.step()\n",
    "    \n",
    "    \n",
    "    if (i + 1) % 100 == 0:\n",
    "        clear_output(True)\n",
    "        print('Iteration', i+1)\n",
    "        plt.scatter(*zip(*train_history), alpha=0.1, label='train_loss')\n",
    "        if len(dev_history):\n",
    "            plt.plot(*zip(*dev_history), color='red', label='dev_loss')\n",
    "        plt.legend(); plt.grid(); plt.show()\n",
    "        print(\"Generated examples (tau=0.5):\")\n",
    "        print (loss_i)\n",
    "        for j in range(3):\n",
    "            print(generate(wg_lstm, temperature=0.5))\n",
    "\n",
    "    if (i + 1) % score_dev_every == 0:\n",
    "        print(\"Scoring dev...\")\n",
    "        dev_history.append((i, score_lines(dev_lines, batch_size, wg_lstm)))\n",
    "        print('#%i Dev loss: %.3f' % dev_history[-1])\n",
    "    del logits, input_seq, loss_i\n",
    "\n",
    "    if (i + 1) % save_model_every == 0:\n",
    "        print('Saving model at', 'ewordsembeds_lstm' + str(i+1) + '.pt', '...')\n",
    "        torch.save(wg_lstm.state_dict(), 'ewordsembeds_lstm' + str(i+1) + '.pt')"
   ]
  },
  {
   "cell_type": "markdown",
   "metadata": {
    "colab_type": "text",
    "id": "sj_eY9pI8UM3"
   },
   "source": [
    "# ElMo-embedings"
   ]
  },
  {
   "cell_type": "code",
   "execution_count": null,
   "metadata": {
    "colab": {},
    "colab_type": "code",
    "id": "jr8lBn99_Z6p"
   },
   "outputs": [],
   "source": [
    "import torch\n",
    "import torch.nn as nn\n",
    "import torch.nn.functional as F\n",
    "\n",
    "from IPython.display import clear_output\n",
    "from random import sample\n",
    "from tqdm import tqdm, trange, tnrange, tqdm_notebook\n",
    "import sys"
   ]
  },
  {
   "cell_type": "code",
   "execution_count": null,
   "metadata": {
    "colab": {},
    "colab_type": "code",
    "id": "g2S8QPdjGDYD"
   },
   "outputs": [],
   "source": [
    "from allennlp.data.token_indexers.elmo_indexer import ELMoTokenCharactersIndexer\n",
    "from allennlp.commands.elmo import ElmoEmbedder\n",
    "from allennlp.modules.elmo import Elmo, batch_to_ids\n",
    "from allennlp.modules.elmo import Elmo, batch_to_ids"
   ]
  },
  {
   "cell_type": "code",
   "execution_count": null,
   "metadata": {
    "colab": {},
    "colab_type": "code",
    "id": "V-0BPDztK-JB"
   },
   "outputs": [],
   "source": [
    "setup_punchlines = df[df['contains_?'] == True]['Joke']"
   ]
  },
  {
   "cell_type": "code",
   "execution_count": null,
   "metadata": {
    "colab": {},
    "colab_type": "code",
    "id": "PiUI9UwsLhel"
   },
   "outputs": [],
   "source": [
    "def first_questionmark(str_):\n",
    "  return str_.find('?')"
   ]
  },
  {
   "cell_type": "code",
   "execution_count": null,
   "metadata": {
    "colab": {},
    "colab_type": "code",
    "id": "adRT9UmxMGQG"
   },
   "outputs": [],
   "source": [
    "from sklearn.model_selection import train_test_split\n",
    "\n",
    "train_setup_punchlines, dev_setup_punchlines = train_test_split(setup_punchlines, test_size=0.1, \n",
    "                                                                random_state=42)"
   ]
  },
  {
   "cell_type": "code",
   "execution_count": null,
   "metadata": {
    "colab": {},
    "colab_type": "code",
    "id": "KpOnfY2ENWOz"
   },
   "outputs": [],
   "source": [
    "train_setup_punchlines = pd.DataFrame(train_setup_punchlines)"
   ]
  },
  {
   "cell_type": "code",
   "execution_count": null,
   "metadata": {
    "colab": {},
    "colab_type": "code",
    "id": "bZSM0kiTUzme"
   },
   "outputs": [],
   "source": [
    "train_setup_punchlines['S'] = train_setup_punchlines['Joke'].map(lambda joke: joke[:first_questionmark(joke) + 1])"
   ]
  },
  {
   "cell_type": "code",
   "execution_count": null,
   "metadata": {
    "colab": {},
    "colab_type": "code",
    "id": "QRQYpI9KVRm-"
   },
   "outputs": [],
   "source": [
    "train_setup_punchlines['P'] = train_setup_punchlines['Joke'].map(lambda joke: joke[first_questionmark(joke) + 2:])"
   ]
  },
  {
   "cell_type": "code",
   "execution_count": null,
   "metadata": {
    "colab": {},
    "colab_type": "code",
    "id": "oZkTHguqVY5k"
   },
   "outputs": [],
   "source": [
    "train_setup_punchlines = train_setup_punchlines.drop(columns=['Joke'])"
   ]
  },
  {
   "cell_type": "code",
   "execution_count": null,
   "metadata": {
    "colab": {},
    "colab_type": "code",
    "id": "Km8SzScSVvkj"
   },
   "outputs": [],
   "source": [
    "dev_setup_punchlines = pd.DataFrame(dev_setup_punchlines)"
   ]
  },
  {
   "cell_type": "code",
   "execution_count": null,
   "metadata": {
    "colab": {},
    "colab_type": "code",
    "id": "T0fwTTCMV0q6"
   },
   "outputs": [],
   "source": [
    "dev_setup_punchlines['S'] = dev_setup_punchlines['Joke'].map(lambda joke: joke[:first_questionmark(joke) + 1])\n",
    "dev_setup_punchlines['P'] = dev_setup_punchlines['Joke'].map(lambda joke: joke[first_questionmark(joke) + 2:])"
   ]
  },
  {
   "cell_type": "code",
   "execution_count": null,
   "metadata": {
    "colab": {},
    "colab_type": "code",
    "id": "6fCzAu2yV9mB"
   },
   "outputs": [],
   "source": [
    "dev_setup_punchlines = dev_setup_punchlines.drop(columns=['Joke'])"
   ]
  },
  {
   "cell_type": "code",
   "execution_count": null,
   "metadata": {
    "colab": {},
    "colab_type": "code",
    "id": "A0QKhX_9VhOM"
   },
   "outputs": [],
   "source": [
    "train_setup_punchlines.to_csv('setup_punchline_train.csv', header=None, index=None, sep='\\t')"
   ]
  },
  {
   "cell_type": "code",
   "execution_count": null,
   "metadata": {
    "colab": {},
    "colab_type": "code",
    "id": "R9TFHWOaVsF-"
   },
   "outputs": [],
   "source": [
    "dev_setup_punchlines.to_csv('setup_punchline_dev.csv', header=None, index=None, sep='\\t')"
   ]
  },
  {
   "cell_type": "markdown",
   "metadata": {
    "colab_type": "text",
    "id": "2rS3ZNfqI0KF"
   },
   "source": [
    "Prepare data: leave only question -> punchline"
   ]
  },
  {
   "cell_type": "code",
   "execution_count": null,
   "metadata": {
    "colab": {},
    "colab_type": "code",
    "id": "nBiga7kzJLpl"
   },
   "outputs": [],
   "source": [
    "from allennlp.data.dataset_readers.seq2seq import Seq2SeqDatasetReader\n",
    "from allennlp.data.tokenizers.word_tokenizer import WordTokenizer\n",
    "from allennlp.data.tokenizers.character_tokenizer import CharacterTokenizer\n",
    "from allennlp.data.token_indexers.single_id_token_indexer import SingleIdTokenIndexer\n",
    "from allennlp.modules.seq2seq_encoders import Seq2SeqEncoder, PytorchSeq2SeqWrapper\n",
    "from allennlp.data.vocabulary import Vocabulary"
   ]
  },
  {
   "cell_type": "code",
   "execution_count": null,
   "metadata": {
    "colab": {},
    "colab_type": "code",
    "id": "VzA9qWhpIzRi"
   },
   "outputs": [],
   "source": [
    "reader = Seq2SeqDatasetReader(\n",
    "    source_tokenizer=CharacterTokenizer(),\n",
    "    target_tokenizer=CharacterTokenizer())"
   ]
  },
  {
   "cell_type": "code",
   "execution_count": null,
   "metadata": {
    "colab": {
     "base_uri": "https://localhost:8080/",
     "height": 341
    },
    "colab_type": "code",
    "executionInfo": {
     "elapsed": 12386,
     "status": "error",
     "timestamp": 1576681703805,
     "user": {
      "displayName": "Екатерина Григорьевна Воробьева",
      "photoUrl": "",
      "userId": "10024917321860360426"
     },
     "user_tz": -180
    },
    "id": "qVUUHo9xWO-z",
    "outputId": "eaee1e86-156a-4105-8520-a1589517c61a"
   },
   "outputs": [
    {
     "name": "stderr",
     "output_type": "stream",
     "text": [
      "55764it [00:08, 11435.83it/s]"
     ]
    },
    {
     "ename": "KeyboardInterrupt",
     "evalue": "ignored",
     "output_type": "error",
     "traceback": [
      "\u001b[0;31m---------------------------------------------------------------------------\u001b[0m",
      "\u001b[0;31mKeyboardInterrupt\u001b[0m                         Traceback (most recent call last)",
      "\u001b[0;32m<ipython-input-61-d81c97bc3c5a>\u001b[0m in \u001b[0;36m<module>\u001b[0;34m()\u001b[0m\n\u001b[0;32m----> 1\u001b[0;31m \u001b[0mtrain_data\u001b[0m \u001b[0;34m=\u001b[0m \u001b[0mreader\u001b[0m\u001b[0;34m.\u001b[0m\u001b[0mread\u001b[0m\u001b[0;34m(\u001b[0m\u001b[0;34m'setup_punchline_train.csv'\u001b[0m\u001b[0;34m)\u001b[0m\u001b[0;34m\u001b[0m\u001b[0;34m\u001b[0m\u001b[0m\n\u001b[0m\u001b[1;32m      2\u001b[0m \u001b[0mval_data\u001b[0m \u001b[0;34m=\u001b[0m \u001b[0mreader\u001b[0m\u001b[0;34m.\u001b[0m\u001b[0mread\u001b[0m\u001b[0;34m(\u001b[0m\u001b[0;34m'setup_punchline_dev.csv'\u001b[0m\u001b[0;34m)\u001b[0m\u001b[0;34m\u001b[0m\u001b[0;34m\u001b[0m\u001b[0m\n",
      "\u001b[0;32m/usr/local/lib/python3.6/dist-packages/allennlp/data/dataset_readers/dataset_reader.py\u001b[0m in \u001b[0;36mread\u001b[0;34m(self, file_path)\u001b[0m\n\u001b[1;32m    132\u001b[0m             \u001b[0;31m# Then some validation.\u001b[0m\u001b[0;34m\u001b[0m\u001b[0;34m\u001b[0m\u001b[0;34m\u001b[0m\u001b[0m\n\u001b[1;32m    133\u001b[0m             \u001b[0;32mif\u001b[0m \u001b[0;32mnot\u001b[0m \u001b[0misinstance\u001b[0m\u001b[0;34m(\u001b[0m\u001b[0minstances\u001b[0m\u001b[0;34m,\u001b[0m \u001b[0mlist\u001b[0m\u001b[0;34m)\u001b[0m\u001b[0;34m:\u001b[0m\u001b[0;34m\u001b[0m\u001b[0;34m\u001b[0m\u001b[0m\n\u001b[0;32m--> 134\u001b[0;31m                 \u001b[0minstances\u001b[0m \u001b[0;34m=\u001b[0m \u001b[0;34m[\u001b[0m\u001b[0minstance\u001b[0m \u001b[0;32mfor\u001b[0m \u001b[0minstance\u001b[0m \u001b[0;32min\u001b[0m \u001b[0mTqdm\u001b[0m\u001b[0;34m.\u001b[0m\u001b[0mtqdm\u001b[0m\u001b[0;34m(\u001b[0m\u001b[0minstances\u001b[0m\u001b[0;34m)\u001b[0m\u001b[0;34m]\u001b[0m\u001b[0;34m\u001b[0m\u001b[0;34m\u001b[0m\u001b[0m\n\u001b[0m\u001b[1;32m    135\u001b[0m             \u001b[0;32mif\u001b[0m \u001b[0;32mnot\u001b[0m \u001b[0minstances\u001b[0m\u001b[0;34m:\u001b[0m\u001b[0;34m\u001b[0m\u001b[0;34m\u001b[0m\u001b[0m\n\u001b[1;32m    136\u001b[0m                 raise ConfigurationError(\"No instances were read from the given filepath {}. \"\n",
      "\u001b[0;32m/usr/local/lib/python3.6/dist-packages/allennlp/data/dataset_readers/dataset_reader.py\u001b[0m in \u001b[0;36m<listcomp>\u001b[0;34m(.0)\u001b[0m\n\u001b[1;32m    132\u001b[0m             \u001b[0;31m# Then some validation.\u001b[0m\u001b[0;34m\u001b[0m\u001b[0;34m\u001b[0m\u001b[0;34m\u001b[0m\u001b[0m\n\u001b[1;32m    133\u001b[0m             \u001b[0;32mif\u001b[0m \u001b[0;32mnot\u001b[0m \u001b[0misinstance\u001b[0m\u001b[0;34m(\u001b[0m\u001b[0minstances\u001b[0m\u001b[0;34m,\u001b[0m \u001b[0mlist\u001b[0m\u001b[0;34m)\u001b[0m\u001b[0;34m:\u001b[0m\u001b[0;34m\u001b[0m\u001b[0;34m\u001b[0m\u001b[0m\n\u001b[0;32m--> 134\u001b[0;31m                 \u001b[0minstances\u001b[0m \u001b[0;34m=\u001b[0m \u001b[0;34m[\u001b[0m\u001b[0minstance\u001b[0m \u001b[0;32mfor\u001b[0m \u001b[0minstance\u001b[0m \u001b[0;32min\u001b[0m \u001b[0mTqdm\u001b[0m\u001b[0;34m.\u001b[0m\u001b[0mtqdm\u001b[0m\u001b[0;34m(\u001b[0m\u001b[0minstances\u001b[0m\u001b[0;34m)\u001b[0m\u001b[0;34m]\u001b[0m\u001b[0;34m\u001b[0m\u001b[0;34m\u001b[0m\u001b[0m\n\u001b[0m\u001b[1;32m    135\u001b[0m             \u001b[0;32mif\u001b[0m \u001b[0;32mnot\u001b[0m \u001b[0minstances\u001b[0m\u001b[0;34m:\u001b[0m\u001b[0;34m\u001b[0m\u001b[0;34m\u001b[0m\u001b[0m\n\u001b[1;32m    136\u001b[0m                 raise ConfigurationError(\"No instances were read from the given filepath {}. \"\n",
      "\u001b[0;32m/usr/local/lib/python3.6/dist-packages/tqdm/_tqdm.py\u001b[0m in \u001b[0;36m__iter__\u001b[0;34m(self)\u001b[0m\n\u001b[1;32m    977\u001b[0m \"\"\", fp_write=getattr(self.fp, 'write', sys.stderr.write))\n\u001b[1;32m    978\u001b[0m \u001b[0;34m\u001b[0m\u001b[0m\n\u001b[0;32m--> 979\u001b[0;31m             \u001b[0;32mfor\u001b[0m \u001b[0mobj\u001b[0m \u001b[0;32min\u001b[0m \u001b[0miterable\u001b[0m\u001b[0;34m:\u001b[0m\u001b[0;34m\u001b[0m\u001b[0;34m\u001b[0m\u001b[0m\n\u001b[0m\u001b[1;32m    980\u001b[0m                 \u001b[0;32myield\u001b[0m \u001b[0mobj\u001b[0m\u001b[0;34m\u001b[0m\u001b[0;34m\u001b[0m\u001b[0m\n\u001b[1;32m    981\u001b[0m                 \u001b[0;31m# Update and possibly print the progressbar.\u001b[0m\u001b[0;34m\u001b[0m\u001b[0;34m\u001b[0m\u001b[0;34m\u001b[0m\u001b[0m\n",
      "\u001b[0;32m/usr/local/lib/python3.6/dist-packages/allennlp/data/dataset_readers/seq2seq.py\u001b[0m in \u001b[0;36m_read\u001b[0;34m(self, file_path)\u001b[0m\n\u001b[1;32m     83\u001b[0m                     \u001b[0;32mraise\u001b[0m \u001b[0mConfigurationError\u001b[0m\u001b[0;34m(\u001b[0m\u001b[0;34m\"Invalid line format: %s (line number %d)\"\u001b[0m \u001b[0;34m%\u001b[0m \u001b[0;34m(\u001b[0m\u001b[0mrow\u001b[0m\u001b[0;34m,\u001b[0m \u001b[0mline_num\u001b[0m \u001b[0;34m+\u001b[0m \u001b[0;36m1\u001b[0m\u001b[0;34m)\u001b[0m\u001b[0;34m)\u001b[0m\u001b[0;34m\u001b[0m\u001b[0;34m\u001b[0m\u001b[0m\n\u001b[1;32m     84\u001b[0m                 \u001b[0msource_sequence\u001b[0m\u001b[0;34m,\u001b[0m \u001b[0mtarget_sequence\u001b[0m \u001b[0;34m=\u001b[0m \u001b[0mrow\u001b[0m\u001b[0;34m\u001b[0m\u001b[0;34m\u001b[0m\u001b[0m\n\u001b[0;32m---> 85\u001b[0;31m                 \u001b[0;32myield\u001b[0m \u001b[0mself\u001b[0m\u001b[0;34m.\u001b[0m\u001b[0mtext_to_instance\u001b[0m\u001b[0;34m(\u001b[0m\u001b[0msource_sequence\u001b[0m\u001b[0;34m,\u001b[0m \u001b[0mtarget_sequence\u001b[0m\u001b[0;34m)\u001b[0m\u001b[0;34m\u001b[0m\u001b[0;34m\u001b[0m\u001b[0m\n\u001b[0m\u001b[1;32m     86\u001b[0m         \u001b[0;32mif\u001b[0m \u001b[0mself\u001b[0m\u001b[0;34m.\u001b[0m\u001b[0m_source_max_tokens\u001b[0m \u001b[0;32mand\u001b[0m \u001b[0mself\u001b[0m\u001b[0;34m.\u001b[0m\u001b[0m_source_max_exceeded\u001b[0m\u001b[0;34m:\u001b[0m\u001b[0;34m\u001b[0m\u001b[0;34m\u001b[0m\u001b[0m\n\u001b[1;32m     87\u001b[0m             logger.info(\"In %d instances, the source token length exceeded the max limit (%d) and were truncated.\",\n",
      "\u001b[0;32m/usr/local/lib/python3.6/dist-packages/allennlp/data/dataset_readers/seq2seq.py\u001b[0m in \u001b[0;36mtext_to_instance\u001b[0;34m(self, source_string, target_string)\u001b[0m\n\u001b[1;32m    101\u001b[0m             \u001b[0mtokenized_source\u001b[0m\u001b[0;34m.\u001b[0m\u001b[0minsert\u001b[0m\u001b[0;34m(\u001b[0m\u001b[0;36m0\u001b[0m\u001b[0;34m,\u001b[0m \u001b[0mToken\u001b[0m\u001b[0;34m(\u001b[0m\u001b[0mSTART_SYMBOL\u001b[0m\u001b[0;34m)\u001b[0m\u001b[0;34m)\u001b[0m\u001b[0;34m\u001b[0m\u001b[0;34m\u001b[0m\u001b[0m\n\u001b[1;32m    102\u001b[0m         \u001b[0mtokenized_source\u001b[0m\u001b[0;34m.\u001b[0m\u001b[0mappend\u001b[0m\u001b[0;34m(\u001b[0m\u001b[0mToken\u001b[0m\u001b[0;34m(\u001b[0m\u001b[0mEND_SYMBOL\u001b[0m\u001b[0;34m)\u001b[0m\u001b[0;34m)\u001b[0m\u001b[0;34m\u001b[0m\u001b[0;34m\u001b[0m\u001b[0m\n\u001b[0;32m--> 103\u001b[0;31m         \u001b[0msource_field\u001b[0m \u001b[0;34m=\u001b[0m \u001b[0mTextField\u001b[0m\u001b[0;34m(\u001b[0m\u001b[0mtokenized_source\u001b[0m\u001b[0;34m,\u001b[0m \u001b[0mself\u001b[0m\u001b[0;34m.\u001b[0m\u001b[0m_source_token_indexers\u001b[0m\u001b[0;34m)\u001b[0m\u001b[0;34m\u001b[0m\u001b[0;34m\u001b[0m\u001b[0m\n\u001b[0m\u001b[1;32m    104\u001b[0m         \u001b[0;32mif\u001b[0m \u001b[0mtarget_string\u001b[0m \u001b[0;32mis\u001b[0m \u001b[0;32mnot\u001b[0m \u001b[0;32mNone\u001b[0m\u001b[0;34m:\u001b[0m\u001b[0;34m\u001b[0m\u001b[0;34m\u001b[0m\u001b[0m\n\u001b[1;32m    105\u001b[0m             \u001b[0mtokenized_target\u001b[0m \u001b[0;34m=\u001b[0m \u001b[0mself\u001b[0m\u001b[0;34m.\u001b[0m\u001b[0m_target_tokenizer\u001b[0m\u001b[0;34m.\u001b[0m\u001b[0mtokenize\u001b[0m\u001b[0;34m(\u001b[0m\u001b[0mtarget_string\u001b[0m\u001b[0;34m)\u001b[0m\u001b[0;34m\u001b[0m\u001b[0;34m\u001b[0m\u001b[0m\n",
      "\u001b[0;32m/usr/local/lib/python3.6/dist-packages/allennlp/data/fields/text_field.py\u001b[0m in \u001b[0;36m__init__\u001b[0;34m(self, tokens, token_indexers)\u001b[0m\n\u001b[1;32m     42\u001b[0m         \u001b[0mself\u001b[0m\u001b[0;34m.\u001b[0m\u001b[0m_token_index_to_indexer_name\u001b[0m\u001b[0;34m:\u001b[0m \u001b[0mOptional\u001b[0m\u001b[0;34m[\u001b[0m\u001b[0mDict\u001b[0m\u001b[0;34m[\u001b[0m\u001b[0mstr\u001b[0m\u001b[0;34m,\u001b[0m \u001b[0mstr\u001b[0m\u001b[0;34m]\u001b[0m\u001b[0;34m]\u001b[0m \u001b[0;34m=\u001b[0m \u001b[0;32mNone\u001b[0m\u001b[0;34m\u001b[0m\u001b[0;34m\u001b[0m\u001b[0m\n\u001b[1;32m     43\u001b[0m \u001b[0;34m\u001b[0m\u001b[0m\n\u001b[0;32m---> 44\u001b[0;31m         \u001b[0;32mif\u001b[0m \u001b[0;32mnot\u001b[0m \u001b[0mall\u001b[0m\u001b[0;34m(\u001b[0m\u001b[0;34m[\u001b[0m\u001b[0misinstance\u001b[0m\u001b[0;34m(\u001b[0m\u001b[0mx\u001b[0m\u001b[0;34m,\u001b[0m \u001b[0;34m(\u001b[0m\u001b[0mToken\u001b[0m\u001b[0;34m,\u001b[0m \u001b[0mSpacyToken\u001b[0m\u001b[0;34m)\u001b[0m\u001b[0;34m)\u001b[0m \u001b[0;32mfor\u001b[0m \u001b[0mx\u001b[0m \u001b[0;32min\u001b[0m \u001b[0mtokens\u001b[0m\u001b[0;34m]\u001b[0m\u001b[0;34m)\u001b[0m\u001b[0;34m:\u001b[0m\u001b[0;34m\u001b[0m\u001b[0;34m\u001b[0m\u001b[0m\n\u001b[0m\u001b[1;32m     45\u001b[0m             raise ConfigurationError(\"TextFields must be passed Tokens. \"\n\u001b[1;32m     46\u001b[0m                                      \"Found: {} with types {}.\".format(tokens, [type(x) for x in tokens]))\n",
      "\u001b[0;31mKeyboardInterrupt\u001b[0m: "
     ]
    }
   ],
   "source": [
    "train_data = reader.read('setup_punchline_train.csv')\n",
    "val_data = reader.read('setup_punchline_dev.csv')"
   ]
  },
  {
   "cell_type": "code",
   "execution_count": null,
   "metadata": {
    "colab": {},
    "colab_type": "code",
    "id": "vo5bCn2KYtRP"
   },
   "outputs": [],
   "source": [
    "vocab = Vocabulary.from_instances(train_data + val_data)"
   ]
  },
  {
   "cell_type": "code",
   "execution_count": null,
   "metadata": {
    "colab": {
     "base_uri": "https://localhost:8080/",
     "height": 34
    },
    "colab_type": "code",
    "executionInfo": {
     "elapsed": 534,
     "status": "ok",
     "timestamp": 1576628285228,
     "user": {
      "displayName": "Екатерина Григорьевна Воробьева",
      "photoUrl": "",
      "userId": "10024917321860360426"
     },
     "user_tz": -180
    },
    "id": "vqFpTIdkOFyF",
    "outputId": "a612def2-5261-44c7-865a-fa1ec0f81f15"
   },
   "outputs": [
    {
     "name": "stderr",
     "output_type": "stream",
     "text": [
      "WARNING:root:vocabulary serialization directory /elmochar/vocabulary is not empty\n"
     ]
    }
   ],
   "source": [
    "vocab.save_to_files(\"/elmochar/vocabulary\")"
   ]
  },
  {
   "cell_type": "markdown",
   "metadata": {
    "colab_type": "text",
    "id": "1Ziy4LLjJy1h"
   },
   "source": [
    "Model options:"
   ]
  },
  {
   "cell_type": "code",
   "execution_count": null,
   "metadata": {
    "colab": {},
    "colab_type": "code",
    "id": "-YyBtRelKhIS"
   },
   "outputs": [],
   "source": [
    "import torch\n",
    "import torch.optim as optim\n",
    "from allennlp.data.dataset_readers.seq2seq import Seq2SeqDatasetReader\n",
    "from allennlp.data.iterators import BucketIterator\n",
    "from allennlp.data.token_indexers import SingleIdTokenIndexer\n",
    "from allennlp.data.tokenizers.character_tokenizer import CharacterTokenizer\n",
    "from allennlp.data.tokenizers.word_tokenizer import WordTokenizer\n",
    "from allennlp.data.vocabulary import Vocabulary\n",
    "from allennlp.nn.activations import Activation\n",
    "from allennlp.models.encoder_decoders.simple_seq2seq import SimpleSeq2Seq\n",
    "from allennlp.models.encoder_decoders.composed_seq2seq import ComposedSeq2Seq\n",
    "from allennlp.modules.attention import LinearAttention, BilinearAttention, DotProductAttention\n",
    "from allennlp.modules.seq2seq_encoders import PytorchSeq2SeqWrapper, StackedSelfAttentionEncoder\n",
    "from allennlp.modules.text_field_embedders import BasicTextFieldEmbedder\n",
    "from allennlp.modules.token_embedders import Embedding\n",
    "from allennlp.predictors import SimpleSeq2SeqPredictor, Seq2SeqPredictor\n",
    "from allennlp.training.trainer import Trainer\n",
    "import itertools"
   ]
  },
  {
   "cell_type": "code",
   "execution_count": null,
   "metadata": {
    "colab": {},
    "colab_type": "code",
    "id": "sz-CWbPiJ4Lm"
   },
   "outputs": [],
   "source": [
    "Q_EMBEDDING_DIM = 256\n",
    "HIDDEN_DIM = 256\n",
    "A_EMBEDDING_DIM = 256\n",
    "CUDA_DEVICE = 0\n",
    "metrics_history = []"
   ]
  },
  {
   "cell_type": "code",
   "execution_count": null,
   "metadata": {
    "colab": {
     "base_uri": "https://localhost:8080/",
     "height": 527
    },
    "colab_type": "code",
    "executionInfo": {
     "elapsed": 40,
     "status": "ok",
     "timestamp": 1576636829654,
     "user": {
      "displayName": "Екатерина Григорьевна Воробьева",
      "photoUrl": "",
      "userId": "10024917321860360426"
     },
     "user_tz": -180
    },
    "id": "Hi5NjrZ0ZP8B",
    "outputId": "05f4d239-4a8e-4103-8a4e-4a3799388831"
   },
   "outputs": [
    {
     "name": "stdout",
     "output_type": "stream",
     "text": [
      "SOURCE: What's an English teacher's favourite cereal?\n",
      "GOLD: Synonym Grahams\n",
      "PRED: A sea-sand.\n",
      "SOURCE: Me: Put on your seatbelt. 13: Do I have to?\n",
      "GOLD: Me: not if you want your face shattering the windshield 13: cool Me: PUT ON YOUR SEATBELT!\n",
      "PRED: \n",
      "SOURCE: What do fish call a submarine?\n",
      "GOLD: Unidentified Floating Object\n",
      "PRED: A stick.\n",
      "SOURCE: Where do Pixar employees go for Happy Hour?\n",
      "GOLD: CGI Friday's.\n",
      "PRED: The seats on the show.\n",
      "SOURCE: What's worse than a cardboard box?\n",
      "GOLD: Paper titties\n",
      "PRED: \n",
      "SOURCE: What do you call a guy stuck in the same job for 30 years?\n",
      "GOLD: A four term US senator.\n",
      "PRED: \n",
      "SOURCE: Why do rabbits make good mathematicians?\n",
      "GOLD: Because they're constantly multiplying!\n",
      "PRED: Because they can't even.\n",
      "SOURCE: Judge: \"Reason for divorce?\n",
      "GOLD:  Me: \"Reconcilable differences.\" Judge: \"Don't you mean irreconcilable?\" Me: \"Ugh. You sound just like her.\"\n",
      "PRED: \n",
      "SOURCE: Why did the zombie start ripping up sheet music?\n",
      "GOLD: Because he was de-composing.\n",
      "PRED: He was a little boogy bunnies.\n",
      "SOURCE: What's the worst part about giving your dad a blowjob?\n",
      "GOLD: His dick tastes like your brothers asshole! (ba dum tiss)\n",
      "PRED: \n"
     ]
    }
   ],
   "source": [
    "q_embedding = Embedding(num_embeddings=vocab.get_vocab_size('tokens'),\n",
    "                        embedding_dim=Q_EMBEDDING_DIM)\n",
    "\n",
    "encoder = StackedSelfAttentionEncoder(input_dim=Q_EMBEDDING_DIM, hidden_dim=HIDDEN_DIM, projection_dim=128, feedforward_hidden_dim=128, num_layers=1, num_attention_heads=8)\n",
    "\n",
    "source_embedder = BasicTextFieldEmbedder({\"tokens\": q_embedding})\n",
    "\n",
    "attention = DotProductAttention()\n",
    "\n",
    "model = SimpleSeq2Seq(vocab, source_embedder, encoder, 200,\n",
    "                      target_embedding_dim=A_EMBEDDING_DIM,\n",
    "                      attention=attention, use_bleu=False)\n",
    "optimizer = optim.Adam(model.parameters())\n",
    "iterator = BucketIterator(batch_size=32, sorting_keys=[(\"source_tokens\", \"num_tokens\")])\n",
    "\n",
    "iterator.index_with(vocab)\n",
    "\n",
    "model = model.cuda(0)\n",
    "\n",
    "trainer = Trainer(model=model,\n",
    "                  optimizer=optimizer,\n",
    "                  iterator=iterator,\n",
    "                  train_dataset=train_data,\n",
    "                  validation_dataset=val_data,\n",
    "                  num_epochs=1,\n",
    "                  cuda_device=CUDA_DEVICE)\n",
    "\n",
    "for i in range(20):\n",
    "    print('\\nEpoch: {}\\n'.format(i))\n",
    "    metrics = trainer.train()\n",
    "    metrics_history.append(metrics)\n",
    "    predictor = SimpleSeq2SeqPredictor(model, reader)\n",
    "\n",
    "    with open(\"/tmp/model.th\", 'wb') as f:\n",
    "      torch.save(model.state_dict(), f)\n",
    "    clear_output(True)\n",
    "\n",
    "    for instance in itertools.islice(val_data, 10):\n",
    "        print('SOURCE:', ''.join([str(x) for x in instance.fields['source_tokens'].tokens[1:-1]]))\n",
    "        print('GOLD:', ''.join([str(x) for x in instance.fields['target_tokens'].tokens[1:-1]]))\n",
    "        print('PRED:', ''.join([str(x) for x in predictor.predict_instance(instance)['predicted_tokens']]))"
   ]
  },
  {
   "cell_type": "code",
   "execution_count": null,
   "metadata": {
    "colab": {},
    "colab_type": "code",
    "id": "6i_2Tyk1kVSK"
   },
   "outputs": [],
   "source": [
    "char_reader = reader\n",
    "char_model = model\n",
    "char_predictor = SimpleSeq2SeqPredictor(char_model, char_reader)\n",
    "train_data_char = train_data\n",
    "val_data_char = val_data"
   ]
  },
  {
   "cell_type": "code",
   "execution_count": null,
   "metadata": {
    "colab": {},
    "colab_type": "code",
    "id": "mydBsb-z-5QA"
   },
   "outputs": [],
   "source": [
    "reader = Seq2SeqDatasetReader(\n",
    "    source_tokenizer=WordTokenizer(),\n",
    "    target_tokenizer=WordTokenizer())"
   ]
  },
  {
   "cell_type": "code",
   "execution_count": null,
   "metadata": {
    "colab": {
     "base_uri": "https://localhost:8080/",
     "height": 1000
    },
    "colab_type": "code",
    "executionInfo": {
     "elapsed": 78695,
     "status": "ok",
     "timestamp": 1576681791765,
     "user": {
      "displayName": "Екатерина Григорьевна Воробьева",
      "photoUrl": "",
      "userId": "10024917321860360426"
     },
     "user_tz": -180
    },
    "id": "6Jhcudhg_HTX",
    "outputId": "8c569e23-5340-41b1-aec4-8cb8b18bc7c0"
   },
   "outputs": [
    {
     "name": "stderr",
     "output_type": "stream",
     "text": [
      "\n",
      "0it [00:00, ?it/s]\u001b[A\n",
      "118it [00:00, 1178.72it/s]\u001b[A\n",
      "233it [00:00, 1169.10it/s]\u001b[A\n",
      "366it [00:00, 1212.04it/s]\u001b[A\n",
      "499it [00:00, 1243.38it/s]\u001b[A\n",
      "628it [00:00, 1256.38it/s]\u001b[A\n",
      "752it [00:00, 1251.06it/s]\u001b[A\n",
      "872it [00:00, 1233.51it/s]\u001b[A\n",
      "1005it [00:00, 1260.06it/s]\u001b[A\n",
      "1134it [00:00, 1267.23it/s]\u001b[A\n",
      "1270it [00:01, 1291.52it/s]\u001b[A\n",
      "1408it [00:01, 1315.90it/s]\u001b[A\n",
      "1551it [00:01, 1346.70it/s]\u001b[A\n",
      "1687it [00:01, 1349.39it/s]\u001b[A\n",
      "1822it [00:01, 1341.02it/s]\u001b[A\n",
      "1959it [00:01, 1348.79it/s]\u001b[A\n",
      "2098it [00:01, 1359.23it/s]\u001b[A\n",
      "2234it [00:01, 1334.84it/s]\u001b[A\n",
      "2376it [00:01, 1357.85it/s]\u001b[A\n",
      "2512it [00:01, 1354.57it/s]\u001b[A\n",
      "2655it [00:02, 1376.24it/s]\u001b[A\n",
      "2802it [00:02, 1401.14it/s]\u001b[A\n",
      "2943it [00:02, 1389.72it/s]\u001b[A\n",
      "3083it [00:02, 1390.43it/s]\u001b[A\n",
      "3226it [00:02, 1400.39it/s]\u001b[A\n",
      "3367it [00:02, 1363.42it/s]\u001b[A\n",
      "3507it [00:02, 1372.88it/s]\u001b[A\n",
      "3645it [00:02, 1356.38it/s]\u001b[A\n",
      "3781it [00:02, 1311.90it/s]\u001b[A\n",
      "3923it [00:02, 1341.83it/s]\u001b[A\n",
      "4064it [00:03, 1361.30it/s]\u001b[A\n",
      "4212it [00:03, 1392.40it/s]\u001b[A\n",
      "4359it [00:03, 1412.71it/s]\u001b[A\n",
      "4506it [00:03, 1427.64it/s]\u001b[A\n",
      "4655it [00:03, 1445.09it/s]\u001b[A\n",
      "4802it [00:03, 1452.38it/s]\u001b[A\n",
      "4948it [00:03, 1440.77it/s]\u001b[A\n",
      "5093it [00:03, 1414.05it/s]\u001b[A\n",
      "5241it [00:03, 1432.43it/s]\u001b[A\n",
      "5388it [00:03, 1441.83it/s]\u001b[A\n",
      "5533it [00:04, 1439.29it/s]\u001b[A\n",
      "5678it [00:04, 1419.01it/s]\u001b[A\n",
      "5825it [00:04, 1432.57it/s]\u001b[A\n",
      "5969it [00:04, 1410.54it/s]\u001b[A\n",
      "6118it [00:04, 1433.03it/s]\u001b[A\n",
      "6266it [00:04, 1446.79it/s]\u001b[A\n",
      "6411it [00:04, 1442.81it/s]\u001b[A\n",
      "6556it [00:04, 1409.93it/s]\u001b[A\n",
      "6702it [00:04, 1423.49it/s]\u001b[A\n",
      "6847it [00:04, 1430.76it/s]\u001b[A\n",
      "6991it [00:05, 1411.12it/s]\u001b[A\n",
      "7133it [00:05, 1403.69it/s]\u001b[A\n",
      "7279it [00:05, 1420.01it/s]\u001b[A\n",
      "7431it [00:05, 1446.50it/s]\u001b[A\n",
      "7579it [00:05, 1454.47it/s]\u001b[A\n",
      "7731it [00:05, 1472.54it/s]\u001b[A\n",
      "7879it [00:05, 1461.79it/s]\u001b[A\n",
      "8026it [00:05, 1425.38it/s]\u001b[A\n",
      "8175it [00:05, 1443.13it/s]\u001b[A\n",
      "8321it [00:06, 1445.47it/s]\u001b[A\n",
      "8467it [00:06, 1446.99it/s]\u001b[A\n",
      "8612it [00:06, 1443.76it/s]\u001b[A\n",
      "8761it [00:06, 1455.27it/s]\u001b[A\n",
      "8910it [00:06, 1464.29it/s]\u001b[A\n",
      "9058it [00:06, 1468.64it/s]\u001b[A\n",
      "9208it [00:06, 1477.13it/s]\u001b[A\n",
      "9358it [00:06, 1483.76it/s]\u001b[A\n",
      "9507it [00:06, 1447.87it/s]\u001b[A\n",
      "9659it [00:06, 1466.34it/s]\u001b[A\n",
      "9807it [00:07, 1469.75it/s]\u001b[A\n",
      "9962it [00:07, 1492.77it/s]\u001b[A\n",
      "10112it [00:07, 1480.17it/s]\u001b[A\n",
      "10261it [00:07, 1453.48it/s]\u001b[A\n",
      "10407it [00:07, 1410.37it/s]\u001b[A\n",
      "10558it [00:07, 1437.87it/s]\u001b[A\n",
      "10703it [00:07, 1379.33it/s]\u001b[A\n",
      "10842it [00:07, 1381.28it/s]\u001b[A\n",
      "10981it [00:07, 1363.59it/s]\u001b[A\n",
      "11127it [00:07, 1390.14it/s]\u001b[A\n",
      "11275it [00:08, 1415.39it/s]\u001b[A\n",
      "11421it [00:08, 1427.69it/s]\u001b[A\n",
      "11565it [00:08, 1419.89it/s]\u001b[A\n",
      "11713it [00:08, 1436.61it/s]\u001b[A\n",
      "11863it [00:08, 1452.81it/s]\u001b[A\n",
      "12012it [00:08, 1462.90it/s]\u001b[A\n",
      "12164it [00:08, 1479.49it/s]\u001b[A\n",
      "12313it [00:08, 1442.27it/s]\u001b[A\n",
      "12458it [00:08, 1410.65it/s]\u001b[A\n",
      "12601it [00:08, 1416.14it/s]\u001b[A\n",
      "12750it [00:09, 1437.10it/s]\u001b[A\n",
      "12898it [00:09, 1448.96it/s]\u001b[A\n",
      "13047it [00:09, 1458.95it/s]\u001b[A\n",
      "13194it [00:09, 1457.32it/s]\u001b[A\n",
      "13347it [00:09, 1477.77it/s]\u001b[A\n",
      "13500it [00:09, 1492.40it/s]\u001b[A\n",
      "13650it [00:09, 1483.54it/s]\u001b[A\n",
      "13799it [00:09, 1476.51it/s]\u001b[A\n",
      "13947it [00:09, 1456.00it/s]\u001b[A\n",
      "14093it [00:09, 1457.10it/s]\u001b[A\n",
      "14239it [00:10, 1432.52it/s]\u001b[A\n",
      "14384it [00:10, 1437.44it/s]\u001b[A\n",
      "14536it [00:10, 1460.28it/s]\u001b[A\n",
      "14683it [00:10, 1453.12it/s]\u001b[A\n",
      "14834it [00:10, 1468.95it/s]\u001b[A\n",
      "14986it [00:10, 1481.47it/s]\u001b[A\n",
      "15137it [00:10, 1487.52it/s]\u001b[A\n",
      "15292it [00:10, 1503.47it/s]\u001b[A\n",
      "15443it [00:10, 1470.94it/s]\u001b[A\n",
      "15591it [00:11, 1465.38it/s]\u001b[A\n",
      "15738it [00:11, 1456.65it/s]\u001b[A\n",
      "15887it [00:11, 1465.61it/s]\u001b[A\n",
      "16034it [00:11, 1464.09it/s]\u001b[A\n",
      "16181it [00:11, 1462.71it/s]\u001b[A\n",
      "16328it [00:11, 1403.49it/s]\u001b[A\n",
      "16474it [00:11, 1417.64it/s]\u001b[A\n",
      "16621it [00:11, 1431.65it/s]\u001b[A\n",
      "16765it [00:11, 1420.58it/s]\u001b[A\n",
      "16908it [00:11, 1394.65it/s]\u001b[A\n",
      "17061it [00:12, 1432.01it/s]\u001b[A\n",
      "17205it [00:12, 1420.67it/s]\u001b[A\n",
      "17353it [00:12, 1436.36it/s]\u001b[A\n",
      "17504it [00:12, 1455.05it/s]\u001b[A\n",
      "17654it [00:12, 1465.68it/s]\u001b[A\n",
      "17801it [00:12, 1448.54it/s]\u001b[A\n",
      "17948it [00:12, 1452.85it/s]\u001b[A\n",
      "18101it [00:12, 1473.08it/s]\u001b[A\n",
      "18252it [00:12, 1483.15it/s]\u001b[A\n",
      "18401it [00:12, 1479.64it/s]\u001b[A\n",
      "18554it [00:13, 1493.87it/s]\u001b[A\n",
      "18706it [00:13, 1501.06it/s]\u001b[A\n",
      "18857it [00:13, 1491.38it/s]\u001b[A\n",
      "19007it [00:13, 1472.87it/s]\u001b[A\n",
      "19155it [00:13, 1409.69it/s]\u001b[A\n",
      "19303it [00:13, 1427.08it/s]\u001b[A\n",
      "19455it [00:13, 1453.16it/s]\u001b[A\n",
      "19602it [00:13, 1456.39it/s]\u001b[A\n",
      "19754it [00:13, 1473.91it/s]\u001b[A\n",
      "19902it [00:13, 1438.14it/s]\u001b[A\n",
      "20050it [00:14, 1449.85it/s]\u001b[A\n",
      "20196it [00:14, 1447.13it/s]\u001b[A\n",
      "20341it [00:14, 1385.62it/s]\u001b[A\n",
      "20481it [00:14, 1371.90it/s]\u001b[A\n",
      "20631it [00:14, 1407.49it/s]\u001b[A\n",
      "20780it [00:14, 1430.79it/s]\u001b[A\n",
      "20933it [00:14, 1457.92it/s]\u001b[A\n",
      "21085it [00:14, 1473.63it/s]\u001b[A\n",
      "21233it [00:14, 1462.45it/s]\u001b[A\n",
      "21380it [00:15, 1447.31it/s]\u001b[A\n",
      "21529it [00:15, 1456.91it/s]\u001b[A\n",
      "21675it [00:15, 1445.73it/s]\u001b[A\n",
      "21820it [00:15, 1434.87it/s]\u001b[A\n",
      "21964it [00:15, 1389.16it/s]\u001b[A\n",
      "22104it [00:15, 1387.76it/s]\u001b[A\n",
      "22249it [00:15, 1404.92it/s]\u001b[A\n",
      "22399it [00:15, 1429.65it/s]\u001b[A\n",
      "22554it [00:15, 1462.17it/s]\u001b[A\n",
      "22701it [00:15, 1458.20it/s]\u001b[A\n",
      "22849it [00:16, 1463.18it/s]\u001b[A\n",
      "22998it [00:16, 1469.82it/s]\u001b[A\n",
      "23146it [00:16, 1472.13it/s]\u001b[A\n",
      "23294it [00:16, 1455.45it/s]\u001b[A\n",
      "23440it [00:16, 1456.41it/s]\u001b[A\n",
      "23596it [00:16, 1485.89it/s]\u001b[A\n",
      "23746it [00:16, 1486.86it/s]\u001b[A\n",
      "23895it [00:16, 1434.65it/s]\u001b[A\n",
      "24039it [00:16, 1433.79it/s]\u001b[A\n",
      "24190it [00:16, 1450.99it/s]\u001b[A\n",
      "24338it [00:17, 1458.10it/s]\u001b[A\n",
      "24488it [00:17, 1467.57it/s]\u001b[A\n",
      "24637it [00:17, 1473.97it/s]\u001b[A\n",
      "24785it [00:17, 1472.98it/s]\u001b[A\n",
      "24933it [00:17, 1455.81it/s]\u001b[A\n",
      "25082it [00:17, 1464.75it/s]\u001b[A\n",
      "25229it [00:17, 1453.58it/s]\u001b[A\n",
      "25375it [00:17, 1443.34it/s]\u001b[A\n",
      "25526it [00:17, 1461.83it/s]\u001b[A\n",
      "25679it [00:17, 1481.33it/s]\u001b[A\n",
      "25828it [00:18, 1464.08it/s]\u001b[A\n",
      "25975it [00:18, 1463.90it/s]\u001b[A\n",
      "26124it [00:18, 1470.69it/s]\u001b[A\n",
      "26278it [00:18, 1490.07it/s]\u001b[A\n",
      "26428it [00:18, 1478.86it/s]\u001b[A\n",
      "26576it [00:18, 1474.84it/s]\u001b[A\n",
      "26724it [00:18, 1446.33it/s]\u001b[A\n",
      "26869it [00:18, 1443.56it/s]\u001b[A\n",
      "27015it [00:18, 1446.06it/s]\u001b[A\n",
      "27169it [00:18, 1470.11it/s]\u001b[A\n",
      "27317it [00:19, 1448.26it/s]\u001b[A\n",
      "27472it [00:19, 1476.34it/s]\u001b[A\n",
      "27626it [00:19, 1493.44it/s]\u001b[A\n",
      "27778it [00:19, 1498.75it/s]\u001b[A\n",
      "27929it [00:19, 1491.22it/s]\u001b[A\n",
      "28081it [00:19, 1498.56it/s]\u001b[A\n",
      "28234it [00:19, 1505.47it/s]\u001b[A\n",
      "28385it [00:19, 1497.57it/s]\u001b[A\n",
      "28535it [00:19, 1463.24it/s]\u001b[A\n",
      "28683it [00:20, 1467.46it/s]\u001b[A\n",
      "28830it [00:20, 1429.51it/s]\u001b[A\n",
      "28976it [00:20, 1436.59it/s]\u001b[A\n",
      "29120it [00:20, 1431.58it/s]\u001b[A\n",
      "29267it [00:20, 1439.62it/s]\u001b[A\n",
      "29415it [00:20, 1449.22it/s]\u001b[A\n",
      "29561it [00:20, 1445.12it/s]\u001b[A\n",
      "29711it [00:20, 1460.75it/s]\u001b[A\n",
      "29863it [00:20, 1475.87it/s]\u001b[A\n",
      "30015it [00:20, 1485.80it/s]\u001b[A\n",
      "30166it [00:21, 1491.19it/s]\u001b[A\n",
      "30316it [00:21, 1460.16it/s]\u001b[A\n",
      "30466it [00:21, 1470.32it/s]\u001b[A\n",
      "30615it [00:21, 1473.79it/s]\u001b[A\n",
      "30766it [00:21, 1483.93it/s]\u001b[A\n",
      "30916it [00:21, 1487.43it/s]\u001b[A\n",
      "31065it [00:21, 1481.69it/s]\u001b[A\n",
      "31214it [00:21, 1451.11it/s]\u001b[A\n",
      "31360it [00:21, 1443.53it/s]\u001b[A\n",
      "31510it [00:21, 1458.33it/s]\u001b[A\n",
      "31657it [00:22, 1461.24it/s]\u001b[A\n",
      "31804it [00:22, 1432.48it/s]\u001b[A\n",
      "31957it [00:22, 1459.69it/s]\u001b[A\n",
      "32106it [00:22, 1468.05it/s]\u001b[A\n",
      "32257it [00:22, 1480.10it/s]\u001b[A\n",
      "32410it [00:22, 1493.18it/s]\u001b[A\n",
      "32560it [00:22, 1478.81it/s]\u001b[A\n",
      "32713it [00:22, 1493.45it/s]\u001b[A\n",
      "32870it [00:22, 1513.79it/s]\u001b[A\n",
      "33022it [00:22, 1503.03it/s]\u001b[A\n",
      "33173it [00:23, 1453.69it/s]\u001b[A\n",
      "33319it [00:23, 1431.03it/s]\u001b[A\n",
      "33467it [00:23, 1444.74it/s]\u001b[A\n",
      "33612it [00:23, 1443.88it/s]\u001b[A\n",
      "33760it [00:23, 1452.98it/s]\u001b[A\n",
      "33911it [00:23, 1468.65it/s]\u001b[A\n",
      "34066it [00:23, 1491.83it/s]\u001b[A\n",
      "34216it [00:23, 1480.77it/s]\u001b[A\n",
      "34365it [00:23, 1409.72it/s]\u001b[A\n",
      "34517it [00:23, 1439.97it/s]\u001b[A\n",
      "34662it [00:24, 1438.13it/s]\u001b[A\n",
      "34807it [00:24, 1433.95it/s]\u001b[A\n",
      "34961it [00:24, 1463.36it/s]\u001b[A\n",
      "35112it [00:24, 1475.89it/s]\u001b[A\n",
      "35270it [00:24, 1504.76it/s]\u001b[A\n",
      "35421it [00:24, 1506.27it/s]\u001b[A\n",
      "35572it [00:24, 1503.98it/s]\u001b[A\n",
      "35723it [00:24, 1504.21it/s]\u001b[A\n",
      "35874it [00:24, 1485.05it/s]\u001b[A\n",
      "36026it [00:25, 1491.02it/s]\u001b[A\n",
      "36176it [00:25, 1493.67it/s]\u001b[A\n",
      "36326it [00:25, 1429.05it/s]\u001b[A\n",
      "36470it [00:25, 1428.74it/s]\u001b[A\n",
      "36617it [00:25, 1439.23it/s]\u001b[A\n",
      "36765it [00:25, 1451.00it/s]\u001b[A\n",
      "36914it [00:25, 1461.03it/s]\u001b[A\n",
      "37061it [00:25, 1430.07it/s]\u001b[A\n",
      "37205it [00:25, 1414.31it/s]\u001b[A\n",
      "37357it [00:25, 1442.15it/s]\u001b[A\n",
      "37511it [00:26, 1468.22it/s]\u001b[A\n",
      "37666it [00:26, 1490.94it/s]\u001b[A\n",
      "37816it [00:26, 1448.99it/s]\u001b[A\n",
      "37963it [00:26, 1454.55it/s]\u001b[A\n",
      "38118it [00:26, 1481.72it/s]\u001b[A\n",
      "38267it [00:26, 1484.03it/s]\u001b[A\n",
      "38419it [00:26, 1491.70it/s]\u001b[A\n",
      "38571it [00:26, 1496.82it/s]\u001b[A\n",
      "38721it [00:26, 1487.85it/s]\u001b[A\n",
      "38870it [00:26, 1482.28it/s]\u001b[A\n",
      "39026it [00:27, 1502.22it/s]\u001b[A\n",
      "39178it [00:27, 1506.08it/s]\u001b[A\n",
      "39329it [00:27, 1480.99it/s]\u001b[A\n",
      "39478it [00:27, 1477.29it/s]\u001b[A\n",
      "39634it [00:27, 1499.57it/s]\u001b[A\n",
      "39790it [00:27, 1515.59it/s]\u001b[A\n",
      "39942it [00:27, 1516.35it/s]\u001b[A\n",
      "40094it [00:27, 1494.14it/s]\u001b[A\n",
      "40244it [00:27, 1437.51it/s]\u001b[A\n",
      "40389it [00:27, 1430.20it/s]\u001b[A\n",
      "40535it [00:28, 1438.81it/s]\u001b[A\n",
      "40689it [00:28, 1467.23it/s]\u001b[A\n",
      "40837it [00:28, 1438.01it/s]\u001b[A\n",
      "40984it [00:28, 1446.13it/s]\u001b[A\n",
      "41134it [00:28, 1461.81it/s]\u001b[A\n",
      "41286it [00:28, 1475.98it/s]\u001b[A\n",
      "41434it [00:28, 1465.87it/s]\u001b[A\n",
      "41583it [00:28, 1470.56it/s]\u001b[A\n",
      "41732it [00:28, 1475.78it/s]\u001b[A\n",
      "41880it [00:29, 1471.19it/s]\u001b[A\n",
      "42028it [00:29, 1469.40it/s]\u001b[A\n",
      "42175it [00:29, 1449.69it/s]\u001b[A\n",
      "42321it [00:29, 1413.88it/s]\u001b[A\n",
      "42463it [00:29, 1415.55it/s]\u001b[A\n",
      "42609it [00:29, 1428.20it/s]\u001b[A\n",
      "42760it [00:29, 1450.25it/s]\u001b[A\n",
      "42906it [00:29, 1450.92it/s]\u001b[A\n",
      "43052it [00:29, 1444.25it/s]\u001b[A\n",
      "43197it [00:29, 1415.74it/s]\u001b[A\n",
      "43339it [00:30, 1409.62it/s]\u001b[A\n",
      "43486it [00:30, 1426.43it/s]\u001b[A\n",
      "43640it [00:30, 1457.63it/s]\u001b[A\n",
      "43787it [00:30, 1447.00it/s]\u001b[A\n",
      "43932it [00:30, 625.92it/s] \u001b[A\n",
      "44079it [00:30, 755.52it/s]\u001b[A\n",
      "44231it [00:31, 889.76it/s]\u001b[A\n",
      "44376it [00:31, 1006.41it/s]\u001b[A\n",
      "44518it [00:31, 1102.45it/s]\u001b[A\n",
      "44663it [00:31, 1187.28it/s]\u001b[A\n",
      "44807it [00:31, 1251.59it/s]\u001b[A\n",
      "44952it [00:31, 1303.63it/s]\u001b[A\n",
      "45101it [00:31, 1354.19it/s]\u001b[A\n",
      "45253it [00:31, 1399.16it/s]\u001b[A\n",
      "45400it [00:31, 1417.34it/s]\u001b[A\n",
      "45553it [00:31, 1449.03it/s]\u001b[A\n",
      "45704it [00:32, 1465.94it/s]\u001b[A\n",
      "45853it [00:32, 1466.61it/s]\u001b[A\n",
      "46004it [00:32, 1478.83it/s]\u001b[A\n",
      "46154it [00:32, 1452.97it/s]\u001b[A\n",
      "46301it [00:32, 1451.77it/s]\u001b[A\n",
      "46447it [00:32, 1404.64it/s]\u001b[A\n",
      "46601it [00:32, 1442.11it/s]\u001b[A\n",
      "46747it [00:32, 1440.83it/s]\u001b[A\n",
      "46892it [00:32, 1413.05it/s]\u001b[A\n",
      "47040it [00:33, 1431.68it/s]\u001b[A\n",
      "47184it [00:33, 1427.87it/s]\u001b[A\n",
      "47330it [00:33, 1435.29it/s]\u001b[A\n",
      "47474it [00:33, 1430.95it/s]\u001b[A\n",
      "47618it [00:33, 1428.85it/s]\u001b[A\n",
      "47764it [00:33, 1437.06it/s]\u001b[A\n",
      "47909it [00:33, 1440.78it/s]\u001b[A\n",
      "48059it [00:33, 1457.89it/s]\u001b[A\n",
      "48212it [00:33, 1477.65it/s]\u001b[A\n",
      "48360it [00:33, 1477.13it/s]\u001b[A\n",
      "48513it [00:34, 1491.87it/s]\u001b[A\n",
      "48664it [00:34, 1496.45it/s]\u001b[A\n",
      "48819it [00:34, 1510.99it/s]\u001b[A\n",
      "48971it [00:34, 1494.40it/s]\u001b[A\n",
      "49121it [00:34, 1389.57it/s]\u001b[A\n",
      "49266it [00:34, 1406.80it/s]\u001b[A\n",
      "49409it [00:34, 1412.12it/s]\u001b[A\n",
      "49552it [00:34, 1415.08it/s]\u001b[A\n",
      "49696it [00:34, 1422.10it/s]\u001b[A\n",
      "49843it [00:34, 1429.81it/s]\u001b[A\n",
      "49988it [00:35, 1434.80it/s]\u001b[A\n",
      "50132it [00:35, 1430.22it/s]\u001b[A\n",
      "50276it [00:35, 1406.97it/s]\u001b[A\n",
      "50417it [00:35, 1343.78it/s]\u001b[A\n",
      "50561it [00:35, 1369.59it/s]\u001b[A\n",
      "50713it [00:35, 1409.74it/s]\u001b[A\n",
      "50864it [00:35, 1436.46it/s]\u001b[A\n",
      "51009it [00:35, 1428.06it/s]\u001b[A\n",
      "51154it [00:35, 1433.69it/s]\u001b[A\n",
      "51304it [00:35, 1450.68it/s]\u001b[A\n",
      "51450it [00:36, 1438.57it/s]\u001b[A\n",
      "51595it [00:36, 1440.87it/s]\u001b[A\n",
      "51743it [00:36, 1452.09it/s]\u001b[A\n",
      "51889it [00:36, 1376.94it/s]\u001b[A\n",
      "52028it [00:36, 1355.64it/s]\u001b[A\n",
      "52175it [00:36, 1387.71it/s]\u001b[A\n",
      "52323it [00:36, 1413.71it/s]\u001b[A\n",
      "52465it [00:36, 1399.27it/s]\u001b[A\n",
      "52612it [00:36, 1417.96it/s]\u001b[A\n",
      "52759it [00:37, 1433.00it/s]\u001b[A\n",
      "52904it [00:37, 1436.51it/s]\u001b[A\n",
      "53050it [00:37, 1443.48it/s]\u001b[A\n",
      "53195it [00:37, 1431.48it/s]\u001b[A\n",
      "53339it [00:37, 1362.50it/s]\u001b[A\n",
      "53477it [00:37, 1365.52it/s]\u001b[A\n",
      "53615it [00:37, 1326.40it/s]\u001b[A\n",
      "53765it [00:37, 1373.94it/s]\u001b[A\n",
      "53912it [00:37, 1399.49it/s]\u001b[A\n",
      "54061it [00:37, 1424.84it/s]\u001b[A\n",
      "54212it [00:38, 1447.94it/s]\u001b[A\n",
      "54360it [00:38, 1455.34it/s]\u001b[A\n",
      "54509it [00:38, 1463.11it/s]\u001b[A\n",
      "54656it [00:38, 1427.95it/s]\u001b[A\n",
      "54800it [00:38, 1428.93it/s]\u001b[A\n",
      "54944it [00:38, 1423.03it/s]\u001b[A\n",
      "55087it [00:38, 1424.21it/s]\u001b[A\n",
      "55235it [00:38, 1438.56it/s]\u001b[A\n",
      "55383it [00:38, 1448.85it/s]\u001b[A\n",
      "55528it [00:38, 1440.21it/s]\u001b[A\n",
      "55673it [00:39, 1439.90it/s]\u001b[A\n",
      "55819it [00:39, 1445.11it/s]\u001b[A\n",
      "55965it [00:39, 1447.06it/s]\u001b[A\n",
      "56110it [00:39, 1440.13it/s]\u001b[A\n",
      "56260it [00:39, 1457.29it/s]\u001b[A\n",
      "56406it [00:39, 1415.72it/s]\u001b[A\n",
      "56557it [00:39, 1441.38it/s]\u001b[A\n",
      "56706it [00:39, 1455.15it/s]\u001b[A\n",
      "56852it [00:40, 549.58it/s] \u001b[A\n",
      "56979it [00:40, 662.26it/s]\u001b[A\n",
      "57120it [00:40, 787.31it/s]\u001b[A\n",
      "57264it [00:40, 910.93it/s]\u001b[A\n",
      "57406it [00:40, 1019.12it/s]\u001b[A\n",
      "57551it [00:40, 1118.48it/s]\u001b[A\n",
      "57694it [00:41, 1195.08it/s]\u001b[A\n",
      "57840it [00:41, 1263.24it/s]\u001b[A\n",
      "57988it [00:41, 1319.21it/s]\u001b[A\n",
      "58131it [00:41, 1348.73it/s]\u001b[A\n",
      "58274it [00:41, 1359.54it/s]\u001b[A\n",
      "58416it [00:41, 1290.05it/s]\u001b[A\n",
      "58562it [00:41, 1336.44it/s]\u001b[A\n",
      "58705it [00:41, 1362.02it/s]\u001b[A\n",
      "58854it [00:41, 1395.86it/s]\u001b[A\n",
      "59002it [00:41, 1418.99it/s]\u001b[A\n",
      "59152it [00:42, 1440.06it/s]\u001b[A\n",
      "59298it [00:42, 1427.23it/s]\u001b[A\n",
      "59443it [00:42, 1433.34it/s]\u001b[A\n",
      "59590it [00:42, 1441.04it/s]\u001b[A\n",
      "59740it [00:42, 1455.65it/s]\u001b[A\n",
      "59886it [00:42, 1426.29it/s]\u001b[A\n",
      "60040it [00:42, 1458.04it/s]\u001b[A\n",
      "60187it [00:42, 1459.89it/s]\u001b[A\n",
      "60334it [00:42, 1437.02it/s]\u001b[A\n",
      "60487it [00:42, 1463.35it/s]\u001b[A\n",
      "60639it [00:43, 1479.82it/s]\u001b[A\n",
      "60788it [00:43, 1481.43it/s]\u001b[A\n",
      "60940it [00:43, 1492.33it/s]\u001b[A\n",
      "61090it [00:43, 1456.90it/s]\u001b[A\n",
      "61243it [00:43, 1477.30it/s]\u001b[A\n",
      "61392it [00:43, 1444.65it/s]\u001b[A\n",
      "61537it [00:43, 1425.38it/s]\u001b[A\n",
      "61683it [00:43, 1431.45it/s]\u001b[A\n",
      "61827it [00:43, 1429.45it/s]\u001b[A\n",
      "61971it [00:43, 1419.67it/s]\u001b[A\n",
      "62114it [00:44, 1416.35it/s]\u001b[A\n",
      "62256it [00:44, 1410.51it/s]\u001b[A\n",
      "62398it [00:44, 1327.36it/s]\u001b[A\n",
      "62532it [00:44, 1304.28it/s]\u001b[A\n",
      "62677it [00:44, 1344.54it/s]\u001b[A\n",
      "62813it [00:44, 1343.35it/s]\u001b[A\n",
      "62963it [00:44, 1383.66it/s]\u001b[A\n",
      "63107it [00:44, 1399.36it/s]\u001b[A\n",
      "63248it [00:44, 1401.72it/s]\u001b[A\n",
      "63389it [00:45, 1339.32it/s]\u001b[A\n",
      "63528it [00:45, 1353.67it/s]\u001b[A\n",
      "63670it [00:45, 1361.94it/s]\u001b[A\n",
      "63807it [00:45, 1363.42it/s]\u001b[A\n",
      "63944it [00:45, 1323.20it/s]\u001b[A\n",
      "64085it [00:45, 1346.15it/s]\u001b[A\n",
      "64222it [00:45, 1353.22it/s]\u001b[A\n",
      "64370it [00:45, 1388.20it/s]\u001b[A\n",
      "64522it [00:45, 1422.85it/s]\u001b[A\n",
      "64669it [00:45, 1435.44it/s]\u001b[A\n",
      "64819it [00:46, 1454.12it/s]\u001b[A\n",
      "64968it [00:46, 1464.51it/s]\u001b[A\n",
      "65117it [00:46, 1470.95it/s]\u001b[A\n",
      "65265it [00:46, 1458.02it/s]\u001b[A\n",
      "65411it [00:46, 1442.33it/s]\u001b[A\n",
      "65556it [00:46, 1377.00it/s]\u001b[A\n",
      "65695it [00:46, 1344.30it/s]\u001b[A\n",
      "65842it [00:46, 1379.14it/s]\u001b[A\n",
      "65991it [00:46, 1410.56it/s]\u001b[A\n",
      "66135it [00:46, 1418.45it/s]\u001b[A\n",
      "66287it [00:47, 1447.39it/s]\u001b[A\n",
      "66443it [00:47, 1479.04it/s]\u001b[A\n",
      "66599it [00:47, 1499.74it/s]\u001b[A\n",
      "66750it [00:47, 1454.03it/s]\u001b[A\n",
      "66905it [00:47, 1481.16it/s]\u001b[A\n",
      "67054it [00:47, 1483.33it/s]\u001b[A\n",
      "67203it [00:47, 1459.82it/s]\u001b[A\n",
      "67355it [00:47, 1473.73it/s]\u001b[A\n",
      "67510it [00:47, 1495.10it/s]\u001b[A\n",
      "67664it [00:48, 1504.44it/s]\u001b[A\n",
      "67815it [00:48, 1475.10it/s]\u001b[A\n",
      "67963it [00:48, 1464.04it/s]\u001b[A\n",
      "68110it [00:48, 1458.76it/s]\u001b[A\n",
      "68257it [00:48, 1454.31it/s]\u001b[A\n",
      "68403it [00:48, 1447.33it/s]\u001b[A\n",
      "68556it [00:48, 1469.91it/s]\u001b[A\n",
      "68704it [00:48, 1449.72it/s]\u001b[A\n",
      "68852it [00:48, 1455.92it/s]\u001b[A\n",
      "68998it [00:48, 1455.31it/s]\u001b[A\n",
      "69148it [00:49, 1467.68it/s]\u001b[A\n",
      "69296it [00:49, 1469.19it/s]\u001b[A\n",
      "69446it [00:49, 1478.09it/s]\u001b[A\n",
      "69594it [00:49, 1473.46it/s]\u001b[A\n",
      "69743it [00:49, 1475.79it/s]\u001b[A\n",
      "69891it [00:49, 1476.18it/s]\u001b[A\n",
      "70039it [00:49, 1473.93it/s]\u001b[A\n",
      "70187it [00:49, 1442.14it/s]\u001b[A\n",
      "70339it [00:49, 1462.67it/s]\u001b[A\n",
      "70488it [00:49, 1468.60it/s]\u001b[A\n",
      "70639it [00:50, 1480.53it/s]\u001b[A\n",
      "70788it [00:50, 1465.59it/s]\u001b[A\n",
      "70935it [00:50, 1463.30it/s]\u001b[A\n",
      "71082it [00:50, 1463.83it/s]\u001b[A\n",
      "71235it [00:50, 1481.07it/s]\u001b[A\n",
      "71386it [00:50, 1488.56it/s]\u001b[A\n",
      "71535it [00:50, 1486.69it/s]\u001b[A\n",
      "71684it [00:50, 1453.36it/s]\u001b[A\n",
      "71839it [00:50, 1479.20it/s]\u001b[A\n",
      "71991it [00:50, 1488.69it/s]\u001b[A\n",
      "72146it [00:51, 1504.31it/s]\u001b[A\n",
      "72300it [00:51, 1514.77it/s]\u001b[A\n",
      "72452it [00:51, 1486.55it/s]\u001b[A\n",
      "72601it [00:51, 1487.53it/s]\u001b[A\n",
      "72750it [00:51, 1480.56it/s]\u001b[A\n",
      "72899it [00:51, 1482.75it/s]\u001b[A\n",
      "73048it [00:52, 488.45it/s] \u001b[A\n",
      "73187it [00:52, 606.19it/s]\u001b[A\n",
      "73320it [00:52, 724.02it/s]\u001b[A\n",
      "73462it [00:52, 848.33it/s]\u001b[A\n",
      "73601it [00:52, 959.37it/s]\u001b[A\n",
      "73749it [00:52, 1072.24it/s]\u001b[A\n",
      "73892it [00:52, 1159.17it/s]\u001b[A\n",
      "74042it [00:53, 1243.01it/s]\u001b[A\n",
      "74192it [00:53, 1308.21it/s]\u001b[A\n",
      "74336it [00:53, 1338.94it/s]\u001b[A\n",
      "74482it [00:53, 1371.23it/s]\u001b[A\n",
      "74629it [00:53, 1398.47it/s]\u001b[A\n",
      "74780it [00:53, 1429.97it/s]\u001b[A\n",
      "74927it [00:53, 1441.71it/s]\u001b[A\n",
      "75074it [00:53, 1432.55it/s]\u001b[A\n",
      "75220it [00:53, 1429.71it/s]\u001b[A\n",
      "75370it [00:53, 1449.50it/s]\u001b[A\n",
      "75518it [00:54, 1454.07it/s]\u001b[A\n",
      "75666it [00:54, 1460.76it/s]\u001b[A\n",
      "75819it [00:54, 1479.36it/s]\u001b[A\n",
      "75968it [00:54, 1472.36it/s]\u001b[A\n",
      "76119it [00:54, 1481.62it/s]\u001b[A\n",
      "76269it [00:54, 1484.45it/s]\u001b[A\n",
      "76418it [00:54, 1473.03it/s]\u001b[A\n",
      "76566it [00:54, 1469.04it/s]\u001b[A\n",
      "76713it [00:54, 1433.33it/s]\u001b[A\n",
      "76857it [00:54, 1433.05it/s]\u001b[A\n",
      "77004it [00:55, 1441.04it/s]\u001b[A\n",
      "77152it [00:55, 1452.07it/s]\u001b[A\n",
      "77300it [00:55, 1459.37it/s]\u001b[A\n",
      "77447it [00:55, 1453.87it/s]\u001b[A\n",
      "77593it [00:55, 1387.30it/s]\u001b[A\n",
      "77733it [00:55, 1375.75it/s]\u001b[A\n",
      "77881it [00:55, 1404.81it/s]\u001b[A\n",
      "78025it [00:55, 1411.89it/s]\u001b[A\n",
      "78167it [00:55, 1400.47it/s]\u001b[A\n",
      "78320it [00:56, 1436.09it/s]\u001b[A\n",
      "78469it [00:56, 1449.75it/s]\u001b[A\n",
      "78621it [00:56, 1469.72it/s]\u001b[A\n",
      "78772it [00:56, 1479.47it/s]\u001b[A\n",
      "78922it [00:56, 1485.30it/s]\u001b[A\n",
      "79071it [00:56, 1476.09it/s]\u001b[A\n",
      "79219it [00:56, 1468.78it/s]\u001b[A\n",
      "79366it [00:56, 1461.82it/s]\u001b[A\n",
      "79513it [00:56, 1458.13it/s]\u001b[A\n",
      "79659it [00:56, 1419.69it/s]\u001b[A\n",
      "79802it [00:57, 1416.31it/s]\u001b[A\n",
      "79957it [00:57, 1453.84it/s]\u001b[A\n",
      "80104it [00:57, 1456.78it/s]\u001b[A\n",
      "80251it [00:57, 1460.14it/s]\u001b[A\n",
      "80401it [00:57, 1470.46it/s]\u001b[A\n",
      "80549it [00:57, 1469.92it/s]\u001b[A\n",
      "80697it [00:57, 1456.45it/s]\u001b[A\n",
      "80844it [00:57, 1459.53it/s]\u001b[A\n",
      "80994it [00:57, 1469.04it/s]\u001b[A\n",
      "81141it [00:57, 1431.88it/s]\u001b[A\n",
      "81289it [00:58, 1445.14it/s]\u001b[A\n",
      "81434it [00:58, 1439.47it/s]\u001b[A\n",
      "81579it [00:58, 1441.39it/s]\u001b[A\n",
      "81724it [00:58, 1443.79it/s]\u001b[A\n",
      "81870it [00:58, 1447.11it/s]\u001b[A\n",
      "82016it [00:58, 1449.10it/s]\u001b[A\n",
      "82163it [00:58, 1453.64it/s]\u001b[A\n",
      "82316it [00:58, 1473.83it/s]\u001b[A\n",
      "82467it [00:58, 1482.40it/s]\u001b[A\n",
      "82616it [00:58, 1400.86it/s]\u001b[A\n",
      "82762it [00:59, 1416.29it/s]\u001b[A\n",
      "82908it [00:59, 1427.57it/s]\u001b[A\n",
      "83052it [00:59, 1423.07it/s]\u001b[A\n",
      "83201it [00:59, 1440.46it/s]\u001b[A\n",
      "83354it [00:59, 1465.60it/s]\u001b[A\n",
      "83510it [00:59, 1492.28it/s]\u001b[A\n",
      "83660it [00:59, 1474.83it/s]\u001b[A\n",
      "83815it [00:59, 1493.58it/s]\u001b[A\n",
      "83968it [00:59, 1503.28it/s]\u001b[A\n",
      "84119it [00:59, 1449.37it/s]\u001b[A\n",
      "84265it [01:00, 1444.20it/s]\u001b[A\n",
      "84410it [01:00, 1443.63it/s]\u001b[A\n",
      "84555it [01:00, 1441.18it/s]\u001b[A\n",
      "84706it [01:00, 1460.60it/s]\u001b[A\n",
      "84858it [01:00, 1477.77it/s]\u001b[A\n",
      "85009it [01:00, 1486.38it/s]\u001b[A\n",
      "85162it [01:00, 1495.55it/s]\u001b[A\n",
      "85312it [01:00, 1445.56it/s]\u001b[A\n",
      "85458it [01:00, 1446.47it/s]\u001b[A\n",
      "85603it [01:01, 1431.05it/s]\u001b[A\n",
      "85751it [01:01, 1444.59it/s]\u001b[A\n",
      "85896it [01:01, 1444.15it/s]\u001b[A\n",
      "86041it [01:01, 1427.50it/s]\u001b[A\n",
      "86190it [01:01, 1445.66it/s]\u001b[A\n",
      "86336it [01:01, 1448.44it/s]\u001b[A\n",
      "86482it [01:01, 1449.47it/s]\u001b[A\n",
      "86628it [01:01, 1450.86it/s]\u001b[A\n",
      "86774it [01:01, 1438.63it/s]\u001b[A\n",
      "86925it [01:01, 1458.20it/s]\u001b[A\n",
      "87071it [01:02, 1436.22it/s]\u001b[A\n",
      "87225it [01:02, 1464.72it/s]\u001b[A\n",
      "87372it [01:02, 1448.97it/s]\u001b[A\n",
      "87518it [01:02, 1445.67it/s]\u001b[A\n",
      "87665it [01:02, 1451.50it/s]\u001b[A\n",
      "87811it [01:02, 1399.49it/s]\u001b[A\n",
      "87961it [01:02, 1426.55it/s]\u001b[A\n",
      "88111it [01:02, 1446.39it/s]\u001b[A\n",
      "88257it [01:02, 1447.33it/s]\u001b[A\n",
      "88407it [01:02, 1460.91it/s]\u001b[A\n",
      "88554it [01:03, 1447.47it/s]\u001b[A\n",
      "88706it [01:03, 1468.20it/s]\u001b[A\n",
      "88854it [01:03, 1466.27it/s]\u001b[A\n",
      "89004it [01:03, 1475.12it/s]\u001b[A\n",
      "89154it [01:03, 1482.01it/s]\u001b[A\n",
      "89304it [01:03, 1486.84it/s]\u001b[A\n",
      "89456it [01:03, 1495.95it/s]\u001b[A\n",
      "89606it [01:03, 1493.64it/s]\u001b[A\n",
      "89757it [01:03, 1498.41it/s]\u001b[A\n",
      "89907it [01:03, 1486.45it/s]\u001b[A\n",
      "90056it [01:04, 1434.67it/s]\u001b[A\n",
      "90200it [01:04, 1427.48it/s]\u001b[A\n",
      "90344it [01:04, 1415.91it/s]\u001b[A\n",
      "90486it [01:04, 1380.46it/s]\u001b[A\n",
      "90635it [01:04, 1409.25it/s]\u001b[A\n",
      "90784it [01:04, 1430.67it/s]\u001b[A\n",
      "90934it [01:04, 1449.58it/s]\u001b[A\n",
      "91080it [01:04, 1448.39it/s]\u001b[A\n",
      "91229it [01:04, 1460.50it/s]\u001b[A\n",
      "91379it [01:04, 1469.65it/s]\u001b[A\n",
      "91527it [01:05, 1420.59it/s]\u001b[A\n",
      "91680it [01:05, 1449.44it/s]\u001b[A\n",
      "91827it [01:05, 1453.65it/s]\u001b[A\n",
      "91973it [01:05, 1451.59it/s]\u001b[A\n",
      "92125it [01:05, 1469.00it/s]\u001b[A\n",
      "92280it [01:05, 1491.99it/s]\u001b[A\n",
      "92430it [01:05, 1493.24it/s]\u001b[A\n",
      "92580it [01:05, 1464.41it/s]\u001b[A\n",
      "92727it [01:05, 1456.02it/s]\u001b[A\n",
      "92878it [01:06, 1471.52it/s]\u001b[A\n",
      "93026it [01:06, 417.17it/s] \u001b[A\n",
      "93167it [01:07, 528.85it/s]\u001b[A\n",
      "93319it [01:07, 657.45it/s]\u001b[A\n",
      "93470it [01:07, 791.49it/s]\u001b[A\n",
      "93605it [01:07, 902.95it/s]\u001b[A\n",
      "93747it [01:07, 1013.61it/s]\u001b[A\n",
      "93889it [01:07, 1106.92it/s]\u001b[A\n",
      "94028it [01:07, 1165.06it/s]\u001b[A\n",
      "94184it [01:07, 1260.03it/s]\u001b[A\n",
      "94338it [01:07, 1331.89it/s]\u001b[A\n",
      "94492it [01:07, 1386.72it/s]\u001b[A\n",
      "94648it [01:08, 1432.93it/s]\u001b[A\n",
      "94799it [01:08, 1419.54it/s]\u001b[A\n",
      "94946it [01:08, 1399.26it/s]\u001b[A\n",
      "95095it [01:08, 1425.23it/s]\u001b[A\n",
      "95242it [01:08, 1437.49it/s]\u001b[A\n",
      "95390it [01:08, 1449.44it/s]\u001b[A\n",
      "95537it [01:08, 1454.67it/s]\u001b[A\n",
      "95684it [01:08, 1455.97it/s]\u001b[A\n",
      "95831it [01:08, 1453.56it/s]\u001b[A\n",
      "95979it [01:08, 1460.65it/s]\u001b[A\n",
      "96132it [01:09, 1480.45it/s]\u001b[A\n",
      "96281it [01:09, 1442.95it/s]\u001b[A\n",
      "96431it [01:09, 1457.55it/s]\u001b[A\n",
      "96581it [01:09, 1468.25it/s]\u001b[A\n",
      "96598it [01:09, 1391.51it/s]\u001b[A\n",
      "0it [00:00, ?it/s]\u001b[A\n",
      "146it [00:00, 1454.84it/s]\u001b[A\n",
      "289it [00:00, 1444.76it/s]\u001b[A\n",
      "438it [00:00, 1456.41it/s]\u001b[A\n",
      "587it [00:00, 1464.29it/s]\u001b[A\n",
      "741it [00:00, 1482.33it/s]\u001b[A\n",
      "884it [00:00, 1465.09it/s]\u001b[A\n",
      "1030it [00:00, 1461.60it/s]\u001b[A\n",
      "1175it [00:00, 1456.58it/s]\u001b[A\n",
      "1327it [00:00, 1474.78it/s]\u001b[A\n",
      "1485it [00:01, 1502.49it/s]\u001b[A\n",
      "1640it [00:01, 1514.41it/s]\u001b[A\n",
      "1793it [00:01, 1517.98it/s]\u001b[A\n",
      "1943it [00:01, 1505.51it/s]\u001b[A\n",
      "2093it [00:01, 1497.53it/s]\u001b[A\n",
      "2243it [00:01, 1496.43it/s]\u001b[A\n",
      "2393it [00:01, 1495.71it/s]\u001b[A\n",
      "2543it [00:01, 1487.90it/s]\u001b[A\n",
      "2692it [00:01, 1448.62it/s]\u001b[A\n",
      "2837it [00:01, 1435.83it/s]\u001b[A\n",
      "2991it [00:02, 1462.02it/s]\u001b[A\n",
      "3138it [00:02, 1411.13it/s]\u001b[A\n",
      "3280it [00:02, 1409.84it/s]\u001b[A\n",
      "3429it [00:02, 1431.81it/s]\u001b[A\n",
      "3583it [00:02, 1461.88it/s]\u001b[A\n",
      "3738it [00:02, 1486.00it/s]\u001b[A\n",
      "3887it [00:02, 1467.42it/s]\u001b[A\n",
      "4035it [00:02, 1459.33it/s]\u001b[A\n",
      "4182it [00:02, 1452.27it/s]\u001b[A\n",
      "4328it [00:02, 1447.10it/s]\u001b[A\n",
      "4477it [00:03, 1455.72it/s]\u001b[A\n",
      "4626it [00:03, 1464.09it/s]\u001b[A\n",
      "4774it [00:03, 1465.17it/s]\u001b[A\n",
      "4921it [00:03, 1450.35it/s]\u001b[A\n",
      "5071it [00:03, 1463.81it/s]\u001b[A\n",
      "5222it [00:03, 1475.41it/s]\u001b[A\n",
      "5377it [00:03, 1496.23it/s]\u001b[A\n",
      "5527it [00:03, 1490.25it/s]\u001b[A\n",
      "5677it [00:03, 1459.54it/s]\u001b[A\n",
      "5825it [00:03, 1465.46it/s]\u001b[A\n",
      "5977it [00:04, 1479.89it/s]\u001b[A\n",
      "6129it [00:04, 1489.69it/s]\u001b[A\n",
      "6279it [00:04, 1487.50it/s]\u001b[A\n",
      "6428it [00:04, 1479.98it/s]\u001b[A\n",
      "6582it [00:04, 1495.65it/s]\u001b[A\n",
      "6734it [00:04, 1501.79it/s]\u001b[A\n",
      "6890it [00:04, 1516.65it/s]\u001b[A\n",
      "7042it [00:04, 1515.63it/s]\u001b[A\n",
      "7194it [00:04, 1390.60it/s]\u001b[A\n",
      "7340it [00:05, 1409.12it/s]\u001b[A\n",
      "7487it [00:05, 1426.45it/s]\u001b[A\n",
      "7635it [00:05, 1439.67it/s]\u001b[A\n",
      "7780it [00:05, 1442.69it/s]\u001b[A\n",
      "7929it [00:05, 1455.42it/s]\u001b[A\n",
      "8077it [00:05, 1461.04it/s]\u001b[A\n",
      "8227it [00:05, 1471.36it/s]\u001b[A\n",
      "8377it [00:05, 1479.03it/s]\u001b[A\n",
      "8528it [00:05, 1488.07it/s]\u001b[A\n",
      "8677it [00:05, 1461.01it/s]\u001b[A\n",
      "8824it [00:06, 1401.85it/s]\u001b[A\n",
      "8974it [00:06, 1427.33it/s]\u001b[A\n",
      "9122it [00:06, 1440.82it/s]\u001b[A\n",
      "9272it [00:06, 1457.93it/s]\u001b[A\n",
      "9427it [00:06, 1483.21it/s]\u001b[A\n",
      "9576it [00:06, 1477.65it/s]\u001b[A\n",
      "9725it [00:06, 1477.26it/s]\u001b[A\n",
      "9873it [00:06, 1456.51it/s]\u001b[A\n",
      "10019it [00:06, 1445.86it/s]\u001b[A\n",
      "10164it [00:06, 1440.07it/s]\u001b[A\n",
      "10320it [00:07, 1472.00it/s]\u001b[A\n",
      "10470it [00:07, 1479.13it/s]\u001b[A\n",
      "10619it [00:07, 1474.76it/s]\u001b[A\n",
      "10734it [00:07, 1466.64it/s]\u001b[A"
     ]
    }
   ],
   "source": [
    "train_data = reader.read('setup_punchline_train.csv')\n",
    "val_data = reader.read('setup_punchline_dev.csv')"
   ]
  },
  {
   "cell_type": "code",
   "execution_count": null,
   "metadata": {
    "colab": {
     "base_uri": "https://localhost:8080/",
     "height": 340
    },
    "colab_type": "code",
    "executionInfo": {
     "elapsed": 80969,
     "status": "ok",
     "timestamp": 1576681794508,
     "user": {
      "displayName": "Екатерина Григорьевна Воробьева",
      "photoUrl": "",
      "userId": "10024917321860360426"
     },
     "user_tz": -180
    },
    "id": "GwrTlr6__OQd",
    "outputId": "2b8b9501-3121-48ec-e285-4f8d8cd06c86"
   },
   "outputs": [
    {
     "name": "stderr",
     "output_type": "stream",
     "text": [
      "\n",
      "  0%|          | 0/107332 [00:00<?, ?it/s]\u001b[A\n",
      "  6%|▌         | 6293/107332 [00:00<00:01, 62924.36it/s]\u001b[A\n",
      " 11%|█         | 11800/107332 [00:00<00:01, 60337.27it/s]\u001b[A\n",
      " 17%|█▋        | 17813/107332 [00:00<00:01, 60272.58it/s]\u001b[A\n",
      " 22%|██▏       | 24034/107332 [00:00<00:01, 60838.78it/s]\u001b[A\n",
      " 28%|██▊       | 30578/107332 [00:00<00:01, 62147.23it/s]\u001b[A\n",
      " 34%|███▍      | 36618/107332 [00:00<00:01, 61610.40it/s]\u001b[A\n",
      " 40%|████      | 43057/107332 [00:00<00:01, 62417.94it/s]\u001b[A\n",
      " 46%|████▌     | 49611/107332 [00:00<00:00, 63320.75it/s]\u001b[A\n",
      " 52%|█████▏    | 56016/107332 [00:00<00:00, 63537.21it/s]\u001b[A\n",
      " 58%|█████▊    | 62601/107332 [00:01<00:00, 64212.03it/s]\u001b[A\n",
      " 64%|██████▍   | 68989/107332 [00:01<00:00, 64109.64it/s]\u001b[A\n",
      " 70%|███████   | 75540/107332 [00:01<00:00, 64521.17it/s]\u001b[A\n",
      " 76%|███████▋  | 81910/107332 [00:01<00:00, 64266.64it/s]\u001b[A\n",
      " 82%|████████▏ | 88337/107332 [00:01<00:00, 64265.27it/s]\u001b[A\n",
      " 88%|████████▊ | 94816/107332 [00:01<00:00, 64419.20it/s]\u001b[A\n",
      " 94%|█████████▍| 101230/107332 [00:01<00:00, 63029.01it/s]\u001b[A\n",
      "100%|██████████| 107332/107332 [00:01<00:00, 63070.88it/s]\u001b[A"
     ]
    }
   ],
   "source": [
    "vocab = Vocabulary.from_instances(train_data + val_data)"
   ]
  },
  {
   "cell_type": "code",
   "execution_count": null,
   "metadata": {
    "colab": {},
    "colab_type": "code",
    "id": "mAnmGOA0_UMK"
   },
   "outputs": [],
   "source": [
    "vocab.save_to_files(\"/elmochar/word_vocabulary_v1\")"
   ]
  },
  {
   "cell_type": "code",
   "execution_count": null,
   "metadata": {
    "colab": {},
    "colab_type": "code",
    "id": "YTj3PvpUg-m1"
   },
   "outputs": [],
   "source": [
    "Q_EMBEDDING_DIM = 256\n",
    "HIDDEN_DIM = 256\n",
    "A_EMBEDDING_DIM = 256\n",
    "CUDA_DEVICE = 0\n",
    "metrics_history = []"
   ]
  },
  {
   "cell_type": "code",
   "execution_count": null,
   "metadata": {
    "colab": {
     "base_uri": "https://localhost:8080/",
     "height": 1000
    },
    "colab_type": "code",
    "executionInfo": {
     "elapsed": 24268,
     "status": "ok",
     "timestamp": 1576647757338,
     "user": {
      "displayName": "Екатерина Григорьевна Воробьева",
      "photoUrl": "",
      "userId": "10024917321860360426"
     },
     "user_tz": -180
    },
    "id": "VIFcxJV4_ZmI",
    "outputId": "690970f3-8cdd-46e8-a464-435271a9bb96"
   },
   "outputs": [
    {
     "name": "stderr",
     "output_type": "stream",
     "text": [
      "You provided a validation dataset but patience was set to None, meaning that early stopping is disabled\n",
      "\n",
      "  0%|          | 0/3019 [00:00<?, ?it/s]\u001b[A"
     ]
    },
    {
     "name": "stdout",
     "output_type": "stream",
     "text": [
      "\n",
      "Epoch: 0\n",
      "\n"
     ]
    },
    {
     "name": "stderr",
     "output_type": "stream",
     "text": [
      "\n",
      "loss: 11.0678 ||:   0%|          | 1/3019 [00:05<4:57:55,  5.92s/it]\u001b[A\n",
      "loss: 10.9777 ||:   0%|          | 2/3019 [00:06<3:35:23,  4.28s/it]\u001b[A\n",
      "loss: 10.8999 ||:   0%|          | 3/3019 [00:06<2:34:22,  3.07s/it]\u001b[A\n",
      "loss: 10.8164 ||:   0%|          | 4/3019 [00:07<1:54:36,  2.28s/it]\u001b[A\n",
      "loss: 10.7110 ||:   0%|          | 5/3019 [00:07<1:25:49,  1.71s/it]\u001b[A\n",
      "loss: 10.5849 ||:   0%|          | 6/3019 [00:07<1:03:55,  1.27s/it]\u001b[A\n",
      "loss: 10.4718 ||:   0%|          | 7/3019 [00:08<50:25,  1.00s/it]  \u001b[A\n",
      "loss: 10.3689 ||:   0%|          | 8/3019 [00:08<39:02,  1.29it/s]\u001b[A\n",
      "loss: 10.2388 ||:   0%|          | 9/3019 [00:08<30:55,  1.62it/s]\u001b[A\n",
      "loss: 10.1107 ||:   0%|          | 10/3019 [00:08<25:24,  1.97it/s]\u001b[A\n",
      "loss: 9.9812 ||:   0%|          | 11/3019 [00:09<26:41,  1.88it/s] \u001b[A\n",
      "loss: 9.8461 ||:   0%|          | 12/3019 [00:09<23:24,  2.14it/s]\u001b[A\n",
      "loss: 9.7085 ||:   0%|          | 13/3019 [00:09<20:32,  2.44it/s]\u001b[A\n",
      "loss: 9.5755 ||:   0%|          | 14/3019 [00:10<17:25,  2.87it/s]\u001b[A\n",
      "loss: 9.4391 ||:   0%|          | 15/3019 [00:10<15:22,  3.26it/s]\u001b[A\n",
      "loss: 9.3150 ||:   1%|          | 16/3019 [00:10<15:27,  3.24it/s]\u001b[A\n",
      "loss: 9.0320 ||:   1%|          | 17/3019 [00:10<13:20,  3.75it/s]\u001b[A\n",
      "loss: 8.9344 ||:   1%|          | 18/3019 [00:11<15:18,  3.27it/s]\u001b[A\n",
      "loss: 8.8516 ||:   1%|          | 19/3019 [00:11<14:42,  3.40it/s]\u001b[A\n",
      "loss: 8.7697 ||:   1%|          | 20/3019 [00:11<14:26,  3.46it/s]\u001b[A\n",
      "loss: 8.6746 ||:   1%|          | 21/3019 [00:12<14:57,  3.34it/s]\u001b[A\n",
      "loss: 8.5166 ||:   1%|          | 22/3019 [00:12<14:31,  3.44it/s]\u001b[A\n",
      "loss: 8.4654 ||:   1%|          | 23/3019 [00:12<17:21,  2.88it/s]\u001b[A\n",
      "loss: 8.3093 ||:   1%|          | 24/3019 [00:13<15:20,  3.25it/s]\u001b[A\n",
      "loss: 8.2421 ||:   1%|          | 25/3019 [00:13<15:35,  3.20it/s]\u001b[A\n",
      "loss: 8.2018 ||:   1%|          | 26/3019 [00:13<15:11,  3.28it/s]\u001b[A\n",
      "loss: 8.1562 ||:   1%|          | 27/3019 [00:14<15:28,  3.22it/s]\u001b[A\n",
      "loss: 8.1108 ||:   1%|          | 28/3019 [00:14<13:59,  3.56it/s]\u001b[A\n",
      "loss: 8.0594 ||:   1%|          | 29/3019 [00:14<13:23,  3.72it/s]\u001b[A\n",
      "loss: 8.0252 ||:   1%|          | 30/3019 [00:14<13:29,  3.69it/s]\u001b[A\n",
      "loss: 7.9743 ||:   1%|          | 31/3019 [00:15<14:09,  3.52it/s]\u001b[A\n",
      "loss: 7.9525 ||:   1%|          | 32/3019 [00:15<13:12,  3.77it/s]\u001b[A\n",
      "loss: 7.8596 ||:   1%|          | 33/3019 [00:15<13:00,  3.83it/s]\u001b[A\n",
      "loss: 7.8294 ||:   1%|          | 34/3019 [00:15<12:41,  3.92it/s]\u001b[A\n",
      "loss: 7.8062 ||:   1%|          | 35/3019 [00:16<13:08,  3.78it/s]\u001b[A\n",
      "loss: 7.7814 ||:   1%|          | 36/3019 [00:16<13:36,  3.65it/s]\u001b[A\n",
      "loss: 7.7487 ||:   1%|          | 37/3019 [00:16<12:51,  3.86it/s]\u001b[A\n",
      "loss: 7.7302 ||:   1%|▏         | 38/3019 [00:16<14:20,  3.46it/s]\u001b[A\n",
      "loss: 7.6923 ||:   1%|▏         | 39/3019 [00:17<14:58,  3.32it/s]\u001b[A\n",
      "loss: 7.6405 ||:   1%|▏         | 40/3019 [00:17<15:03,  3.30it/s]\u001b[A\n",
      "loss: 7.6218 ||:   1%|▏         | 41/3019 [00:17<14:07,  3.51it/s]\u001b[A\n",
      "loss: 7.5911 ||:   1%|▏         | 42/3019 [00:18<14:00,  3.54it/s]\u001b[A\n",
      "loss: 7.5640 ||:   1%|▏         | 43/3019 [00:18<14:03,  3.53it/s]\u001b[A\n",
      "loss: 7.5492 ||:   1%|▏         | 44/3019 [00:18<14:40,  3.38it/s]\u001b[A\n",
      "loss: 7.5366 ||:   1%|▏         | 45/3019 [00:18<14:04,  3.52it/s]\u001b[A\n",
      "loss: 7.5286 ||:   2%|▏         | 46/3019 [00:19<12:59,  3.81it/s]\u001b[A\n",
      "loss: 7.5114 ||:   2%|▏         | 47/3019 [00:19<13:12,  3.75it/s]\u001b[A\n",
      "loss: 7.4870 ||:   2%|▏         | 48/3019 [00:19<13:29,  3.67it/s]\u001b[A\n",
      "loss: 7.4797 ||:   2%|▏         | 49/3019 [00:20<13:49,  3.58it/s]\u001b[A\n",
      "loss: 7.4017 ||:   2%|▏         | 50/3019 [00:20<12:34,  3.93it/s]\u001b[A\n",
      "loss: 7.3838 ||:   2%|▏         | 51/3019 [00:20<12:29,  3.96it/s]\u001b[A\n",
      "loss: 7.3700 ||:   2%|▏         | 52/3019 [00:20<14:31,  3.40it/s]\u001b[A\n",
      "loss: 7.3651 ||:   2%|▏         | 53/3019 [00:21<14:41,  3.37it/s]\u001b[A\n",
      "loss: 7.3625 ||:   2%|▏         | 54/3019 [00:21<14:55,  3.31it/s]\u001b[A\n",
      "loss: 7.3515 ||:   2%|▏         | 55/3019 [00:21<15:56,  3.10it/s]\u001b[A\n",
      "loss: 7.3291 ||:   2%|▏         | 56/3019 [00:22<15:43,  3.14it/s]\u001b[A\n",
      "loss: 7.3179 ||:   2%|▏         | 57/3019 [00:22<15:24,  3.21it/s]\u001b[A\n",
      "loss: 7.2799 ||:   2%|▏         | 58/3019 [00:22<14:32,  3.40it/s]\u001b[A\n",
      "loss: 7.2750 ||:   2%|▏         | 59/3019 [00:22<13:07,  3.76it/s]\u001b[A\n",
      "loss: 7.2518 ||:   2%|▏         | 60/3019 [00:23<13:18,  3.70it/s]\u001b[A\n",
      "loss: 7.2458 ||:   2%|▏         | 61/3019 [00:23<13:40,  3.61it/s]\u001b[A\n",
      "loss: 7.2126 ||:   2%|▏         | 62/3019 [00:23<13:49,  3.57it/s]\u001b[A\n",
      "loss: 7.2053 ||:   2%|▏         | 63/3019 [00:24<13:20,  3.69it/s]\u001b[A\n",
      "loss: 7.1956 ||:   2%|▏         | 64/3019 [00:24<13:59,  3.52it/s]\u001b[A\n",
      "loss: 7.1809 ||:   2%|▏         | 65/3019 [00:24<13:20,  3.69it/s]\u001b[A\n",
      "loss: 7.1662 ||:   2%|▏         | 66/3019 [00:24<13:00,  3.78it/s]\u001b[A\n",
      "loss: 7.1571 ||:   2%|▏         | 67/3019 [00:25<14:08,  3.48it/s]\u001b[A\n",
      "loss: 7.1474 ||:   2%|▏         | 68/3019 [00:25<13:51,  3.55it/s]\u001b[A\n",
      "loss: 7.1337 ||:   2%|▏         | 69/3019 [00:25<13:13,  3.72it/s]\u001b[A\n",
      "loss: 7.1182 ||:   2%|▏         | 70/3019 [00:26<14:26,  3.40it/s]\u001b[A\n",
      "loss: 7.1099 ||:   2%|▏         | 71/3019 [00:26<16:06,  3.05it/s]\u001b[A\n",
      "loss: 7.0986 ||:   2%|▏         | 72/3019 [00:26<15:22,  3.20it/s]\u001b[A\n",
      "loss: 7.0551 ||:   2%|▏         | 73/3019 [00:26<13:36,  3.61it/s]\u001b[A\n",
      "loss: 7.0509 ||:   2%|▏         | 74/3019 [00:27<15:22,  3.19it/s]\u001b[A\n",
      "loss: 7.0311 ||:   2%|▏         | 75/3019 [00:27<15:14,  3.22it/s]\u001b[A\n",
      "loss: 7.0261 ||:   3%|▎         | 76/3019 [00:27<15:51,  3.09it/s]\u001b[A\n",
      "loss: 6.9997 ||:   3%|▎         | 77/3019 [00:28<14:30,  3.38it/s]\u001b[A\n",
      "loss: 6.9955 ||:   3%|▎         | 78/3019 [00:28<16:09,  3.03it/s]\u001b[A\n",
      "loss: 6.9873 ||:   3%|▎         | 79/3019 [00:28<14:41,  3.34it/s]\u001b[A\n",
      "loss: 6.9779 ||:   3%|▎         | 80/3019 [00:29<16:06,  3.04it/s]\u001b[A\n",
      "loss: 6.9728 ||:   3%|▎         | 81/3019 [00:29<15:44,  3.11it/s]\u001b[A\n",
      "loss: 6.9680 ||:   3%|▎         | 82/3019 [00:30<17:25,  2.81it/s]\u001b[A\n",
      "loss: 6.9595 ||:   3%|▎         | 83/3019 [00:30<16:31,  2.96it/s]\u001b[A\n",
      "loss: 6.9528 ||:   3%|▎         | 84/3019 [00:30<14:48,  3.30it/s]\u001b[A\n",
      "loss: 6.9441 ||:   3%|▎         | 85/3019 [00:30<14:07,  3.46it/s]\u001b[A\n",
      "loss: 6.9322 ||:   3%|▎         | 86/3019 [00:31<13:57,  3.50it/s]\u001b[A\n",
      "loss: 6.9089 ||:   3%|▎         | 87/3019 [00:31<15:45,  3.10it/s]\u001b[A\n",
      "loss: 6.9016 ||:   3%|▎         | 88/3019 [00:31<14:41,  3.32it/s]\u001b[A\n",
      "loss: 6.8951 ||:   3%|▎         | 89/3019 [00:31<14:19,  3.41it/s]\u001b[A\n",
      "loss: 6.8913 ||:   3%|▎         | 90/3019 [00:32<13:47,  3.54it/s]\u001b[A\n",
      "loss: 6.8843 ||:   3%|▎         | 91/3019 [00:32<14:07,  3.45it/s]\u001b[A\n",
      "loss: 6.8582 ||:   3%|▎         | 92/3019 [00:32<12:52,  3.79it/s]\u001b[A\n",
      "loss: 6.8447 ||:   3%|▎         | 93/3019 [00:32<12:14,  3.98it/s]\u001b[A\n",
      "loss: 6.8398 ||:   3%|▎         | 94/3019 [00:33<12:37,  3.86it/s]\u001b[A\n",
      "loss: 6.8334 ||:   3%|▎         | 95/3019 [00:33<12:53,  3.78it/s]\u001b[A\n",
      "loss: 6.8264 ||:   3%|▎         | 96/3019 [00:33<13:03,  3.73it/s]\u001b[A\n",
      "loss: 6.8132 ||:   3%|▎         | 97/3019 [00:34<14:17,  3.41it/s]\u001b[A\n",
      "loss: 6.8104 ||:   3%|▎         | 98/3019 [00:34<15:33,  3.13it/s]\u001b[A\n",
      "loss: 6.8075 ||:   3%|▎         | 99/3019 [00:34<14:22,  3.39it/s]\u001b[A\n",
      "loss: 6.8024 ||:   3%|▎         | 100/3019 [00:35<15:19,  3.17it/s]\u001b[A\n",
      "loss: 6.7937 ||:   3%|▎         | 101/3019 [00:35<14:31,  3.35it/s]\u001b[A\n",
      "loss: 6.7840 ||:   3%|▎         | 102/3019 [00:35<13:49,  3.52it/s]\u001b[A\n",
      "loss: 6.7709 ||:   3%|▎         | 103/3019 [00:35<13:42,  3.55it/s]\u001b[A\n",
      "loss: 6.7655 ||:   3%|▎         | 104/3019 [00:36<13:21,  3.64it/s]\u001b[A\n",
      "loss: 6.7564 ||:   3%|▎         | 105/3019 [00:36<13:55,  3.49it/s]\u001b[A\n",
      "loss: 6.7464 ||:   4%|▎         | 106/3019 [00:36<13:54,  3.49it/s]\u001b[A\n",
      "loss: 6.7437 ||:   4%|▎         | 107/3019 [00:37<14:19,  3.39it/s]\u001b[A\n",
      "loss: 6.7390 ||:   4%|▎         | 108/3019 [00:37<14:19,  3.39it/s]\u001b[A\n",
      "loss: 6.7346 ||:   4%|▎         | 109/3019 [00:37<14:18,  3.39it/s]\u001b[A\n",
      "loss: 6.7291 ||:   4%|▎         | 110/3019 [00:37<13:53,  3.49it/s]\u001b[A\n",
      "loss: 6.7264 ||:   4%|▎         | 111/3019 [00:38<13:53,  3.49it/s]\u001b[A\n",
      "loss: 6.7243 ||:   4%|▎         | 112/3019 [00:38<15:05,  3.21it/s]\u001b[A\n",
      "loss: 6.7199 ||:   4%|▎         | 113/3019 [00:38<14:44,  3.29it/s]\u001b[A\n",
      "loss: 6.7151 ||:   4%|▍         | 114/3019 [00:39<15:07,  3.20it/s]\u001b[A\n",
      "loss: 6.7098 ||:   4%|▍         | 115/3019 [00:39<15:17,  3.17it/s]\u001b[A\n",
      "loss: 6.7033 ||:   4%|▍         | 116/3019 [00:39<15:00,  3.22it/s]\u001b[A\n",
      "loss: 6.6960 ||:   4%|▍         | 117/3019 [00:40<14:16,  3.39it/s]\u001b[A\n",
      "loss: 6.6921 ||:   4%|▍         | 118/3019 [00:40<15:12,  3.18it/s]\u001b[A\n",
      "loss: 6.6887 ||:   4%|▍         | 119/3019 [00:40<14:06,  3.42it/s]\u001b[A\n",
      "loss: 6.6840 ||:   4%|▍         | 120/3019 [00:40<13:36,  3.55it/s]\u001b[A\n",
      "loss: 6.6780 ||:   4%|▍         | 121/3019 [00:41<14:12,  3.40it/s]\u001b[A\n",
      "loss: 6.6740 ||:   4%|▍         | 122/3019 [00:41<14:39,  3.29it/s]\u001b[A\n",
      "loss: 6.6676 ||:   4%|▍         | 123/3019 [00:42<16:00,  3.02it/s]\u001b[A\n",
      "loss: 6.6641 ||:   4%|▍         | 124/3019 [00:42<15:28,  3.12it/s]\u001b[A\n",
      "loss: 6.6534 ||:   4%|▍         | 125/3019 [00:42<16:20,  2.95it/s]\u001b[A\n",
      "loss: 6.6487 ||:   4%|▍         | 126/3019 [00:43<16:31,  2.92it/s]\u001b[A\n",
      "loss: 6.6456 ||:   4%|▍         | 127/3019 [00:43<18:56,  2.55it/s]\u001b[A\n",
      "loss: 6.6401 ||:   4%|▍         | 128/3019 [00:43<18:36,  2.59it/s]\u001b[A\n",
      "loss: 6.6356 ||:   4%|▍         | 129/3019 [00:44<17:33,  2.74it/s]\u001b[A\n",
      "loss: 6.6165 ||:   4%|▍         | 130/3019 [00:44<16:03,  3.00it/s]\u001b[A\n",
      "loss: 6.6147 ||:   4%|▍         | 131/3019 [00:44<14:57,  3.22it/s]\u001b[A\n",
      "loss: 6.6140 ||:   4%|▍         | 132/3019 [00:45<14:36,  3.29it/s]\u001b[A\n",
      "loss: 6.6087 ||:   4%|▍         | 133/3019 [00:45<17:49,  2.70it/s]\u001b[A\n",
      "loss: 6.6077 ||:   4%|▍         | 134/3019 [00:45<17:15,  2.79it/s]\u001b[A\n",
      "loss: 6.6058 ||:   4%|▍         | 135/3019 [00:46<17:33,  2.74it/s]\u001b[A\n",
      "loss: 6.6041 ||:   5%|▍         | 136/3019 [00:46<16:32,  2.91it/s]\u001b[A\n",
      "loss: 6.5970 ||:   5%|▍         | 137/3019 [00:46<15:43,  3.05it/s]\u001b[A\n",
      "loss: 6.5928 ||:   5%|▍         | 138/3019 [00:47<14:03,  3.42it/s]\u001b[A\n",
      "loss: 6.5886 ||:   5%|▍         | 139/3019 [00:47<13:09,  3.65it/s]\u001b[A\n",
      "loss: 6.5861 ||:   5%|▍         | 140/3019 [00:47<13:34,  3.53it/s]\u001b[A\n",
      "loss: 6.5830 ||:   5%|▍         | 141/3019 [00:47<12:41,  3.78it/s]\u001b[A\n",
      "loss: 6.5790 ||:   5%|▍         | 142/3019 [00:48<13:24,  3.58it/s]\u001b[A\n",
      "loss: 6.5725 ||:   5%|▍         | 143/3019 [00:48<15:15,  3.14it/s]\u001b[A\n",
      "loss: 6.5719 ||:   5%|▍         | 144/3019 [00:48<16:16,  2.94it/s]\u001b[A\n",
      "loss: 6.5680 ||:   5%|▍         | 145/3019 [00:49<17:47,  2.69it/s]\u001b[A\n",
      "loss: 6.5644 ||:   5%|▍         | 146/3019 [00:49<16:41,  2.87it/s]\u001b[A\n",
      "loss: 6.5612 ||:   5%|▍         | 147/3019 [00:50<18:04,  2.65it/s]\u001b[A\n",
      "loss: 6.5598 ||:   5%|▍         | 148/3019 [00:50<17:10,  2.79it/s]\u001b[A\n",
      "loss: 6.5480 ||:   5%|▍         | 149/3019 [00:50<16:17,  2.94it/s]\u001b[A\n",
      "loss: 6.5480 ||:   5%|▍         | 150/3019 [00:51<16:26,  2.91it/s]\u001b[A\n",
      "loss: 6.5434 ||:   5%|▌         | 151/3019 [00:51<16:24,  2.91it/s]\u001b[A\n",
      "loss: 6.5386 ||:   5%|▌         | 152/3019 [00:51<15:35,  3.06it/s]\u001b[A\n",
      "loss: 6.5367 ||:   5%|▌         | 153/3019 [00:52<15:01,  3.18it/s]\u001b[A\n",
      "loss: 6.5309 ||:   5%|▌         | 154/3019 [00:52<13:57,  3.42it/s]\u001b[A\n",
      "loss: 6.5301 ||:   5%|▌         | 155/3019 [00:52<14:00,  3.41it/s]\u001b[A\n",
      "loss: 6.5260 ||:   5%|▌         | 156/3019 [00:52<12:57,  3.68it/s]\u001b[A\n",
      "loss: 6.5209 ||:   5%|▌         | 157/3019 [00:53<13:58,  3.41it/s]\u001b[A\n",
      "loss: 6.5102 ||:   5%|▌         | 158/3019 [00:53<14:18,  3.33it/s]\u001b[A\n",
      "loss: 6.5049 ||:   5%|▌         | 159/3019 [00:53<13:59,  3.41it/s]\u001b[A\n",
      "loss: 6.5023 ||:   5%|▌         | 160/3019 [00:53<13:20,  3.57it/s]\u001b[A\n",
      "loss: 6.5016 ||:   5%|▌         | 161/3019 [00:54<12:39,  3.77it/s]\u001b[A\n",
      "loss: 6.4973 ||:   5%|▌         | 162/3019 [00:54<12:40,  3.76it/s]\u001b[A\n",
      "loss: 6.4945 ||:   5%|▌         | 163/3019 [00:54<14:09,  3.36it/s]\u001b[A\n",
      "loss: 6.4900 ||:   5%|▌         | 164/3019 [00:55<14:15,  3.34it/s]\u001b[A\n",
      "loss: 6.4874 ||:   5%|▌         | 165/3019 [00:55<15:23,  3.09it/s]\u001b[A\n",
      "loss: 6.4852 ||:   5%|▌         | 166/3019 [00:55<14:51,  3.20it/s]\u001b[A\n",
      "loss: 6.4741 ||:   6%|▌         | 167/3019 [00:56<13:42,  3.47it/s]\u001b[A\n",
      "loss: 6.4717 ||:   6%|▌         | 168/3019 [00:56<14:27,  3.29it/s]\u001b[A\n",
      "loss: 6.4696 ||:   6%|▌         | 169/3019 [00:56<15:46,  3.01it/s]\u001b[A\n",
      "loss: 6.4682 ||:   6%|▌         | 170/3019 [00:57<15:38,  3.03it/s]\u001b[A\n",
      "loss: 6.4652 ||:   6%|▌         | 171/3019 [00:57<15:10,  3.13it/s]\u001b[A\n",
      "loss: 6.4609 ||:   6%|▌         | 172/3019 [00:57<13:46,  3.44it/s]\u001b[A\n",
      "loss: 6.4577 ||:   6%|▌         | 173/3019 [00:58<26:48,  1.77it/s]\u001b[A\n",
      "loss: 6.4489 ||:   6%|▌         | 174/3019 [00:59<22:26,  2.11it/s]\u001b[A\n",
      "loss: 6.4466 ||:   6%|▌         | 175/3019 [00:59<20:42,  2.29it/s]\u001b[A\n",
      "loss: 6.4450 ||:   6%|▌         | 176/3019 [00:59<19:13,  2.46it/s]\u001b[A\n",
      "loss: 6.4425 ||:   6%|▌         | 177/3019 [01:00<17:47,  2.66it/s]\u001b[A\n",
      "loss: 6.4412 ||:   6%|▌         | 178/3019 [01:00<16:46,  2.82it/s]\u001b[A\n",
      "loss: 6.4396 ||:   6%|▌         | 179/3019 [01:00<16:12,  2.92it/s]\u001b[A\n",
      "loss: 6.4360 ||:   6%|▌         | 180/3019 [01:00<15:32,  3.05it/s]\u001b[A\n",
      "loss: 6.4177 ||:   6%|▌         | 181/3019 [01:01<14:12,  3.33it/s]\u001b[A\n",
      "loss: 6.4161 ||:   6%|▌         | 182/3019 [01:01<14:07,  3.35it/s]\u001b[A\n",
      "loss: 6.4140 ||:   6%|▌         | 183/3019 [01:01<14:44,  3.21it/s]\u001b[A\n",
      "loss: 6.4048 ||:   6%|▌         | 184/3019 [01:02<15:04,  3.13it/s]\u001b[A\n",
      "loss: 6.3994 ||:   6%|▌         | 185/3019 [01:02<14:21,  3.29it/s]\u001b[A\n",
      "loss: 6.3833 ||:   6%|▌         | 186/3019 [01:02<15:03,  3.14it/s]\u001b[A\n",
      "loss: 6.3785 ||:   6%|▌         | 187/3019 [01:03<14:35,  3.23it/s]\u001b[A\n",
      "loss: 6.3689 ||:   6%|▌         | 188/3019 [01:03<14:25,  3.27it/s]\u001b[A\n",
      "loss: 6.3487 ||:   6%|▋         | 189/3019 [01:03<12:52,  3.66it/s]\u001b[A\n",
      "loss: 6.3403 ||:   6%|▋         | 190/3019 [01:03<12:48,  3.68it/s]\u001b[A\n",
      "loss: 6.3416 ||:   6%|▋         | 191/3019 [01:04<13:16,  3.55it/s]\u001b[A\n",
      "loss: 6.3398 ||:   6%|▋         | 192/3019 [01:04<12:32,  3.76it/s]\u001b[A\n",
      "loss: 6.3405 ||:   6%|▋         | 193/3019 [01:04<12:41,  3.71it/s]\u001b[A\n",
      "loss: 6.3195 ||:   6%|▋         | 194/3019 [01:04<12:02,  3.91it/s]\u001b[A\n",
      "loss: 6.3187 ||:   6%|▋         | 195/3019 [01:05<12:36,  3.74it/s]\u001b[A\n",
      "loss: 6.3191 ||:   6%|▋         | 196/3019 [01:05<13:23,  3.51it/s]\u001b[A\n",
      "loss: 6.3169 ||:   7%|▋         | 197/3019 [01:05<13:24,  3.51it/s]\u001b[A\n",
      "loss: 6.3152 ||:   7%|▋         | 198/3019 [01:06<15:46,  2.98it/s]\u001b[A\n",
      "loss: 6.3142 ||:   7%|▋         | 199/3019 [01:06<15:12,  3.09it/s]\u001b[A\n",
      "loss: 6.3151 ||:   7%|▋         | 200/3019 [01:06<14:17,  3.29it/s]\u001b[A\n",
      "loss: 6.3033 ||:   7%|▋         | 201/3019 [01:07<13:07,  3.58it/s]\u001b[A\n",
      "loss: 6.3011 ||:   7%|▋         | 202/3019 [01:07<13:13,  3.55it/s]\u001b[A\n",
      "loss: 6.2994 ||:   7%|▋         | 203/3019 [01:07<12:29,  3.75it/s]\u001b[A\n",
      "loss: 6.2990 ||:   7%|▋         | 204/3019 [01:07<13:33,  3.46it/s]\u001b[A\n",
      "loss: 6.2974 ||:   7%|▋         | 205/3019 [01:08<13:46,  3.41it/s]\u001b[A\n",
      "loss: 6.2960 ||:   7%|▋         | 206/3019 [01:08<13:00,  3.60it/s]\u001b[A\n",
      "loss: 6.2914 ||:   7%|▋         | 207/3019 [01:08<13:16,  3.53it/s]\u001b[A\n",
      "loss: 6.2802 ||:   7%|▋         | 208/3019 [01:08<12:34,  3.73it/s]\u001b[A\n",
      "loss: 6.2791 ||:   7%|▋         | 209/3019 [01:09<12:34,  3.72it/s]\u001b[A\n",
      "loss: 6.2778 ||:   7%|▋         | 210/3019 [01:09<11:45,  3.98it/s]\u001b[A\n",
      "loss: 6.2739 ||:   7%|▋         | 211/3019 [01:09<11:51,  3.95it/s]\u001b[A\n",
      "loss: 6.2714 ||:   7%|▋         | 212/3019 [01:09<11:48,  3.96it/s]\u001b[A\n",
      "loss: 6.2703 ||:   7%|▋         | 213/3019 [01:10<12:17,  3.81it/s]\u001b[A\n",
      "loss: 6.2682 ||:   7%|▋         | 214/3019 [01:10<12:45,  3.66it/s]\u001b[A\n",
      "loss: 6.2685 ||:   7%|▋         | 215/3019 [01:10<13:28,  3.47it/s]\u001b[A\n",
      "loss: 6.2480 ||:   7%|▋         | 216/3019 [01:11<11:55,  3.92it/s]\u001b[A\n",
      "loss: 6.2480 ||:   7%|▋         | 217/3019 [01:11<12:37,  3.70it/s]\u001b[A\n",
      "loss: 6.2439 ||:   7%|▋         | 218/3019 [01:11<14:18,  3.26it/s]\u001b[A\n",
      "loss: 6.2451 ||:   7%|▋         | 219/3019 [01:12<15:20,  3.04it/s]\u001b[A\n",
      "loss: 6.2426 ||:   7%|▋         | 220/3019 [01:12<14:29,  3.22it/s]\u001b[A\n",
      "loss: 6.2394 ||:   7%|▋         | 221/3019 [01:12<16:00,  2.91it/s]\u001b[A\n",
      "loss: 6.2376 ||:   7%|▋         | 222/3019 [01:13<14:17,  3.26it/s]\u001b[A\n",
      "loss: 6.2357 ||:   7%|▋         | 223/3019 [01:13<14:32,  3.20it/s]\u001b[A\n",
      "loss: 6.2318 ||:   7%|▋         | 224/3019 [01:13<14:51,  3.14it/s]\u001b[A\n",
      "loss: 6.2315 ||:   7%|▋         | 225/3019 [01:13<12:42,  3.67it/s]\u001b[A\n",
      "loss: 6.2302 ||:   7%|▋         | 226/3019 [01:14<14:26,  3.22it/s]\u001b[A\n",
      "loss: 6.2235 ||:   8%|▊         | 227/3019 [01:14<13:58,  3.33it/s]\u001b[A\n",
      "loss: 6.2213 ||:   8%|▊         | 228/3019 [01:14<13:47,  3.37it/s]\u001b[A\n",
      "loss: 6.2210 ||:   8%|▊         | 229/3019 [01:15<13:38,  3.41it/s]\u001b[A\n",
      "loss: 6.2197 ||:   8%|▊         | 230/3019 [01:15<14:18,  3.25it/s]\u001b[A\n",
      "loss: 6.2182 ||:   8%|▊         | 231/3019 [01:15<13:44,  3.38it/s]\u001b[A\n",
      "loss: 6.2160 ||:   8%|▊         | 232/3019 [01:15<13:36,  3.41it/s]\u001b[A\n",
      "loss: 6.2146 ||:   8%|▊         | 233/3019 [01:16<12:12,  3.81it/s]\u001b[A\n",
      "loss: 6.2132 ||:   8%|▊         | 234/3019 [01:16<13:58,  3.32it/s]\u001b[A\n",
      "loss: 6.2136 ||:   8%|▊         | 235/3019 [01:16<13:37,  3.41it/s]\u001b[A\n",
      "loss: 6.2129 ||:   8%|▊         | 236/3019 [01:17<14:01,  3.31it/s]\u001b[A\n",
      "loss: 6.2128 ||:   8%|▊         | 237/3019 [01:17<14:19,  3.24it/s]\u001b[A\n",
      "loss: 6.2128 ||:   8%|▊         | 238/3019 [01:17<14:46,  3.14it/s]\u001b[A\n",
      "loss: 6.2061 ||:   8%|▊         | 239/3019 [01:18<14:12,  3.26it/s]\u001b[A\n",
      "loss: 6.2045 ||:   8%|▊         | 240/3019 [01:18<13:23,  3.46it/s]\u001b[A\n",
      "loss: 6.2032 ||:   8%|▊         | 241/3019 [01:18<14:23,  3.22it/s]\u001b[A\n",
      "loss: 6.2036 ||:   8%|▊         | 242/3019 [01:19<17:41,  2.62it/s]\u001b[A\n",
      "loss: 6.1992 ||:   8%|▊         | 243/3019 [01:19<17:23,  2.66it/s]\u001b[A\n",
      "loss: 6.1988 ||:   8%|▊         | 244/3019 [01:19<16:01,  2.89it/s]\u001b[A\n",
      "loss: 6.1988 ||:   8%|▊         | 245/3019 [01:20<17:54,  2.58it/s]\u001b[A\n",
      "loss: 6.1980 ||:   8%|▊         | 246/3019 [01:20<16:37,  2.78it/s]\u001b[A\n",
      "loss: 6.1953 ||:   8%|▊         | 247/3019 [01:20<15:28,  2.98it/s]\u001b[A\n",
      "loss: 6.1866 ||:   8%|▊         | 248/3019 [01:21<14:18,  3.23it/s]\u001b[A\n",
      "loss: 6.1831 ||:   8%|▊         | 249/3019 [01:21<12:41,  3.64it/s]\u001b[A\n",
      "loss: 6.1826 ||:   8%|▊         | 250/3019 [01:21<14:30,  3.18it/s]\u001b[A\n",
      "loss: 6.1807 ||:   8%|▊         | 251/3019 [01:22<13:20,  3.46it/s]\u001b[A\n",
      "loss: 6.1794 ||:   8%|▊         | 252/3019 [01:22<13:32,  3.41it/s]\u001b[A\n",
      "loss: 6.1818 ||:   8%|▊         | 253/3019 [01:22<14:35,  3.16it/s]\u001b[A\n",
      "loss: 6.1786 ||:   8%|▊         | 254/3019 [01:23<14:26,  3.19it/s]\u001b[A\n",
      "loss: 6.1747 ||:   8%|▊         | 255/3019 [01:23<13:21,  3.45it/s]\u001b[A\n",
      "loss: 6.1724 ||:   8%|▊         | 256/3019 [01:23<13:49,  3.33it/s]\u001b[A\n",
      "loss: 6.1614 ||:   9%|▊         | 257/3019 [01:23<14:03,  3.28it/s]\u001b[A\n",
      "loss: 6.1572 ||:   9%|▊         | 258/3019 [01:24<14:57,  3.08it/s]\u001b[A\n",
      "loss: 6.1570 ||:   9%|▊         | 259/3019 [01:24<15:18,  3.00it/s]\u001b[A\n",
      "loss: 6.1458 ||:   9%|▊         | 260/3019 [01:24<13:55,  3.30it/s]\u001b[A\n",
      "loss: 6.1433 ||:   9%|▊         | 261/3019 [01:25<14:59,  3.07it/s]\u001b[A\n",
      "loss: 6.1390 ||:   9%|▊         | 262/3019 [01:25<14:03,  3.27it/s]\u001b[A\n",
      "loss: 6.1380 ||:   9%|▊         | 263/3019 [01:25<13:46,  3.33it/s]\u001b[A\n",
      "loss: 6.1382 ||:   9%|▊         | 264/3019 [01:26<13:50,  3.32it/s]\u001b[A\n",
      "loss: 6.1369 ||:   9%|▉         | 265/3019 [01:26<15:03,  3.05it/s]\u001b[A\n",
      "loss: 6.1341 ||:   9%|▉         | 266/3019 [01:26<15:21,  2.99it/s]\u001b[A\n",
      "loss: 6.1336 ||:   9%|▉         | 267/3019 [01:27<14:41,  3.12it/s]\u001b[A\n",
      "loss: 6.1326 ||:   9%|▉         | 268/3019 [01:27<14:28,  3.17it/s]\u001b[A\n",
      "loss: 6.1299 ||:   9%|▉         | 269/3019 [01:27<13:33,  3.38it/s]\u001b[A\n",
      "loss: 6.1261 ||:   9%|▉         | 270/3019 [01:28<15:15,  3.00it/s]\u001b[A\n",
      "loss: 6.1269 ||:   9%|▉         | 271/3019 [01:28<14:28,  3.16it/s]\u001b[A\n",
      "loss: 6.1265 ||:   9%|▉         | 272/3019 [01:28<14:04,  3.25it/s]\u001b[A\n",
      "loss: 6.1249 ||:   9%|▉         | 273/3019 [01:28<13:32,  3.38it/s]\u001b[A\n",
      "loss: 6.1224 ||:   9%|▉         | 274/3019 [01:29<12:30,  3.66it/s]\u001b[A\n",
      "loss: 6.1120 ||:   9%|▉         | 275/3019 [01:29<12:27,  3.67it/s]\u001b[A\n",
      "loss: 6.1110 ||:   9%|▉         | 276/3019 [01:29<13:34,  3.37it/s]\u001b[A\n",
      "loss: 6.1105 ||:   9%|▉         | 277/3019 [01:30<13:40,  3.34it/s]\u001b[A\n",
      "loss: 6.1086 ||:   9%|▉         | 278/3019 [01:30<14:15,  3.20it/s]\u001b[A\n",
      "loss: 6.1103 ||:   9%|▉         | 279/3019 [01:30<13:46,  3.32it/s]\u001b[A\n",
      "loss: 6.1105 ||:   9%|▉         | 280/3019 [01:31<13:41,  3.33it/s]\u001b[A\n",
      "loss: 6.1111 ||:   9%|▉         | 281/3019 [01:31<14:01,  3.25it/s]\u001b[A\n",
      "loss: 6.1095 ||:   9%|▉         | 282/3019 [01:31<13:44,  3.32it/s]\u001b[A\n",
      "loss: 6.1080 ||:   9%|▉         | 283/3019 [01:31<14:24,  3.16it/s]\u001b[A\n",
      "loss: 6.1087 ||:   9%|▉         | 284/3019 [01:32<15:25,  2.95it/s]\u001b[A\n",
      "loss: 6.1073 ||:   9%|▉         | 285/3019 [01:32<14:05,  3.24it/s]\u001b[A\n",
      "loss: 6.1060 ||:   9%|▉         | 286/3019 [01:32<12:52,  3.54it/s]\u001b[A\n",
      "loss: 6.1068 ||:  10%|▉         | 287/3019 [01:33<13:40,  3.33it/s]\u001b[A\n",
      "loss: 6.1043 ||:  10%|▉         | 288/3019 [01:33<13:52,  3.28it/s]\u001b[A\n",
      "loss: 6.1056 ||:  10%|▉         | 289/3019 [01:33<14:22,  3.17it/s]\u001b[A\n",
      "loss: 6.1052 ||:  10%|▉         | 290/3019 [01:34<13:12,  3.44it/s]\u001b[A\n",
      "loss: 6.1049 ||:  10%|▉         | 291/3019 [01:34<13:23,  3.39it/s]\u001b[A\n",
      "loss: 6.1035 ||:  10%|▉         | 292/3019 [01:34<13:39,  3.33it/s]\u001b[A\n",
      "loss: 6.1011 ||:  10%|▉         | 293/3019 [01:34<13:43,  3.31it/s]\u001b[A\n",
      "loss: 6.1005 ||:  10%|▉         | 294/3019 [01:35<13:52,  3.27it/s]\u001b[A\n",
      "loss: 6.0958 ||:  10%|▉         | 295/3019 [01:35<12:44,  3.57it/s]\u001b[A\n",
      "loss: 6.0948 ||:  10%|▉         | 296/3019 [01:35<13:25,  3.38it/s]\u001b[A\n",
      "loss: 6.0946 ||:  10%|▉         | 297/3019 [01:36<14:26,  3.14it/s]\u001b[A"
     ]
    }
   ],
   "source": [
    "q_embedding = Embedding(num_embeddings=vocab.get_vocab_size('tokens'),\n",
    "                        embedding_dim=Q_EMBEDDING_DIM)\n",
    "\n",
    "encoder = StackedSelfAttentionEncoder(input_dim=Q_EMBEDDING_DIM, hidden_dim=HIDDEN_DIM, projection_dim=128, feedforward_hidden_dim=128, num_layers=1, num_attention_heads=8)\n",
    "\n",
    "source_embedder = BasicTextFieldEmbedder({\"tokens\": q_embedding})\n",
    "\n",
    "attention = DotProductAttention()\n",
    "\n",
    "model = SimpleSeq2Seq(vocab, source_embedder, encoder, 200,\n",
    "                      target_embedding_dim=A_EMBEDDING_DIM,\n",
    "                      attention=attention, use_bleu=False)\n",
    "optimizer = optim.Adam(model.parameters())\n",
    "iterator = BucketIterator(batch_size=32, sorting_keys=[(\"source_tokens\", \"num_tokens\")])\n",
    "\n",
    "iterator.index_with(vocab)\n",
    "\n",
    "model = model.cuda(0)\n",
    "\n",
    "trainer = Trainer(model=model,\n",
    "                  optimizer=optimizer,\n",
    "                  iterator=iterator,\n",
    "                  train_dataset=train_data,\n",
    "                  validation_dataset=val_data,\n",
    "                  num_epochs=1,\n",
    "                  cuda_device=CUDA_DEVICE)\n",
    "\n",
    "for i in range(20):\n",
    "    print('\\nEpoch: {}\\n'.format(i))\n",
    "    metrics = trainer.train()\n",
    "    metrics_history.append(metrics)\n",
    "    predictor = SimpleSeq2SeqPredictor(model, reader)\n",
    "\n",
    "    with open(\"elmo_model_word_v1.th\", 'wb') as f:\n",
    "      torch.save(model.state_dict(), f)\n",
    "    clear_output(True)\n",
    "\n",
    "    for instance in itertools.islice(val_data, 10):\n",
    "        print('SOURCE:', ''.join([str(x) for x in instance.fields['source_tokens'].tokens[1:-1]]))\n",
    "        print('GOLD:', ''.join([str(x) for x in instance.fields['target_tokens'].tokens[1:-1]]))\n",
    "        print('PRED:', ''.join([str(x) for x in predictor.predict_instance(instance)['predicted_tokens']]))"
   ]
  }
 ],
 "metadata": {
  "accelerator": "GPU",
  "colab": {
   "collapsed_sections": [
    "4YyVEacWfYZ7"
   ],
   "name": "NLP_Jokes_project.ipynb",
   "provenance": [],
   "toc_visible": true
  },
  "kernelspec": {
   "display_name": "Python 3.9.15 64-bit",
   "language": "python",
   "name": "python3"
  },
  "language_info": {
   "codemirror_mode": {
    "name": "ipython",
    "version": 3
   },
   "file_extension": ".py",
   "mimetype": "text/x-python",
   "name": "python",
   "nbconvert_exporter": "python",
   "pygments_lexer": "ipython3",
   "version": "3.9.15"
  },
  "vscode": {
   "interpreter": {
    "hash": "a665b5d41d17b532ea9890333293a1b812fa0b73c9c25c950b3cedf1bebd0438"
   }
  },
  "widgets": {
   "application/vnd.jupyter.widget-state+json": {
    "0161b7b3ab234960a3729ca121b2eb5d": {
     "model_module": "@jupyter-widgets/controls",
     "model_name": "HTMLModel",
     "state": {
      "_dom_classes": [],
      "_model_module": "@jupyter-widgets/controls",
      "_model_module_version": "1.5.0",
      "_model_name": "HTMLModel",
      "_view_count": null,
      "_view_module": "@jupyter-widgets/controls",
      "_view_module_version": "1.5.0",
      "_view_name": "HTMLView",
      "description": "",
      "description_tooltip": null,
      "layout": "IPY_MODEL_d68688def387492c86f61760da94a374",
      "placeholder": "​",
      "style": "IPY_MODEL_e0b35674e110435b8d6491d10d4b8ea2",
      "value": "  0% 0/15000 [00:00&lt;?, ?it/s]"
     }
    },
    "08189d5c3d7a47efb533e8794e84cbe7": {
     "model_module": "@jupyter-widgets/controls",
     "model_name": "IntProgressModel",
     "state": {
      "_dom_classes": [],
      "_model_module": "@jupyter-widgets/controls",
      "_model_module_version": "1.5.0",
      "_model_name": "IntProgressModel",
      "_view_count": null,
      "_view_module": "@jupyter-widgets/controls",
      "_view_module_version": "1.5.0",
      "_view_name": "ProgressView",
      "bar_style": "success",
      "description": "",
      "description_tooltip": null,
      "layout": "IPY_MODEL_d552982bd5c942c48197e1ef0ed99376",
      "max": 231657,
      "min": 0,
      "orientation": "horizontal",
      "style": "IPY_MODEL_6b5540a2b156444d9d28cabb4a83cd22",
      "value": 231657
     }
    },
    "09dd54eb90e0425bb2d9f3824e647dcf": {
     "model_module": "@jupyter-widgets/base",
     "model_name": "LayoutModel",
     "state": {
      "_model_module": "@jupyter-widgets/base",
      "_model_module_version": "1.2.0",
      "_model_name": "LayoutModel",
      "_view_count": null,
      "_view_module": "@jupyter-widgets/base",
      "_view_module_version": "1.2.0",
      "_view_name": "LayoutView",
      "align_content": null,
      "align_items": null,
      "align_self": null,
      "border": null,
      "bottom": null,
      "display": null,
      "flex": null,
      "flex_flow": null,
      "grid_area": null,
      "grid_auto_columns": null,
      "grid_auto_flow": null,
      "grid_auto_rows": null,
      "grid_column": null,
      "grid_gap": null,
      "grid_row": null,
      "grid_template_areas": null,
      "grid_template_columns": null,
      "grid_template_rows": null,
      "height": null,
      "justify_content": null,
      "justify_items": null,
      "left": null,
      "margin": null,
      "max_height": null,
      "max_width": null,
      "min_height": null,
      "min_width": null,
      "object_fit": null,
      "object_position": null,
      "order": null,
      "overflow": null,
      "overflow_x": null,
      "overflow_y": null,
      "padding": null,
      "right": null,
      "top": null,
      "visibility": null,
      "width": null
     }
    },
    "0d5d4829547540ab81d7fdfafbffab3e": {
     "model_module": "@jupyter-widgets/controls",
     "model_name": "HTMLModel",
     "state": {
      "_dom_classes": [],
      "_model_module": "@jupyter-widgets/controls",
      "_model_module_version": "1.5.0",
      "_model_name": "HTMLModel",
      "_view_count": null,
      "_view_module": "@jupyter-widgets/controls",
      "_view_module_version": "1.5.0",
      "_view_name": "HTMLView",
      "description": "",
      "description_tooltip": null,
      "layout": "IPY_MODEL_91943cb526ef4ca9b8a7ac0221f1a90a",
      "placeholder": "​",
      "style": "IPY_MODEL_2fcac953c1e24f4fbf92de4ce317c1cf",
      "value": "100% 231657/231657 [00:00&lt;00:00, 418903.64it/s]"
     }
    },
    "0dcf66c3542944029ae9537305958d86": {
     "model_module": "@jupyter-widgets/base",
     "model_name": "LayoutModel",
     "state": {
      "_model_module": "@jupyter-widgets/base",
      "_model_module_version": "1.2.0",
      "_model_name": "LayoutModel",
      "_view_count": null,
      "_view_module": "@jupyter-widgets/base",
      "_view_module_version": "1.2.0",
      "_view_name": "LayoutView",
      "align_content": null,
      "align_items": null,
      "align_self": null,
      "border": null,
      "bottom": null,
      "display": null,
      "flex": null,
      "flex_flow": null,
      "grid_area": null,
      "grid_auto_columns": null,
      "grid_auto_flow": null,
      "grid_auto_rows": null,
      "grid_column": null,
      "grid_gap": null,
      "grid_row": null,
      "grid_template_areas": null,
      "grid_template_columns": null,
      "grid_template_rows": null,
      "height": null,
      "justify_content": null,
      "justify_items": null,
      "left": null,
      "margin": null,
      "max_height": null,
      "max_width": null,
      "min_height": null,
      "min_width": null,
      "object_fit": null,
      "object_position": null,
      "order": null,
      "overflow": null,
      "overflow_x": null,
      "overflow_y": null,
      "padding": null,
      "right": null,
      "top": null,
      "visibility": null,
      "width": null
     }
    },
    "20ebb80b48bb4dd78d8e1536b872a0ed": {
     "model_module": "@jupyter-widgets/base",
     "model_name": "LayoutModel",
     "state": {
      "_model_module": "@jupyter-widgets/base",
      "_model_module_version": "1.2.0",
      "_model_name": "LayoutModel",
      "_view_count": null,
      "_view_module": "@jupyter-widgets/base",
      "_view_module_version": "1.2.0",
      "_view_name": "LayoutView",
      "align_content": null,
      "align_items": null,
      "align_self": null,
      "border": null,
      "bottom": null,
      "display": null,
      "flex": null,
      "flex_flow": null,
      "grid_area": null,
      "grid_auto_columns": null,
      "grid_auto_flow": null,
      "grid_auto_rows": null,
      "grid_column": null,
      "grid_gap": null,
      "grid_row": null,
      "grid_template_areas": null,
      "grid_template_columns": null,
      "grid_template_rows": null,
      "height": null,
      "justify_content": null,
      "justify_items": null,
      "left": null,
      "margin": null,
      "max_height": null,
      "max_width": null,
      "min_height": null,
      "min_width": null,
      "object_fit": null,
      "object_position": null,
      "order": null,
      "overflow": null,
      "overflow_x": null,
      "overflow_y": null,
      "padding": null,
      "right": null,
      "top": null,
      "visibility": null,
      "width": null
     }
    },
    "25b6c0979f34465baf269e91933b290c": {
     "model_module": "@jupyter-widgets/controls",
     "model_name": "HBoxModel",
     "state": {
      "_dom_classes": [],
      "_model_module": "@jupyter-widgets/controls",
      "_model_module_version": "1.5.0",
      "_model_name": "HBoxModel",
      "_view_count": null,
      "_view_module": "@jupyter-widgets/controls",
      "_view_module_version": "1.5.0",
      "_view_name": "HBoxView",
      "box_style": "",
      "children": [
       "IPY_MODEL_93430f35d5b7403b91ef3c805fc165da",
       "IPY_MODEL_0d5d4829547540ab81d7fdfafbffab3e"
      ],
      "layout": "IPY_MODEL_cd992671ac554abbaf3c372ee6f3204b"
     }
    },
    "29afa8cf922c4d0a8f9536c2c357049c": {
     "model_module": "@jupyter-widgets/base",
     "model_name": "LayoutModel",
     "state": {
      "_model_module": "@jupyter-widgets/base",
      "_model_module_version": "1.2.0",
      "_model_name": "LayoutModel",
      "_view_count": null,
      "_view_module": "@jupyter-widgets/base",
      "_view_module_version": "1.2.0",
      "_view_name": "LayoutView",
      "align_content": null,
      "align_items": null,
      "align_self": null,
      "border": null,
      "bottom": null,
      "display": null,
      "flex": null,
      "flex_flow": null,
      "grid_area": null,
      "grid_auto_columns": null,
      "grid_auto_flow": null,
      "grid_auto_rows": null,
      "grid_column": null,
      "grid_gap": null,
      "grid_row": null,
      "grid_template_areas": null,
      "grid_template_columns": null,
      "grid_template_rows": null,
      "height": null,
      "justify_content": null,
      "justify_items": null,
      "left": null,
      "margin": null,
      "max_height": null,
      "max_width": null,
      "min_height": null,
      "min_width": null,
      "object_fit": null,
      "object_position": null,
      "order": null,
      "overflow": null,
      "overflow_x": null,
      "overflow_y": null,
      "padding": null,
      "right": null,
      "top": null,
      "visibility": null,
      "width": null
     }
    },
    "2c1c430a52b44ec790af25959f93f31b": {
     "model_module": "@jupyter-widgets/controls",
     "model_name": "HTMLModel",
     "state": {
      "_dom_classes": [],
      "_model_module": "@jupyter-widgets/controls",
      "_model_module_version": "1.5.0",
      "_model_name": "HTMLModel",
      "_view_count": null,
      "_view_module": "@jupyter-widgets/controls",
      "_view_module_version": "1.5.0",
      "_view_name": "HTMLView",
      "description": "",
      "description_tooltip": null,
      "layout": "IPY_MODEL_6b252265c48a40438b9db2d52c95b5d1",
      "placeholder": "​",
      "style": "IPY_MODEL_b28c2fa87f7b4d43b6696bbf18fa2973",
      "value": "400001it [00:27, 14418.83it/s]"
     }
    },
    "2fcac953c1e24f4fbf92de4ce317c1cf": {
     "model_module": "@jupyter-widgets/controls",
     "model_name": "DescriptionStyleModel",
     "state": {
      "_model_module": "@jupyter-widgets/controls",
      "_model_module_version": "1.5.0",
      "_model_name": "DescriptionStyleModel",
      "_view_count": null,
      "_view_module": "@jupyter-widgets/base",
      "_view_module_version": "1.2.0",
      "_view_name": "StyleView",
      "description_width": ""
     }
    },
    "30bb94d3308d46518a758f09324fd196": {
     "model_module": "@jupyter-widgets/controls",
     "model_name": "IntProgressModel",
     "state": {
      "_dom_classes": [],
      "_model_module": "@jupyter-widgets/controls",
      "_model_module_version": "1.5.0",
      "_model_name": "IntProgressModel",
      "_view_count": null,
      "_view_module": "@jupyter-widgets/controls",
      "_view_module_version": "1.5.0",
      "_view_name": "ProgressView",
      "bar_style": "success",
      "description": "",
      "description_tooltip": null,
      "layout": "IPY_MODEL_cee1e418ba124eee839a7bd474d0e2ac",
      "max": 231657,
      "min": 0,
      "orientation": "horizontal",
      "style": "IPY_MODEL_821d381b79994c2fa829a93fd77bbcc4",
      "value": 231657
     }
    },
    "3b0212edb62343478df1d31dff2e5c57": {
     "model_module": "@jupyter-widgets/base",
     "model_name": "LayoutModel",
     "state": {
      "_model_module": "@jupyter-widgets/base",
      "_model_module_version": "1.2.0",
      "_model_name": "LayoutModel",
      "_view_count": null,
      "_view_module": "@jupyter-widgets/base",
      "_view_module_version": "1.2.0",
      "_view_name": "LayoutView",
      "align_content": null,
      "align_items": null,
      "align_self": null,
      "border": null,
      "bottom": null,
      "display": null,
      "flex": null,
      "flex_flow": null,
      "grid_area": null,
      "grid_auto_columns": null,
      "grid_auto_flow": null,
      "grid_auto_rows": null,
      "grid_column": null,
      "grid_gap": null,
      "grid_row": null,
      "grid_template_areas": null,
      "grid_template_columns": null,
      "grid_template_rows": null,
      "height": null,
      "justify_content": null,
      "justify_items": null,
      "left": null,
      "margin": null,
      "max_height": null,
      "max_width": null,
      "min_height": null,
      "min_width": null,
      "object_fit": null,
      "object_position": null,
      "order": null,
      "overflow": null,
      "overflow_x": null,
      "overflow_y": null,
      "padding": null,
      "right": null,
      "top": null,
      "visibility": null,
      "width": null
     }
    },
    "3c70a40399ee45659d2103a7a14f3b0e": {
     "model_module": "@jupyter-widgets/base",
     "model_name": "LayoutModel",
     "state": {
      "_model_module": "@jupyter-widgets/base",
      "_model_module_version": "1.2.0",
      "_model_name": "LayoutModel",
      "_view_count": null,
      "_view_module": "@jupyter-widgets/base",
      "_view_module_version": "1.2.0",
      "_view_name": "LayoutView",
      "align_content": null,
      "align_items": null,
      "align_self": null,
      "border": null,
      "bottom": null,
      "display": null,
      "flex": null,
      "flex_flow": null,
      "grid_area": null,
      "grid_auto_columns": null,
      "grid_auto_flow": null,
      "grid_auto_rows": null,
      "grid_column": null,
      "grid_gap": null,
      "grid_row": null,
      "grid_template_areas": null,
      "grid_template_columns": null,
      "grid_template_rows": null,
      "height": null,
      "justify_content": null,
      "justify_items": null,
      "left": null,
      "margin": null,
      "max_height": null,
      "max_width": null,
      "min_height": null,
      "min_width": null,
      "object_fit": null,
      "object_position": null,
      "order": null,
      "overflow": null,
      "overflow_x": null,
      "overflow_y": null,
      "padding": null,
      "right": null,
      "top": null,
      "visibility": null,
      "width": null
     }
    },
    "4f813541ed2f4fdc8b3bb4ea248f5dd4": {
     "model_module": "@jupyter-widgets/controls",
     "model_name": "ProgressStyleModel",
     "state": {
      "_model_module": "@jupyter-widgets/controls",
      "_model_module_version": "1.5.0",
      "_model_name": "ProgressStyleModel",
      "_view_count": null,
      "_view_module": "@jupyter-widgets/base",
      "_view_module_version": "1.2.0",
      "_view_name": "StyleView",
      "bar_color": null,
      "description_width": ""
     }
    },
    "51cae2b068e54d14bf15a0cb0ad77a48": {
     "model_module": "@jupyter-widgets/controls",
     "model_name": "IntProgressModel",
     "state": {
      "_dom_classes": [],
      "_model_module": "@jupyter-widgets/controls",
      "_model_module_version": "1.5.0",
      "_model_name": "IntProgressModel",
      "_view_count": null,
      "_view_module": "@jupyter-widgets/controls",
      "_view_module_version": "1.5.0",
      "_view_name": "ProgressView",
      "bar_style": "danger",
      "description": "",
      "description_tooltip": null,
      "layout": "IPY_MODEL_7c7027979088493b9b54e96c0547a84d",
      "max": 15000,
      "min": 0,
      "orientation": "horizontal",
      "style": "IPY_MODEL_4f813541ed2f4fdc8b3bb4ea248f5dd4",
      "value": 0
     }
    },
    "6b252265c48a40438b9db2d52c95b5d1": {
     "model_module": "@jupyter-widgets/base",
     "model_name": "LayoutModel",
     "state": {
      "_model_module": "@jupyter-widgets/base",
      "_model_module_version": "1.2.0",
      "_model_name": "LayoutModel",
      "_view_count": null,
      "_view_module": "@jupyter-widgets/base",
      "_view_module_version": "1.2.0",
      "_view_name": "LayoutView",
      "align_content": null,
      "align_items": null,
      "align_self": null,
      "border": null,
      "bottom": null,
      "display": null,
      "flex": null,
      "flex_flow": null,
      "grid_area": null,
      "grid_auto_columns": null,
      "grid_auto_flow": null,
      "grid_auto_rows": null,
      "grid_column": null,
      "grid_gap": null,
      "grid_row": null,
      "grid_template_areas": null,
      "grid_template_columns": null,
      "grid_template_rows": null,
      "height": null,
      "justify_content": null,
      "justify_items": null,
      "left": null,
      "margin": null,
      "max_height": null,
      "max_width": null,
      "min_height": null,
      "min_width": null,
      "object_fit": null,
      "object_position": null,
      "order": null,
      "overflow": null,
      "overflow_x": null,
      "overflow_y": null,
      "padding": null,
      "right": null,
      "top": null,
      "visibility": null,
      "width": null
     }
    },
    "6b5540a2b156444d9d28cabb4a83cd22": {
     "model_module": "@jupyter-widgets/controls",
     "model_name": "ProgressStyleModel",
     "state": {
      "_model_module": "@jupyter-widgets/controls",
      "_model_module_version": "1.5.0",
      "_model_name": "ProgressStyleModel",
      "_view_count": null,
      "_view_module": "@jupyter-widgets/base",
      "_view_module_version": "1.2.0",
      "_view_name": "StyleView",
      "bar_color": null,
      "description_width": ""
     }
    },
    "6d20f44d8a164bc6bdb189312a6c833f": {
     "model_module": "@jupyter-widgets/controls",
     "model_name": "HBoxModel",
     "state": {
      "_dom_classes": [],
      "_model_module": "@jupyter-widgets/controls",
      "_model_module_version": "1.5.0",
      "_model_name": "HBoxModel",
      "_view_count": null,
      "_view_module": "@jupyter-widgets/controls",
      "_view_module_version": "1.5.0",
      "_view_name": "HBoxView",
      "box_style": "",
      "children": [
       "IPY_MODEL_30bb94d3308d46518a758f09324fd196",
       "IPY_MODEL_c8218ae88d6140109c00120da0fb3bed"
      ],
      "layout": "IPY_MODEL_09dd54eb90e0425bb2d9f3824e647dcf"
     }
    },
    "71244fd20445423281d38cb84e70c6f1": {
     "model_module": "@jupyter-widgets/base",
     "model_name": "LayoutModel",
     "state": {
      "_model_module": "@jupyter-widgets/base",
      "_model_module_version": "1.2.0",
      "_model_name": "LayoutModel",
      "_view_count": null,
      "_view_module": "@jupyter-widgets/base",
      "_view_module_version": "1.2.0",
      "_view_name": "LayoutView",
      "align_content": null,
      "align_items": null,
      "align_self": null,
      "border": null,
      "bottom": null,
      "display": null,
      "flex": null,
      "flex_flow": null,
      "grid_area": null,
      "grid_auto_columns": null,
      "grid_auto_flow": null,
      "grid_auto_rows": null,
      "grid_column": null,
      "grid_gap": null,
      "grid_row": null,
      "grid_template_areas": null,
      "grid_template_columns": null,
      "grid_template_rows": null,
      "height": null,
      "justify_content": null,
      "justify_items": null,
      "left": null,
      "margin": null,
      "max_height": null,
      "max_width": null,
      "min_height": null,
      "min_width": null,
      "object_fit": null,
      "object_position": null,
      "order": null,
      "overflow": null,
      "overflow_x": null,
      "overflow_y": null,
      "padding": null,
      "right": null,
      "top": null,
      "visibility": null,
      "width": null
     }
    },
    "7734b69cecc9425d935bdac72b6b6fd4": {
     "model_module": "@jupyter-widgets/controls",
     "model_name": "IntProgressModel",
     "state": {
      "_dom_classes": [],
      "_model_module": "@jupyter-widgets/controls",
      "_model_module_version": "1.5.0",
      "_model_name": "IntProgressModel",
      "_view_count": null,
      "_view_module": "@jupyter-widgets/controls",
      "_view_module_version": "1.5.0",
      "_view_name": "ProgressView",
      "bar_style": "success",
      "description": "",
      "description_tooltip": null,
      "layout": "IPY_MODEL_3c70a40399ee45659d2103a7a14f3b0e",
      "max": 1,
      "min": 0,
      "orientation": "horizontal",
      "style": "IPY_MODEL_8491435d217f4255a3b2d53f62f92a3f",
      "value": 1
     }
    },
    "7c7027979088493b9b54e96c0547a84d": {
     "model_module": "@jupyter-widgets/base",
     "model_name": "LayoutModel",
     "state": {
      "_model_module": "@jupyter-widgets/base",
      "_model_module_version": "1.2.0",
      "_model_name": "LayoutModel",
      "_view_count": null,
      "_view_module": "@jupyter-widgets/base",
      "_view_module_version": "1.2.0",
      "_view_name": "LayoutView",
      "align_content": null,
      "align_items": null,
      "align_self": null,
      "border": null,
      "bottom": null,
      "display": null,
      "flex": null,
      "flex_flow": null,
      "grid_area": null,
      "grid_auto_columns": null,
      "grid_auto_flow": null,
      "grid_auto_rows": null,
      "grid_column": null,
      "grid_gap": null,
      "grid_row": null,
      "grid_template_areas": null,
      "grid_template_columns": null,
      "grid_template_rows": null,
      "height": null,
      "justify_content": null,
      "justify_items": null,
      "left": null,
      "margin": null,
      "max_height": null,
      "max_width": null,
      "min_height": null,
      "min_width": null,
      "object_fit": null,
      "object_position": null,
      "order": null,
      "overflow": null,
      "overflow_x": null,
      "overflow_y": null,
      "padding": null,
      "right": null,
      "top": null,
      "visibility": null,
      "width": null
     }
    },
    "80487e21eb3a4a59b5866a011b1e3cbc": {
     "model_module": "@jupyter-widgets/controls",
     "model_name": "ProgressStyleModel",
     "state": {
      "_model_module": "@jupyter-widgets/controls",
      "_model_module_version": "1.5.0",
      "_model_name": "ProgressStyleModel",
      "_view_count": null,
      "_view_module": "@jupyter-widgets/base",
      "_view_module_version": "1.2.0",
      "_view_name": "StyleView",
      "bar_color": null,
      "description_width": ""
     }
    },
    "80576c6b856145a5ab38dbb03d9bc8b4": {
     "model_module": "@jupyter-widgets/controls",
     "model_name": "HBoxModel",
     "state": {
      "_dom_classes": [],
      "_model_module": "@jupyter-widgets/controls",
      "_model_module_version": "1.5.0",
      "_model_name": "HBoxModel",
      "_view_count": null,
      "_view_module": "@jupyter-widgets/controls",
      "_view_module_version": "1.5.0",
      "_view_name": "HBoxView",
      "box_style": "",
      "children": [
       "IPY_MODEL_7734b69cecc9425d935bdac72b6b6fd4",
       "IPY_MODEL_2c1c430a52b44ec790af25959f93f31b"
      ],
      "layout": "IPY_MODEL_20ebb80b48bb4dd78d8e1536b872a0ed"
     }
    },
    "821d381b79994c2fa829a93fd77bbcc4": {
     "model_module": "@jupyter-widgets/controls",
     "model_name": "ProgressStyleModel",
     "state": {
      "_model_module": "@jupyter-widgets/controls",
      "_model_module_version": "1.5.0",
      "_model_name": "ProgressStyleModel",
      "_view_count": null,
      "_view_module": "@jupyter-widgets/base",
      "_view_module_version": "1.2.0",
      "_view_name": "StyleView",
      "bar_color": null,
      "description_width": ""
     }
    },
    "8491435d217f4255a3b2d53f62f92a3f": {
     "model_module": "@jupyter-widgets/controls",
     "model_name": "ProgressStyleModel",
     "state": {
      "_model_module": "@jupyter-widgets/controls",
      "_model_module_version": "1.5.0",
      "_model_name": "ProgressStyleModel",
      "_view_count": null,
      "_view_module": "@jupyter-widgets/base",
      "_view_module_version": "1.2.0",
      "_view_name": "StyleView",
      "bar_color": null,
      "description_width": ""
     }
    },
    "91943cb526ef4ca9b8a7ac0221f1a90a": {
     "model_module": "@jupyter-widgets/base",
     "model_name": "LayoutModel",
     "state": {
      "_model_module": "@jupyter-widgets/base",
      "_model_module_version": "1.2.0",
      "_model_name": "LayoutModel",
      "_view_count": null,
      "_view_module": "@jupyter-widgets/base",
      "_view_module_version": "1.2.0",
      "_view_name": "LayoutView",
      "align_content": null,
      "align_items": null,
      "align_self": null,
      "border": null,
      "bottom": null,
      "display": null,
      "flex": null,
      "flex_flow": null,
      "grid_area": null,
      "grid_auto_columns": null,
      "grid_auto_flow": null,
      "grid_auto_rows": null,
      "grid_column": null,
      "grid_gap": null,
      "grid_row": null,
      "grid_template_areas": null,
      "grid_template_columns": null,
      "grid_template_rows": null,
      "height": null,
      "justify_content": null,
      "justify_items": null,
      "left": null,
      "margin": null,
      "max_height": null,
      "max_width": null,
      "min_height": null,
      "min_width": null,
      "object_fit": null,
      "object_position": null,
      "order": null,
      "overflow": null,
      "overflow_x": null,
      "overflow_y": null,
      "padding": null,
      "right": null,
      "top": null,
      "visibility": null,
      "width": null
     }
    },
    "93430f35d5b7403b91ef3c805fc165da": {
     "model_module": "@jupyter-widgets/controls",
     "model_name": "IntProgressModel",
     "state": {
      "_dom_classes": [],
      "_model_module": "@jupyter-widgets/controls",
      "_model_module_version": "1.5.0",
      "_model_name": "IntProgressModel",
      "_view_count": null,
      "_view_module": "@jupyter-widgets/controls",
      "_view_module_version": "1.5.0",
      "_view_name": "ProgressView",
      "bar_style": "success",
      "description": "",
      "description_tooltip": null,
      "layout": "IPY_MODEL_29afa8cf922c4d0a8f9536c2c357049c",
      "max": 231657,
      "min": 0,
      "orientation": "horizontal",
      "style": "IPY_MODEL_80487e21eb3a4a59b5866a011b1e3cbc",
      "value": 231657
     }
    },
    "94fa80a9a2f8426b8374862e2125996c": {
     "model_module": "@jupyter-widgets/controls",
     "model_name": "HBoxModel",
     "state": {
      "_dom_classes": [],
      "_model_module": "@jupyter-widgets/controls",
      "_model_module_version": "1.5.0",
      "_model_name": "HBoxModel",
      "_view_count": null,
      "_view_module": "@jupyter-widgets/controls",
      "_view_module_version": "1.5.0",
      "_view_name": "HBoxView",
      "box_style": "",
      "children": [
       "IPY_MODEL_08189d5c3d7a47efb533e8794e84cbe7",
       "IPY_MODEL_abba14b88f914cac8b798132165ca35e"
      ],
      "layout": "IPY_MODEL_3b0212edb62343478df1d31dff2e5c57"
     }
    },
    "aa56a5a13a824f01bbc6d22063e1909b": {
     "model_module": "@jupyter-widgets/controls",
     "model_name": "DescriptionStyleModel",
     "state": {
      "_model_module": "@jupyter-widgets/controls",
      "_model_module_version": "1.5.0",
      "_model_name": "DescriptionStyleModel",
      "_view_count": null,
      "_view_module": "@jupyter-widgets/base",
      "_view_module_version": "1.2.0",
      "_view_name": "StyleView",
      "description_width": ""
     }
    },
    "abba14b88f914cac8b798132165ca35e": {
     "model_module": "@jupyter-widgets/controls",
     "model_name": "HTMLModel",
     "state": {
      "_dom_classes": [],
      "_model_module": "@jupyter-widgets/controls",
      "_model_module_version": "1.5.0",
      "_model_name": "HTMLModel",
      "_view_count": null,
      "_view_module": "@jupyter-widgets/controls",
      "_view_module_version": "1.5.0",
      "_view_name": "HTMLView",
      "description": "",
      "description_tooltip": null,
      "layout": "IPY_MODEL_0dcf66c3542944029ae9537305958d86",
      "placeholder": "​",
      "style": "IPY_MODEL_aa56a5a13a824f01bbc6d22063e1909b",
      "value": "100% 231657/231657 [00:04&lt;00:00, 50870.60it/s]"
     }
    },
    "b28c2fa87f7b4d43b6696bbf18fa2973": {
     "model_module": "@jupyter-widgets/controls",
     "model_name": "DescriptionStyleModel",
     "state": {
      "_model_module": "@jupyter-widgets/controls",
      "_model_module_version": "1.5.0",
      "_model_name": "DescriptionStyleModel",
      "_view_count": null,
      "_view_module": "@jupyter-widgets/base",
      "_view_module_version": "1.2.0",
      "_view_name": "StyleView",
      "description_width": ""
     }
    },
    "c8218ae88d6140109c00120da0fb3bed": {
     "model_module": "@jupyter-widgets/controls",
     "model_name": "HTMLModel",
     "state": {
      "_dom_classes": [],
      "_model_module": "@jupyter-widgets/controls",
      "_model_module_version": "1.5.0",
      "_model_name": "HTMLModel",
      "_view_count": null,
      "_view_module": "@jupyter-widgets/controls",
      "_view_module_version": "1.5.0",
      "_view_name": "HTMLView",
      "description": "",
      "description_tooltip": null,
      "layout": "IPY_MODEL_71244fd20445423281d38cb84e70c6f1",
      "placeholder": "​",
      "style": "IPY_MODEL_dc8c5c1f9d7841d89c4d3f48e1ca2425",
      "value": "100% 231657/231657 [00:00&lt;00:00, 522111.38it/s]"
     }
    },
    "cd992671ac554abbaf3c372ee6f3204b": {
     "model_module": "@jupyter-widgets/base",
     "model_name": "LayoutModel",
     "state": {
      "_model_module": "@jupyter-widgets/base",
      "_model_module_version": "1.2.0",
      "_model_name": "LayoutModel",
      "_view_count": null,
      "_view_module": "@jupyter-widgets/base",
      "_view_module_version": "1.2.0",
      "_view_name": "LayoutView",
      "align_content": null,
      "align_items": null,
      "align_self": null,
      "border": null,
      "bottom": null,
      "display": null,
      "flex": null,
      "flex_flow": null,
      "grid_area": null,
      "grid_auto_columns": null,
      "grid_auto_flow": null,
      "grid_auto_rows": null,
      "grid_column": null,
      "grid_gap": null,
      "grid_row": null,
      "grid_template_areas": null,
      "grid_template_columns": null,
      "grid_template_rows": null,
      "height": null,
      "justify_content": null,
      "justify_items": null,
      "left": null,
      "margin": null,
      "max_height": null,
      "max_width": null,
      "min_height": null,
      "min_width": null,
      "object_fit": null,
      "object_position": null,
      "order": null,
      "overflow": null,
      "overflow_x": null,
      "overflow_y": null,
      "padding": null,
      "right": null,
      "top": null,
      "visibility": null,
      "width": null
     }
    },
    "cee1e418ba124eee839a7bd474d0e2ac": {
     "model_module": "@jupyter-widgets/base",
     "model_name": "LayoutModel",
     "state": {
      "_model_module": "@jupyter-widgets/base",
      "_model_module_version": "1.2.0",
      "_model_name": "LayoutModel",
      "_view_count": null,
      "_view_module": "@jupyter-widgets/base",
      "_view_module_version": "1.2.0",
      "_view_name": "LayoutView",
      "align_content": null,
      "align_items": null,
      "align_self": null,
      "border": null,
      "bottom": null,
      "display": null,
      "flex": null,
      "flex_flow": null,
      "grid_area": null,
      "grid_auto_columns": null,
      "grid_auto_flow": null,
      "grid_auto_rows": null,
      "grid_column": null,
      "grid_gap": null,
      "grid_row": null,
      "grid_template_areas": null,
      "grid_template_columns": null,
      "grid_template_rows": null,
      "height": null,
      "justify_content": null,
      "justify_items": null,
      "left": null,
      "margin": null,
      "max_height": null,
      "max_width": null,
      "min_height": null,
      "min_width": null,
      "object_fit": null,
      "object_position": null,
      "order": null,
      "overflow": null,
      "overflow_x": null,
      "overflow_y": null,
      "padding": null,
      "right": null,
      "top": null,
      "visibility": null,
      "width": null
     }
    },
    "d552982bd5c942c48197e1ef0ed99376": {
     "model_module": "@jupyter-widgets/base",
     "model_name": "LayoutModel",
     "state": {
      "_model_module": "@jupyter-widgets/base",
      "_model_module_version": "1.2.0",
      "_model_name": "LayoutModel",
      "_view_count": null,
      "_view_module": "@jupyter-widgets/base",
      "_view_module_version": "1.2.0",
      "_view_name": "LayoutView",
      "align_content": null,
      "align_items": null,
      "align_self": null,
      "border": null,
      "bottom": null,
      "display": null,
      "flex": null,
      "flex_flow": null,
      "grid_area": null,
      "grid_auto_columns": null,
      "grid_auto_flow": null,
      "grid_auto_rows": null,
      "grid_column": null,
      "grid_gap": null,
      "grid_row": null,
      "grid_template_areas": null,
      "grid_template_columns": null,
      "grid_template_rows": null,
      "height": null,
      "justify_content": null,
      "justify_items": null,
      "left": null,
      "margin": null,
      "max_height": null,
      "max_width": null,
      "min_height": null,
      "min_width": null,
      "object_fit": null,
      "object_position": null,
      "order": null,
      "overflow": null,
      "overflow_x": null,
      "overflow_y": null,
      "padding": null,
      "right": null,
      "top": null,
      "visibility": null,
      "width": null
     }
    },
    "d68688def387492c86f61760da94a374": {
     "model_module": "@jupyter-widgets/base",
     "model_name": "LayoutModel",
     "state": {
      "_model_module": "@jupyter-widgets/base",
      "_model_module_version": "1.2.0",
      "_model_name": "LayoutModel",
      "_view_count": null,
      "_view_module": "@jupyter-widgets/base",
      "_view_module_version": "1.2.0",
      "_view_name": "LayoutView",
      "align_content": null,
      "align_items": null,
      "align_self": null,
      "border": null,
      "bottom": null,
      "display": null,
      "flex": null,
      "flex_flow": null,
      "grid_area": null,
      "grid_auto_columns": null,
      "grid_auto_flow": null,
      "grid_auto_rows": null,
      "grid_column": null,
      "grid_gap": null,
      "grid_row": null,
      "grid_template_areas": null,
      "grid_template_columns": null,
      "grid_template_rows": null,
      "height": null,
      "justify_content": null,
      "justify_items": null,
      "left": null,
      "margin": null,
      "max_height": null,
      "max_width": null,
      "min_height": null,
      "min_width": null,
      "object_fit": null,
      "object_position": null,
      "order": null,
      "overflow": null,
      "overflow_x": null,
      "overflow_y": null,
      "padding": null,
      "right": null,
      "top": null,
      "visibility": null,
      "width": null
     }
    },
    "d95cfa3f4d4b480dbc404a2b2984a579": {
     "model_module": "@jupyter-widgets/base",
     "model_name": "LayoutModel",
     "state": {
      "_model_module": "@jupyter-widgets/base",
      "_model_module_version": "1.2.0",
      "_model_name": "LayoutModel",
      "_view_count": null,
      "_view_module": "@jupyter-widgets/base",
      "_view_module_version": "1.2.0",
      "_view_name": "LayoutView",
      "align_content": null,
      "align_items": null,
      "align_self": null,
      "border": null,
      "bottom": null,
      "display": null,
      "flex": null,
      "flex_flow": null,
      "grid_area": null,
      "grid_auto_columns": null,
      "grid_auto_flow": null,
      "grid_auto_rows": null,
      "grid_column": null,
      "grid_gap": null,
      "grid_row": null,
      "grid_template_areas": null,
      "grid_template_columns": null,
      "grid_template_rows": null,
      "height": null,
      "justify_content": null,
      "justify_items": null,
      "left": null,
      "margin": null,
      "max_height": null,
      "max_width": null,
      "min_height": null,
      "min_width": null,
      "object_fit": null,
      "object_position": null,
      "order": null,
      "overflow": null,
      "overflow_x": null,
      "overflow_y": null,
      "padding": null,
      "right": null,
      "top": null,
      "visibility": null,
      "width": null
     }
    },
    "dc8c5c1f9d7841d89c4d3f48e1ca2425": {
     "model_module": "@jupyter-widgets/controls",
     "model_name": "DescriptionStyleModel",
     "state": {
      "_model_module": "@jupyter-widgets/controls",
      "_model_module_version": "1.5.0",
      "_model_name": "DescriptionStyleModel",
      "_view_count": null,
      "_view_module": "@jupyter-widgets/base",
      "_view_module_version": "1.2.0",
      "_view_name": "StyleView",
      "description_width": ""
     }
    },
    "e0b35674e110435b8d6491d10d4b8ea2": {
     "model_module": "@jupyter-widgets/controls",
     "model_name": "DescriptionStyleModel",
     "state": {
      "_model_module": "@jupyter-widgets/controls",
      "_model_module_version": "1.5.0",
      "_model_name": "DescriptionStyleModel",
      "_view_count": null,
      "_view_module": "@jupyter-widgets/base",
      "_view_module_version": "1.2.0",
      "_view_name": "StyleView",
      "description_width": ""
     }
    },
    "f62b45f509e14a24b02b193046d2adb9": {
     "model_module": "@jupyter-widgets/controls",
     "model_name": "HBoxModel",
     "state": {
      "_dom_classes": [],
      "_model_module": "@jupyter-widgets/controls",
      "_model_module_version": "1.5.0",
      "_model_name": "HBoxModel",
      "_view_count": null,
      "_view_module": "@jupyter-widgets/controls",
      "_view_module_version": "1.5.0",
      "_view_name": "HBoxView",
      "box_style": "",
      "children": [
       "IPY_MODEL_51cae2b068e54d14bf15a0cb0ad77a48",
       "IPY_MODEL_0161b7b3ab234960a3729ca121b2eb5d"
      ],
      "layout": "IPY_MODEL_d95cfa3f4d4b480dbc404a2b2984a579"
     }
    }
   }
  }
 },
 "nbformat": 4,
 "nbformat_minor": 1
}
